{
  "cells": [
    {
      "cell_type": "markdown",
      "metadata": {
        "id": "_Oic4jVuA57Y"
      },
      "source": [
        "# Nesse caderno quero analisar as denuncias a empresas do Brasil, retiradas de uma planilha vazada ano passado.\n",
        "\n",
        "# Quero a principio categorizar essas denuncias.\n",
        "\n",
        "## Aluno: José Luan Silva do Nascimento\n",
        "\n",
        "##### Tentei fazer o caderno para pegar reclamações do reclameaqui e apatir de uma nova reclamação inferir quando ela seria respondida, porém o site e aplicativo tem uma camada de segurança muito boa. Tentei pegar do site consumidor.gov, mas também não deu certo."
      ]
    },
    {
      "cell_type": "code",
      "execution_count": null,
      "metadata": {},
      "outputs": [
        {
          "name": "stdout",
          "output_type": "stream",
          "text": [
            "Requirement already satisfied: gdown in c:\\users\\josel\\appdata\\local\\programs\\python\\python312\\lib\\site-packages (5.2.0)\n",
            "Requirement already satisfied: beautifulsoup4 in c:\\users\\josel\\appdata\\local\\programs\\python\\python312\\lib\\site-packages (from gdown) (4.13.4)\n",
            "Requirement already satisfied: filelock in c:\\users\\josel\\appdata\\local\\programs\\python\\python312\\lib\\site-packages (from gdown) (3.18.0)\n",
            "Requirement already satisfied: requests[socks] in c:\\users\\josel\\appdata\\local\\programs\\python\\python312\\lib\\site-packages (from gdown) (2.32.4)\n",
            "Requirement already satisfied: tqdm in c:\\users\\josel\\appdata\\local\\programs\\python\\python312\\lib\\site-packages (from gdown) (4.67.1)\n",
            "Requirement already satisfied: soupsieve>1.2 in c:\\users\\josel\\appdata\\local\\programs\\python\\python312\\lib\\site-packages (from beautifulsoup4->gdown) (2.7)\n",
            "Requirement already satisfied: typing-extensions>=4.0.0 in c:\\users\\josel\\appdata\\local\\programs\\python\\python312\\lib\\site-packages (from beautifulsoup4->gdown) (4.14.0)\n",
            "Requirement already satisfied: charset_normalizer<4,>=2 in c:\\users\\josel\\appdata\\local\\programs\\python\\python312\\lib\\site-packages (from requests[socks]->gdown) (3.4.2)\n",
            "Requirement already satisfied: idna<4,>=2.5 in c:\\users\\josel\\appdata\\local\\programs\\python\\python312\\lib\\site-packages (from requests[socks]->gdown) (3.10)\n",
            "Requirement already satisfied: urllib3<3,>=1.21.1 in c:\\users\\josel\\appdata\\local\\programs\\python\\python312\\lib\\site-packages (from requests[socks]->gdown) (2.4.0)\n",
            "Requirement already satisfied: certifi>=2017.4.17 in c:\\users\\josel\\appdata\\local\\programs\\python\\python312\\lib\\site-packages (from requests[socks]->gdown) (2025.6.15)\n",
            "Requirement already satisfied: PySocks!=1.5.7,>=1.5.6 in c:\\users\\josel\\appdata\\local\\programs\\python\\python312\\lib\\site-packages (from requests[socks]->gdown) (1.7.1)\n",
            "Requirement already satisfied: colorama in c:\\users\\josel\\appdata\\roaming\\python\\python312\\site-packages (from tqdm->gdown) (0.4.6)\n",
            "Requirement already satisfied: spacy in c:\\users\\josel\\appdata\\local\\programs\\python\\python312\\lib\\site-packages (3.8.7)\n",
            "Requirement already satisfied: spacy-legacy<3.1.0,>=3.0.11 in c:\\users\\josel\\appdata\\local\\programs\\python\\python312\\lib\\site-packages (from spacy) (3.0.12)\n",
            "Requirement already satisfied: spacy-loggers<2.0.0,>=1.0.0 in c:\\users\\josel\\appdata\\local\\programs\\python\\python312\\lib\\site-packages (from spacy) (1.0.5)\n",
            "Requirement already satisfied: murmurhash<1.1.0,>=0.28.0 in c:\\users\\josel\\appdata\\local\\programs\\python\\python312\\lib\\site-packages (from spacy) (1.0.13)\n",
            "Requirement already satisfied: cymem<2.1.0,>=2.0.2 in c:\\users\\josel\\appdata\\local\\programs\\python\\python312\\lib\\site-packages (from spacy) (2.0.11)\n",
            "Requirement already satisfied: preshed<3.1.0,>=3.0.2 in c:\\users\\josel\\appdata\\local\\programs\\python\\python312\\lib\\site-packages (from spacy) (3.0.10)\n",
            "Requirement already satisfied: thinc<8.4.0,>=8.3.4 in c:\\users\\josel\\appdata\\local\\programs\\python\\python312\\lib\\site-packages (from spacy) (8.3.6)\n",
            "Requirement already satisfied: wasabi<1.2.0,>=0.9.1 in c:\\users\\josel\\appdata\\local\\programs\\python\\python312\\lib\\site-packages (from spacy) (1.1.3)\n",
            "Requirement already satisfied: srsly<3.0.0,>=2.4.3 in c:\\users\\josel\\appdata\\local\\programs\\python\\python312\\lib\\site-packages (from spacy) (2.5.1)\n",
            "Requirement already satisfied: catalogue<2.1.0,>=2.0.6 in c:\\users\\josel\\appdata\\local\\programs\\python\\python312\\lib\\site-packages (from spacy) (2.0.10)\n",
            "Requirement already satisfied: weasel<0.5.0,>=0.1.0 in c:\\users\\josel\\appdata\\local\\programs\\python\\python312\\lib\\site-packages (from spacy) (0.4.1)\n",
            "Requirement already satisfied: typer<1.0.0,>=0.3.0 in c:\\users\\josel\\appdata\\local\\programs\\python\\python312\\lib\\site-packages (from spacy) (0.16.0)\n",
            "Requirement already satisfied: tqdm<5.0.0,>=4.38.0 in c:\\users\\josel\\appdata\\local\\programs\\python\\python312\\lib\\site-packages (from spacy) (4.67.1)\n",
            "Requirement already satisfied: numpy>=1.19.0 in c:\\users\\josel\\appdata\\local\\programs\\python\\python312\\lib\\site-packages (from spacy) (2.3.0)\n",
            "Requirement already satisfied: requests<3.0.0,>=2.13.0 in c:\\users\\josel\\appdata\\local\\programs\\python\\python312\\lib\\site-packages (from spacy) (2.32.4)\n",
            "Requirement already satisfied: pydantic!=1.8,!=1.8.1,<3.0.0,>=1.7.4 in c:\\users\\josel\\appdata\\local\\programs\\python\\python312\\lib\\site-packages (from spacy) (2.11.7)\n",
            "Requirement already satisfied: jinja2 in c:\\users\\josel\\appdata\\local\\programs\\python\\python312\\lib\\site-packages (from spacy) (3.1.6)\n",
            "Requirement already satisfied: setuptools in c:\\users\\josel\\appdata\\local\\programs\\python\\python312\\lib\\site-packages (from spacy) (80.9.0)\n",
            "Requirement already satisfied: packaging>=20.0 in c:\\users\\josel\\appdata\\roaming\\python\\python312\\site-packages (from spacy) (25.0)\n",
            "Requirement already satisfied: langcodes<4.0.0,>=3.2.0 in c:\\users\\josel\\appdata\\local\\programs\\python\\python312\\lib\\site-packages (from spacy) (3.5.0)\n",
            "Requirement already satisfied: language-data>=1.2 in c:\\users\\josel\\appdata\\local\\programs\\python\\python312\\lib\\site-packages (from langcodes<4.0.0,>=3.2.0->spacy) (1.3.0)\n",
            "Requirement already satisfied: annotated-types>=0.6.0 in c:\\users\\josel\\appdata\\local\\programs\\python\\python312\\lib\\site-packages (from pydantic!=1.8,!=1.8.1,<3.0.0,>=1.7.4->spacy) (0.7.0)\n",
            "Requirement already satisfied: pydantic-core==2.33.2 in c:\\users\\josel\\appdata\\local\\programs\\python\\python312\\lib\\site-packages (from pydantic!=1.8,!=1.8.1,<3.0.0,>=1.7.4->spacy) (2.33.2)\n",
            "Requirement already satisfied: typing-extensions>=4.12.2 in c:\\users\\josel\\appdata\\local\\programs\\python\\python312\\lib\\site-packages (from pydantic!=1.8,!=1.8.1,<3.0.0,>=1.7.4->spacy) (4.14.0)\n",
            "Requirement already satisfied: typing-inspection>=0.4.0 in c:\\users\\josel\\appdata\\local\\programs\\python\\python312\\lib\\site-packages (from pydantic!=1.8,!=1.8.1,<3.0.0,>=1.7.4->spacy) (0.4.1)\n",
            "Requirement already satisfied: charset_normalizer<4,>=2 in c:\\users\\josel\\appdata\\local\\programs\\python\\python312\\lib\\site-packages (from requests<3.0.0,>=2.13.0->spacy) (3.4.2)\n",
            "Requirement already satisfied: idna<4,>=2.5 in c:\\users\\josel\\appdata\\local\\programs\\python\\python312\\lib\\site-packages (from requests<3.0.0,>=2.13.0->spacy) (3.10)\n",
            "Requirement already satisfied: urllib3<3,>=1.21.1 in c:\\users\\josel\\appdata\\local\\programs\\python\\python312\\lib\\site-packages (from requests<3.0.0,>=2.13.0->spacy) (2.4.0)\n",
            "Requirement already satisfied: certifi>=2017.4.17 in c:\\users\\josel\\appdata\\local\\programs\\python\\python312\\lib\\site-packages (from requests<3.0.0,>=2.13.0->spacy) (2025.6.15)\n",
            "Requirement already satisfied: blis<1.4.0,>=1.3.0 in c:\\users\\josel\\appdata\\local\\programs\\python\\python312\\lib\\site-packages (from thinc<8.4.0,>=8.3.4->spacy) (1.3.0)\n",
            "Requirement already satisfied: confection<1.0.0,>=0.0.1 in c:\\users\\josel\\appdata\\local\\programs\\python\\python312\\lib\\site-packages (from thinc<8.4.0,>=8.3.4->spacy) (0.1.5)\n",
            "Requirement already satisfied: colorama in c:\\users\\josel\\appdata\\roaming\\python\\python312\\site-packages (from tqdm<5.0.0,>=4.38.0->spacy) (0.4.6)\n",
            "Requirement already satisfied: click>=8.0.0 in c:\\users\\josel\\appdata\\local\\programs\\python\\python312\\lib\\site-packages (from typer<1.0.0,>=0.3.0->spacy) (8.2.1)\n",
            "Requirement already satisfied: shellingham>=1.3.0 in c:\\users\\josel\\appdata\\local\\programs\\python\\python312\\lib\\site-packages (from typer<1.0.0,>=0.3.0->spacy) (1.5.4)\n",
            "Requirement already satisfied: rich>=10.11.0 in c:\\users\\josel\\appdata\\local\\programs\\python\\python312\\lib\\site-packages (from typer<1.0.0,>=0.3.0->spacy) (14.0.0)\n",
            "Requirement already satisfied: cloudpathlib<1.0.0,>=0.7.0 in c:\\users\\josel\\appdata\\local\\programs\\python\\python312\\lib\\site-packages (from weasel<0.5.0,>=0.1.0->spacy) (0.21.1)\n",
            "Requirement already satisfied: smart-open<8.0.0,>=5.2.1 in c:\\users\\josel\\appdata\\local\\programs\\python\\python312\\lib\\site-packages (from weasel<0.5.0,>=0.1.0->spacy) (7.1.0)\n",
            "Requirement already satisfied: wrapt in c:\\users\\josel\\appdata\\local\\programs\\python\\python312\\lib\\site-packages (from smart-open<8.0.0,>=5.2.1->weasel<0.5.0,>=0.1.0->spacy) (1.17.2)\n",
            "Requirement already satisfied: marisa-trie>=1.1.0 in c:\\users\\josel\\appdata\\local\\programs\\python\\python312\\lib\\site-packages (from language-data>=1.2->langcodes<4.0.0,>=3.2.0->spacy) (1.2.1)\n",
            "Requirement already satisfied: markdown-it-py>=2.2.0 in c:\\users\\josel\\appdata\\local\\programs\\python\\python312\\lib\\site-packages (from rich>=10.11.0->typer<1.0.0,>=0.3.0->spacy) (3.0.0)\n",
            "Requirement already satisfied: pygments<3.0.0,>=2.13.0 in c:\\users\\josel\\appdata\\roaming\\python\\python312\\site-packages (from rich>=10.11.0->typer<1.0.0,>=0.3.0->spacy) (2.19.1)\n",
            "Requirement already satisfied: mdurl~=0.1 in c:\\users\\josel\\appdata\\local\\programs\\python\\python312\\lib\\site-packages (from markdown-it-py>=2.2.0->rich>=10.11.0->typer<1.0.0,>=0.3.0->spacy) (0.1.2)\n",
            "Requirement already satisfied: MarkupSafe>=2.0 in c:\\users\\josel\\appdata\\local\\programs\\python\\python312\\lib\\site-packages (from jinja2->spacy) (3.0.2)\n",
            "Collecting sklearn\n",
            "  Using cached sklearn-0.0.post12.tar.gz (2.6 kB)\n",
            "  Installing build dependencies: started\n",
            "  Installing build dependencies: finished with status 'done'\n",
            "  Getting requirements to build wheel: started\n",
            "  Getting requirements to build wheel: finished with status 'error'\n"
          ]
        },
        {
          "name": "stderr",
          "output_type": "stream",
          "text": [
            "  error: subprocess-exited-with-error\n",
            "  \n",
            "  × Getting requirements to build wheel did not run successfully.\n",
            "  │ exit code: 1\n",
            "  ╰─> [15 lines of output]\n",
            "      The 'sklearn' PyPI package is deprecated, use 'scikit-learn'\n",
            "      rather than 'sklearn' for pip commands.\n",
            "      \n",
            "      Here is how to fix this error in the main use cases:\n",
            "      - use 'pip install scikit-learn' rather than 'pip install sklearn'\n",
            "      - replace 'sklearn' by 'scikit-learn' in your pip requirements files\n",
            "        (requirements.txt, setup.py, setup.cfg, Pipfile, etc ...)\n",
            "      - if the 'sklearn' package is used by one of your dependencies,\n",
            "        it would be great if you take some time to track which package uses\n",
            "        'sklearn' instead of 'scikit-learn' and report it to their issue tracker\n",
            "      - as a last resort, set the environment variable\n",
            "        SKLEARN_ALLOW_DEPRECATED_SKLEARN_PACKAGE_INSTALL=True to avoid this error\n",
            "      \n",
            "      More information is available at\n",
            "      https://github.com/scikit-learn/sklearn-pypi-package\n",
            "      [end of output]\n",
            "  \n",
            "  note: This error originates from a subprocess, and is likely not a problem with pip.\n",
            "error: subprocess-exited-with-error\n",
            "\n",
            "× Getting requirements to build wheel did not run successfully.\n",
            "│ exit code: 1\n",
            "╰─> See above for output.\n",
            "\n",
            "note: This error originates from a subprocess, and is likely not a problem with pip.\n"
          ]
        },
        {
          "name": "stdout",
          "output_type": "stream",
          "text": [
            "Requirement already satisfied: nbformat in c:\\users\\josel\\appdata\\local\\programs\\python\\python312\\lib\\site-packages (5.10.4)\n",
            "Requirement already satisfied: fastjsonschema>=2.15 in c:\\users\\josel\\appdata\\local\\programs\\python\\python312\\lib\\site-packages (from nbformat) (2.21.1)\n",
            "Requirement already satisfied: jsonschema>=2.6 in c:\\users\\josel\\appdata\\local\\programs\\python\\python312\\lib\\site-packages (from nbformat) (4.24.0)\n",
            "Requirement already satisfied: jupyter-core!=5.0.*,>=4.12 in c:\\users\\josel\\appdata\\roaming\\python\\python312\\site-packages (from nbformat) (5.8.1)\n",
            "Requirement already satisfied: traitlets>=5.1 in c:\\users\\josel\\appdata\\roaming\\python\\python312\\site-packages (from nbformat) (5.14.3)\n",
            "Requirement already satisfied: attrs>=22.2.0 in c:\\users\\josel\\appdata\\local\\programs\\python\\python312\\lib\\site-packages (from jsonschema>=2.6->nbformat) (25.3.0)\n",
            "Requirement already satisfied: jsonschema-specifications>=2023.03.6 in c:\\users\\josel\\appdata\\local\\programs\\python\\python312\\lib\\site-packages (from jsonschema>=2.6->nbformat) (2025.4.1)\n",
            "Requirement already satisfied: referencing>=0.28.4 in c:\\users\\josel\\appdata\\local\\programs\\python\\python312\\lib\\site-packages (from jsonschema>=2.6->nbformat) (0.36.2)\n",
            "Requirement already satisfied: rpds-py>=0.7.1 in c:\\users\\josel\\appdata\\local\\programs\\python\\python312\\lib\\site-packages (from jsonschema>=2.6->nbformat) (0.25.1)\n",
            "Requirement already satisfied: platformdirs>=2.5 in c:\\users\\josel\\appdata\\roaming\\python\\python312\\site-packages (from jupyter-core!=5.0.*,>=4.12->nbformat) (4.3.8)\n",
            "Requirement already satisfied: pywin32>=300 in c:\\users\\josel\\appdata\\roaming\\python\\python312\\site-packages (from jupyter-core!=5.0.*,>=4.12->nbformat) (310)\n",
            "Requirement already satisfied: typing-extensions>=4.4.0 in c:\\users\\josel\\appdata\\local\\programs\\python\\python312\\lib\\site-packages (from referencing>=0.28.4->jsonschema>=2.6->nbformat) (4.14.0)\n",
            "Requirement already satisfied: scikit-learn in c:\\users\\josel\\appdata\\local\\programs\\python\\python312\\lib\\site-packages (1.7.0)\n",
            "Requirement already satisfied: scipy in c:\\users\\josel\\appdata\\local\\programs\\python\\python312\\lib\\site-packages (1.15.3)\n",
            "Requirement already satisfied: matplotlib in c:\\users\\josel\\appdata\\local\\programs\\python\\python312\\lib\\site-packages (3.10.3)\n",
            "Requirement already satisfied: numpy>=1.22.0 in c:\\users\\josel\\appdata\\local\\programs\\python\\python312\\lib\\site-packages (from scikit-learn) (2.3.0)\n",
            "Requirement already satisfied: joblib>=1.2.0 in c:\\users\\josel\\appdata\\local\\programs\\python\\python312\\lib\\site-packages (from scikit-learn) (1.5.1)\n",
            "Requirement already satisfied: threadpoolctl>=3.1.0 in c:\\users\\josel\\appdata\\local\\programs\\python\\python312\\lib\\site-packages (from scikit-learn) (3.6.0)\n",
            "Requirement already satisfied: contourpy>=1.0.1 in c:\\users\\josel\\appdata\\local\\programs\\python\\python312\\lib\\site-packages (from matplotlib) (1.3.2)\n",
            "Requirement already satisfied: cycler>=0.10 in c:\\users\\josel\\appdata\\local\\programs\\python\\python312\\lib\\site-packages (from matplotlib) (0.12.1)\n",
            "Requirement already satisfied: fonttools>=4.22.0 in c:\\users\\josel\\appdata\\local\\programs\\python\\python312\\lib\\site-packages (from matplotlib) (4.58.4)\n",
            "Requirement already satisfied: kiwisolver>=1.3.1 in c:\\users\\josel\\appdata\\local\\programs\\python\\python312\\lib\\site-packages (from matplotlib) (1.4.8)\n",
            "Requirement already satisfied: packaging>=20.0 in c:\\users\\josel\\appdata\\roaming\\python\\python312\\site-packages (from matplotlib) (25.0)\n",
            "Requirement already satisfied: pillow>=8 in c:\\users\\josel\\appdata\\local\\programs\\python\\python312\\lib\\site-packages (from matplotlib) (11.2.1)\n",
            "Requirement already satisfied: pyparsing>=2.3.1 in c:\\users\\josel\\appdata\\local\\programs\\python\\python312\\lib\\site-packages (from matplotlib) (3.2.3)\n",
            "Requirement already satisfied: python-dateutil>=2.7 in c:\\users\\josel\\appdata\\roaming\\python\\python312\\site-packages (from matplotlib) (2.9.0.post0)\n",
            "Requirement already satisfied: six>=1.5 in c:\\users\\josel\\appdata\\roaming\\python\\python312\\site-packages (from python-dateutil>=2.7->matplotlib) (1.17.0)\n",
            "Collecting pt-core-news-sm==3.8.0\n",
            "  Downloading https://github.com/explosion/spacy-models/releases/download/pt_core_news_sm-3.8.0/pt_core_news_sm-3.8.0-py3-none-any.whl (13.0 MB)\n",
            "     ---------------------------------------- 0.0/13.0 MB ? eta -:--:--\n",
            "     ---------- ----------------------------- 3.4/13.0 MB 18.3 MB/s eta 0:00:01\n",
            "     ----------------------- ---------------- 7.6/13.0 MB 18.8 MB/s eta 0:00:01\n",
            "     ----------------------------------- --- 11.8/13.0 MB 20.0 MB/s eta 0:00:01\n",
            "     --------------------------------------- 13.0/13.0 MB 18.9 MB/s eta 0:00:00\n",
            "\u001b[38;5;2m✔ Download and installation successful\u001b[0m\n",
            "You can now load the package via spacy.load('pt_core_news_sm')\n",
            "Requirement already satisfied: nltk in c:\\users\\josel\\appdata\\local\\programs\\python\\python312\\lib\\site-packages (3.9.1)\n",
            "Requirement already satisfied: click in c:\\users\\josel\\appdata\\local\\programs\\python\\python312\\lib\\site-packages (from nltk) (8.2.1)\n",
            "Requirement already satisfied: joblib in c:\\users\\josel\\appdata\\local\\programs\\python\\python312\\lib\\site-packages (from nltk) (1.5.1)\n",
            "Requirement already satisfied: regex>=2021.8.3 in c:\\users\\josel\\appdata\\local\\programs\\python\\python312\\lib\\site-packages (from nltk) (2024.11.6)\n",
            "Requirement already satisfied: tqdm in c:\\users\\josel\\appdata\\local\\programs\\python\\python312\\lib\\site-packages (from nltk) (4.67.1)\n",
            "Requirement already satisfied: colorama in c:\\users\\josel\\appdata\\roaming\\python\\python312\\site-packages (from click->nltk) (0.4.6)\n"
          ]
        }
      ],
      "source": [
        "!pip install gdown\n",
        "!pip install spacy\n",
        "!pip install sklearn\n",
        "!pip install nbformat --upgrade\n",
        "!pip install -U scikit-learn scipy matplotlib\n",
        "!python -m spacy download pt_core_news_sm\n",
        "!pip install nltk\n",
        "!pip install plotly\n",
        "!python -m nltk.downloader punkt averaged_perceptron_tagger stopwords"
      ]
    },
    {
      "cell_type": "code",
      "execution_count": 2,
      "metadata": {
        "colab": {
          "base_uri": "https://localhost:8080/",
          "height": 105
        },
        "id": "6P5wk4Bkc0LS",
        "outputId": "b626acf8-a94f-4161-b4c5-16b4a19e32a8"
      },
      "outputs": [
        {
          "data": {
            "text/html": [
              "<div>\n",
              "<style scoped>\n",
              "    .dataframe tbody tr th:only-of-type {\n",
              "        vertical-align: middle;\n",
              "    }\n",
              "\n",
              "    .dataframe tbody tr th {\n",
              "        vertical-align: top;\n",
              "    }\n",
              "\n",
              "    .dataframe thead th {\n",
              "        text-align: right;\n",
              "    }\n",
              "</style>\n",
              "<table border=\"1\" class=\"dataframe\">\n",
              "  <thead>\n",
              "    <tr style=\"text-align: right;\">\n",
              "      <th></th>\n",
              "      <th>ium</th>\n",
              "      <th>Carimbo de data/hora</th>\n",
              "      <th>Nome da empresa</th>\n",
              "      <th>Denúncia</th>\n",
              "      <th>CAPTCHA Matemático: 4 menos 4</th>\n",
              "      <th>Você é</th>\n",
              "      <th>Em quais categorias sua denúncia se encaixa?</th>\n",
              "      <th>Possui ÁUDIO, CAPTURAS DE TELA, VÍDEO, CONVERSAS COM COLEGAS?  Acesse exposedworkplaces.com/provas e nos envie ANONIMAMENTE</th>\n",
              "      <th>Qual nota você daria para esta empresa?</th>\n",
              "      <th>Possui provas? VÍDEO, AÚDIO, CAPTURAS DE TELA? acesse file.io e</th>\n",
              "      <th>Possui provas? PRINT, ÁUDIO, VÍDEO... nos envie! Em caso de vídeos longos, poste no YouTube como NÃO-LISTADO e nos envie para anonimizá-lo.</th>\n",
              "    </tr>\n",
              "  </thead>\n",
              "  <tbody>\n",
              "    <tr>\n",
              "      <th>0</th>\n",
              "      <td>NaN</td>\n",
              "      <td>2024-03-29 23:21:16.936</td>\n",
              "      <td>99</td>\n",
              "      <td>A Central de Segurança da 99 é um callcenter t...</td>\n",
              "      <td>28.0</td>\n",
              "      <td>NaN</td>\n",
              "      <td>SALÁRIO/BENEFÍCIOS; SEGURANÇA/SAÚDE</td>\n",
              "      <td>NaN</td>\n",
              "      <td>NaN</td>\n",
              "      <td>NaN</td>\n",
              "      <td>NaN</td>\n",
              "    </tr>\n",
              "    <tr>\n",
              "      <th>1</th>\n",
              "      <td>NaN</td>\n",
              "      <td>2024-03-28 09:50:19.766</td>\n",
              "      <td>99</td>\n",
              "      <td>a empresa fala de saúde mental, mas tem uma ta...</td>\n",
              "      <td>NaN</td>\n",
              "      <td>NaN</td>\n",
              "      <td>SEGURANÇA/SAÚDE</td>\n",
              "      <td>NaN</td>\n",
              "      <td>NaN</td>\n",
              "      <td>NaN</td>\n",
              "      <td>NaN</td>\n",
              "    </tr>\n",
              "    <tr>\n",
              "      <th>2</th>\n",
              "      <td>NaN</td>\n",
              "      <td>2024-03-27 23:13:23.752</td>\n",
              "      <td>99</td>\n",
              "      <td>A liderança é tóxica. Inclusive tem um diretor...</td>\n",
              "      <td>NaN</td>\n",
              "      <td>NaN</td>\n",
              "      <td>COMUNICAÇÃO/TRANSPARÊNCIA</td>\n",
              "      <td>NaN</td>\n",
              "      <td>NaN</td>\n",
              "      <td>NaN</td>\n",
              "      <td>NaN</td>\n",
              "    </tr>\n",
              "    <tr>\n",
              "      <th>3</th>\n",
              "      <td>NaN</td>\n",
              "      <td>2024-03-27 12:08:47.788</td>\n",
              "      <td>99</td>\n",
              "      <td>Completamente delulus e absurdamente fora da r...</td>\n",
              "      <td>NaN</td>\n",
              "      <td>NaN</td>\n",
              "      <td>Outros</td>\n",
              "      <td>NaN</td>\n",
              "      <td>NaN</td>\n",
              "      <td>NaN</td>\n",
              "      <td>NaN</td>\n",
              "    </tr>\n",
              "    <tr>\n",
              "      <th>4</th>\n",
              "      <td>NaN</td>\n",
              "      <td>2024-03-27 18:41:09.440</td>\n",
              "      <td>99</td>\n",
              "      <td>Contratam funcionários em sistema de terceiriz...</td>\n",
              "      <td>NaN</td>\n",
              "      <td>NaN</td>\n",
              "      <td>Outros</td>\n",
              "      <td>NaN</td>\n",
              "      <td>NaN</td>\n",
              "      <td>NaN</td>\n",
              "      <td>NaN</td>\n",
              "    </tr>\n",
              "    <tr>\n",
              "      <th>...</th>\n",
              "      <td>...</td>\n",
              "      <td>...</td>\n",
              "      <td>...</td>\n",
              "      <td>...</td>\n",
              "      <td>...</td>\n",
              "      <td>...</td>\n",
              "      <td>...</td>\n",
              "      <td>...</td>\n",
              "      <td>...</td>\n",
              "      <td>...</td>\n",
              "      <td>...</td>\n",
              "    </tr>\n",
              "    <tr>\n",
              "      <th>15412</th>\n",
              "      <td>NaN</td>\n",
              "      <td>2024-04-09 11:51:09.336</td>\n",
              "      <td>Senac SP</td>\n",
              "      <td>Os gerentes e coordenadores são pessoas podres...</td>\n",
              "      <td>0.0</td>\n",
              "      <td>NaN</td>\n",
              "      <td>LIDERANÇA TÓXICA</td>\n",
              "      <td>NaN</td>\n",
              "      <td>1.0</td>\n",
              "      <td>NaN</td>\n",
              "      <td>NaN</td>\n",
              "    </tr>\n",
              "    <tr>\n",
              "      <th>15413</th>\n",
              "      <td>NaN</td>\n",
              "      <td>2024-04-09 11:51:46.832</td>\n",
              "      <td>FleetLink Rastreamento de Veículos e Frotas</td>\n",
              "      <td>Empresa extremamente tóxica. Tem um CEO que s...</td>\n",
              "      <td>0.0</td>\n",
              "      <td>NaN</td>\n",
              "      <td>ASSÉDIO(MORAL/SEXUAL), COMUNICAÇÃO/TRANSPARÊNC...</td>\n",
              "      <td>NaN</td>\n",
              "      <td>1.0</td>\n",
              "      <td>NaN</td>\n",
              "      <td>NaN</td>\n",
              "    </tr>\n",
              "    <tr>\n",
              "      <th>15414</th>\n",
              "      <td>NaN</td>\n",
              "      <td>2024-04-09 11:53:04.574</td>\n",
              "      <td>Colégio Magister</td>\n",
              "      <td>Fui demitido e me \"obrigaram\" a mandar um PIX ...</td>\n",
              "      <td>0.0</td>\n",
              "      <td>NaN</td>\n",
              "      <td>ASSÉDIO(MORAL/SEXUAL), CARGA DE TRABALHO EXCES...</td>\n",
              "      <td>NaN</td>\n",
              "      <td>1.0</td>\n",
              "      <td>NaN</td>\n",
              "      <td>NaN</td>\n",
              "    </tr>\n",
              "    <tr>\n",
              "      <th>15415</th>\n",
              "      <td>NaN</td>\n",
              "      <td>2024-04-09 11:54:57.601</td>\n",
              "      <td>Colégio Magister</td>\n",
              "      <td>Jovens aprendizes sujeitos a se submeterem a t...</td>\n",
              "      <td>0.0</td>\n",
              "      <td>NaN</td>\n",
              "      <td>FERRAMENTAS DE TRABALHO</td>\n",
              "      <td>NaN</td>\n",
              "      <td>1.0</td>\n",
              "      <td>NaN</td>\n",
              "      <td>NaN</td>\n",
              "    </tr>\n",
              "    <tr>\n",
              "      <th>15416</th>\n",
              "      <td>NaN</td>\n",
              "      <td>2024-04-09 11:55:30.515</td>\n",
              "      <td>Multimarcas Consórcios</td>\n",
              "      <td>A Empresa não assina carteira e já pagou aos f...</td>\n",
              "      <td>0.0</td>\n",
              "      <td>NaN</td>\n",
              "      <td>ASSÉDIO(MORAL/SEXUAL), SALÁRIO/BENEFÍCIOS</td>\n",
              "      <td>NaN</td>\n",
              "      <td>1.0</td>\n",
              "      <td>NaN</td>\n",
              "      <td>NaN</td>\n",
              "    </tr>\n",
              "  </tbody>\n",
              "</table>\n",
              "<p>15417 rows × 11 columns</p>\n",
              "</div>"
            ],
            "text/plain": [
              "       ium    Carimbo de data/hora  \\\n",
              "0      NaN 2024-03-29 23:21:16.936   \n",
              "1      NaN 2024-03-28 09:50:19.766   \n",
              "2      NaN 2024-03-27 23:13:23.752   \n",
              "3      NaN 2024-03-27 12:08:47.788   \n",
              "4      NaN 2024-03-27 18:41:09.440   \n",
              "...    ...                     ...   \n",
              "15412  NaN 2024-04-09 11:51:09.336   \n",
              "15413  NaN 2024-04-09 11:51:46.832   \n",
              "15414  NaN 2024-04-09 11:53:04.574   \n",
              "15415  NaN 2024-04-09 11:54:57.601   \n",
              "15416  NaN 2024-04-09 11:55:30.515   \n",
              "\n",
              "                                   Nome da empresa  \\\n",
              "0                                               99   \n",
              "1                                               99   \n",
              "2                                               99   \n",
              "3                                               99   \n",
              "4                                               99   \n",
              "...                                            ...   \n",
              "15412                                     Senac SP   \n",
              "15413  FleetLink Rastreamento de Veículos e Frotas   \n",
              "15414                             Colégio Magister   \n",
              "15415                             Colégio Magister   \n",
              "15416                       Multimarcas Consórcios   \n",
              "\n",
              "                                                Denúncia  \\\n",
              "0      A Central de Segurança da 99 é um callcenter t...   \n",
              "1      a empresa fala de saúde mental, mas tem uma ta...   \n",
              "2      A liderança é tóxica. Inclusive tem um diretor...   \n",
              "3      Completamente delulus e absurdamente fora da r...   \n",
              "4      Contratam funcionários em sistema de terceiriz...   \n",
              "...                                                  ...   \n",
              "15412  Os gerentes e coordenadores são pessoas podres...   \n",
              "15413   Empresa extremamente tóxica. Tem um CEO que s...   \n",
              "15414  Fui demitido e me \"obrigaram\" a mandar um PIX ...   \n",
              "15415  Jovens aprendizes sujeitos a se submeterem a t...   \n",
              "15416  A Empresa não assina carteira e já pagou aos f...   \n",
              "\n",
              "       CAPTCHA Matemático: 4 menos 4 Você é  \\\n",
              "0                               28.0    NaN   \n",
              "1                                NaN    NaN   \n",
              "2                                NaN    NaN   \n",
              "3                                NaN    NaN   \n",
              "4                                NaN    NaN   \n",
              "...                              ...    ...   \n",
              "15412                            0.0    NaN   \n",
              "15413                            0.0    NaN   \n",
              "15414                            0.0    NaN   \n",
              "15415                            0.0    NaN   \n",
              "15416                            0.0    NaN   \n",
              "\n",
              "            Em quais categorias sua denúncia se encaixa?  \\\n",
              "0                    SALÁRIO/BENEFÍCIOS; SEGURANÇA/SAÚDE   \n",
              "1                                        SEGURANÇA/SAÚDE   \n",
              "2                              COMUNICAÇÃO/TRANSPARÊNCIA   \n",
              "3                                                 Outros   \n",
              "4                                                 Outros   \n",
              "...                                                  ...   \n",
              "15412                                   LIDERANÇA TÓXICA   \n",
              "15413  ASSÉDIO(MORAL/SEXUAL), COMUNICAÇÃO/TRANSPARÊNC...   \n",
              "15414  ASSÉDIO(MORAL/SEXUAL), CARGA DE TRABALHO EXCES...   \n",
              "15415                            FERRAMENTAS DE TRABALHO   \n",
              "15416          ASSÉDIO(MORAL/SEXUAL), SALÁRIO/BENEFÍCIOS   \n",
              "\n",
              "      Possui ÁUDIO, CAPTURAS DE TELA, VÍDEO, CONVERSAS COM COLEGAS?  Acesse exposedworkplaces.com/provas e nos envie ANONIMAMENTE  \\\n",
              "0                                                    NaN                                                                            \n",
              "1                                                    NaN                                                                            \n",
              "2                                                    NaN                                                                            \n",
              "3                                                    NaN                                                                            \n",
              "4                                                    NaN                                                                            \n",
              "...                                                  ...                                                                            \n",
              "15412                                                NaN                                                                            \n",
              "15413                                                NaN                                                                            \n",
              "15414                                                NaN                                                                            \n",
              "15415                                                NaN                                                                            \n",
              "15416                                                NaN                                                                            \n",
              "\n",
              "       Qual nota você daria para esta empresa?  \\\n",
              "0                                          NaN   \n",
              "1                                          NaN   \n",
              "2                                          NaN   \n",
              "3                                          NaN   \n",
              "4                                          NaN   \n",
              "...                                        ...   \n",
              "15412                                      1.0   \n",
              "15413                                      1.0   \n",
              "15414                                      1.0   \n",
              "15415                                      1.0   \n",
              "15416                                      1.0   \n",
              "\n",
              "       Possui provas? VÍDEO, AÚDIO, CAPTURAS DE TELA? acesse file.io e   \\\n",
              "0                                                    NaN                  \n",
              "1                                                    NaN                  \n",
              "2                                                    NaN                  \n",
              "3                                                    NaN                  \n",
              "4                                                    NaN                  \n",
              "...                                                  ...                  \n",
              "15412                                                NaN                  \n",
              "15413                                                NaN                  \n",
              "15414                                                NaN                  \n",
              "15415                                                NaN                  \n",
              "15416                                                NaN                  \n",
              "\n",
              "       Possui provas? PRINT, ÁUDIO, VÍDEO... nos envie! Em caso de vídeos longos, poste no YouTube como NÃO-LISTADO e nos envie para anonimizá-lo.  \n",
              "0                                                    NaN                                                                                            \n",
              "1                                                    NaN                                                                                            \n",
              "2                                                    NaN                                                                                            \n",
              "3                                                    NaN                                                                                            \n",
              "4                                                    NaN                                                                                            \n",
              "...                                                  ...                                                                                            \n",
              "15412                                                NaN                                                                                            \n",
              "15413                                                NaN                                                                                            \n",
              "15414                                                NaN                                                                                            \n",
              "15415                                                NaN                                                                                            \n",
              "15416                                                NaN                                                                                            \n",
              "\n",
              "[15417 rows x 11 columns]"
            ]
          },
          "metadata": {},
          "output_type": "display_data"
        }
      ],
      "source": [
        "import gdown\n",
        "import pandas as pd\n",
        "\n",
        "nome_arquivo = 'empresas.xlsx'\n",
        "# Baixando o csv das denuncias\n",
        "#gdown.download(url='https://drive.google.com/file/d/1EbpEG7qB4nZkO8KzWFCe-_xa8EtJOFMe6TqIxwS7ByI/view?usp=sharing&format=xlsx', output=nome_arquivo, quiet=False, fuzzy=True)\n",
        "\n",
        "df = pd.read_excel('empresas.xlsx', engine='openpyxl')\n",
        "display(df)\n",
        "json_output = df.to_json()\n"
      ]
    },
    {
      "cell_type": "code",
      "execution_count": 3,
      "metadata": {
        "colab": {
          "base_uri": "https://localhost:8080/"
        },
        "id": "rU1esvlgkAeB",
        "outputId": "8558a268-29ad-426d-ae5c-cc021cdcc2ad"
      },
      "outputs": [
        {
          "name": "stdout",
          "output_type": "stream",
          "text": [
            "['ium', 'Carimbo de data/hora', 'Nome da empresa', 'Denúncia', 'CAPTCHA Matemático: 4 menos 4', 'Você é', 'Em quais categorias sua denúncia se encaixa?', 'Possui ÁUDIO, CAPTURAS DE TELA, VÍDEO, CONVERSAS COM COLEGAS?  Acesse exposedworkplaces.com/provas e nos envie ANONIMAMENTE', 'Qual nota você daria para esta empresa?', 'Possui provas? VÍDEO, AÚDIO, CAPTURAS DE TELA? acesse file.io e ', 'Possui provas? PRINT, ÁUDIO, VÍDEO... nos envie! Em caso de vídeos longos, poste no YouTube como NÃO-LISTADO e nos envie para anonimizá-lo.']\n",
            "       ium    Carimbo de data/hora  \\\n",
            "0      NaN 2024-03-29 23:21:16.936   \n",
            "1      NaN 2024-03-28 09:50:19.766   \n",
            "2      NaN 2024-03-27 23:13:23.752   \n",
            "3      NaN 2024-03-27 12:08:47.788   \n",
            "4      NaN 2024-03-27 18:41:09.440   \n",
            "...    ...                     ...   \n",
            "15412  NaN 2024-04-09 11:51:09.336   \n",
            "15413  NaN 2024-04-09 11:51:46.832   \n",
            "15414  NaN 2024-04-09 11:53:04.574   \n",
            "15415  NaN 2024-04-09 11:54:57.601   \n",
            "15416  NaN 2024-04-09 11:55:30.515   \n",
            "\n",
            "                                   Nome da empresa  \\\n",
            "0                                               99   \n",
            "1                                               99   \n",
            "2                                               99   \n",
            "3                                               99   \n",
            "4                                               99   \n",
            "...                                            ...   \n",
            "15412                                     Senac SP   \n",
            "15413  FleetLink Rastreamento de Veículos e Frotas   \n",
            "15414                             Colégio Magister   \n",
            "15415                             Colégio Magister   \n",
            "15416                       Multimarcas Consórcios   \n",
            "\n",
            "                                              input_text  \\\n",
            "0      A Central de Segurança da 99 é um callcenter t...   \n",
            "1      a empresa fala de saúde mental, mas tem uma ta...   \n",
            "2      A liderança é tóxica. Inclusive tem um diretor...   \n",
            "3      Completamente delulus e absurdamente fora da r...   \n",
            "4      Contratam funcionários em sistema de terceiriz...   \n",
            "...                                                  ...   \n",
            "15412  Os gerentes e coordenadores são pessoas podres...   \n",
            "15413   Empresa extremamente tóxica. Tem um CEO que s...   \n",
            "15414  Fui demitido e me \"obrigaram\" a mandar um PIX ...   \n",
            "15415  Jovens aprendizes sujeitos a se submeterem a t...   \n",
            "15416  A Empresa não assina carteira e já pagou aos f...   \n",
            "\n",
            "       CAPTCHA Matemático: 4 menos 4 Você é  \\\n",
            "0                               28.0    NaN   \n",
            "1                                NaN    NaN   \n",
            "2                                NaN    NaN   \n",
            "3                                NaN    NaN   \n",
            "4                                NaN    NaN   \n",
            "...                              ...    ...   \n",
            "15412                            0.0    NaN   \n",
            "15413                            0.0    NaN   \n",
            "15414                            0.0    NaN   \n",
            "15415                            0.0    NaN   \n",
            "15416                            0.0    NaN   \n",
            "\n",
            "            Em quais categorias sua denúncia se encaixa?  \\\n",
            "0                    SALÁRIO/BENEFÍCIOS; SEGURANÇA/SAÚDE   \n",
            "1                                        SEGURANÇA/SAÚDE   \n",
            "2                              COMUNICAÇÃO/TRANSPARÊNCIA   \n",
            "3                                                 Outros   \n",
            "4                                                 Outros   \n",
            "...                                                  ...   \n",
            "15412                                   LIDERANÇA TÓXICA   \n",
            "15413  ASSÉDIO(MORAL/SEXUAL), COMUNICAÇÃO/TRANSPARÊNC...   \n",
            "15414  ASSÉDIO(MORAL/SEXUAL), CARGA DE TRABALHO EXCES...   \n",
            "15415                            FERRAMENTAS DE TRABALHO   \n",
            "15416          ASSÉDIO(MORAL/SEXUAL), SALÁRIO/BENEFÍCIOS   \n",
            "\n",
            "      Possui ÁUDIO, CAPTURAS DE TELA, VÍDEO, CONVERSAS COM COLEGAS?  Acesse exposedworkplaces.com/provas e nos envie ANONIMAMENTE  \\\n",
            "0                                                    NaN                                                                            \n",
            "1                                                    NaN                                                                            \n",
            "2                                                    NaN                                                                            \n",
            "3                                                    NaN                                                                            \n",
            "4                                                    NaN                                                                            \n",
            "...                                                  ...                                                                            \n",
            "15412                                                NaN                                                                            \n",
            "15413                                                NaN                                                                            \n",
            "15414                                                NaN                                                                            \n",
            "15415                                                NaN                                                                            \n",
            "15416                                                NaN                                                                            \n",
            "\n",
            "       Qual nota você daria para esta empresa?  \\\n",
            "0                                          NaN   \n",
            "1                                          NaN   \n",
            "2                                          NaN   \n",
            "3                                          NaN   \n",
            "4                                          NaN   \n",
            "...                                        ...   \n",
            "15412                                      1.0   \n",
            "15413                                      1.0   \n",
            "15414                                      1.0   \n",
            "15415                                      1.0   \n",
            "15416                                      1.0   \n",
            "\n",
            "       Possui provas? VÍDEO, AÚDIO, CAPTURAS DE TELA? acesse file.io e   \\\n",
            "0                                                    NaN                  \n",
            "1                                                    NaN                  \n",
            "2                                                    NaN                  \n",
            "3                                                    NaN                  \n",
            "4                                                    NaN                  \n",
            "...                                                  ...                  \n",
            "15412                                                NaN                  \n",
            "15413                                                NaN                  \n",
            "15414                                                NaN                  \n",
            "15415                                                NaN                  \n",
            "15416                                                NaN                  \n",
            "\n",
            "       Possui provas? PRINT, ÁUDIO, VÍDEO... nos envie! Em caso de vídeos longos, poste no YouTube como NÃO-LISTADO e nos envie para anonimizá-lo.  \\\n",
            "0                                                    NaN                                                                                             \n",
            "1                                                    NaN                                                                                             \n",
            "2                                                    NaN                                                                                             \n",
            "3                                                    NaN                                                                                             \n",
            "4                                                    NaN                                                                                             \n",
            "...                                                  ...                                                                                             \n",
            "15412                                                NaN                                                                                             \n",
            "15413                                                NaN                                                                                             \n",
            "15414                                                NaN                                                                                             \n",
            "15415                                                NaN                                                                                             \n",
            "15416                                                NaN                                                                                             \n",
            "\n",
            "       len_text  \n",
            "0         240.0  \n",
            "1          82.0  \n",
            "2         284.0  \n",
            "3         138.0  \n",
            "4         149.0  \n",
            "...         ...  \n",
            "15412     568.0  \n",
            "15413     843.0  \n",
            "15414     285.0  \n",
            "15415     222.0  \n",
            "15416     267.0  \n",
            "\n",
            "[15417 rows x 12 columns]\n"
          ]
        },
        {
          "data": {
            "text/plain": [
              "(15415, 12)"
            ]
          },
          "execution_count": 3,
          "metadata": {},
          "output_type": "execute_result"
        }
      ],
      "source": [
        "print(df.columns.tolist())\n",
        "df['Denúncia'] = df['Denúncia'].apply(lambda x: x if isinstance(x, str) else None)\n",
        "df.rename(columns={\"Denúncia\": \"input_text\"}, inplace=True)\n",
        "df[\"len_text\"] = df.input_text.str.len()\n",
        "\n",
        "print(df)\n",
        "denuncias = df['input_text'].copy()\n",
        "reason_quartile = df.len_text.quantile(0.25)\n",
        "\n",
        "df.dropna(inplace=True, subset=[\"input_text\"])\n",
        "\n",
        "df.shape"
      ]
    },
    {
      "cell_type": "code",
      "execution_count": 4,
      "metadata": {
        "colab": {
          "base_uri": "https://localhost:8080/"
        },
        "id": "CllM_ta7Huf6",
        "outputId": "3da6ea28-0570-4d59-b8c6-379a0b858bf2"
      },
      "outputs": [
        {
          "name": "stdout",
          "output_type": "stream",
          "text": [
            "A Central de Segurança da 99 é um callcenter terceirizado, desses iguais os de cobrança ou pedido de doação, sabe? Pois é, os atendentes recebem um salário bizarro e uma cobrança desumana. Não esperem qualidade dos produtos e do atendimento\n"
          ]
        }
      ],
      "source": [
        "print(denuncias[0])"
      ]
    },
    {
      "cell_type": "code",
      "execution_count": 5,
      "metadata": {
        "colab": {
          "base_uri": "https://localhost:8080/"
        },
        "id": "YnLAmiMkBuxE",
        "outputId": "345ee575-00e9-4246-f6f6-1102ea36eba1"
      },
      "outputs": [
        {
          "name": "stdout",
          "output_type": "stream",
          "text": [
            "l Tive um burnout durante a minha estadia na empresa por conta de uma líder que abusava moralmente do time com ameaças frequentes de demissão e continua lá ainda depois de anos ganhando prêmios de boa liderança se vc for chamado pra trabalhar na área de UAU simplesmente recuse a proposta você está fazendo um livramento nessa vida porque isso aqui é o inferno na terra líderes E\n",
            "Hello World It is a beautiful beautiful day garbage\n"
          ]
        }
      ],
      "source": [
        "import re\n",
        "#Limpando os dados\n",
        "def apenas_caracteres_importantes(texto) -> str:\n",
        "   texto = re.sub(r'[^A-z\\s\\dáéíóúãõâêîôûàèìòùäëïöüçñ]+', '', texto, flags=re.DOTALL|re.IGNORECASE)\n",
        "   texto = texto.replace('\\t', ' ').replace('\\n', ' ')\n",
        "   texto = re.sub(r'\\s+', ' ', texto, flags=re.DOTALL|re.IGNORECASE)\n",
        "   texto = texto.strip()\n",
        "   return texto\n",
        "\n",
        "\n",
        "texto = ''' l.\n",
        "Tive um burnout durante a minha estadia na empresa por conta de uma líder que abusava moralmente do time (com ameaças frequentes de demissão), e continua lá ainda depois de anos, ganhando prêmios de boa liderança\n",
        "se vc for chamado pra trabalhar na área de UAU, simplesmente recuse a proposta... você está fazendo um livramento nessa vida, porque isso aqui é o inferno na terra, líderes E'''\n",
        "print(apenas_caracteres_importantes(texto))\n",
        "texto = \"      Hello,     World!!!!!!,,,,     \\n\\n\\n\\n It is a beautiful , beautiful day!   \\n garbage \"\n",
        "print(apenas_caracteres_importantes(texto))"
      ]
    },
    {
      "cell_type": "code",
      "execution_count": null,
      "metadata": {},
      "outputs": [],
      "source": []
    },
    {
      "cell_type": "code",
      "execution_count": null,
      "metadata": {
        "colab": {
          "base_uri": "https://localhost:8080/"
        },
        "id": "sC1b626NGdZf",
        "outputId": "650bfa98-bb19-46a8-c538-8fc048e370af"
      },
      "outputs": [
        {
          "name": "stdout",
          "output_type": "stream",
          "text": [
            "0        A Central de Segurança da 99 é um callcenter t...\n",
            "1        a empresa fala de saúde mental, mas tem uma ta...\n",
            "2        A liderança é tóxica. Inclusive tem um diretor...\n",
            "3        Completamente delulus e absurdamente fora da r...\n",
            "4        Contratam funcionários em sistema de terceiriz...\n",
            "                               ...                        \n",
            "15412    Os gerentes e coordenadores são pessoas podres...\n",
            "15413     Empresa extremamente tóxica. Tem um CEO que s...\n",
            "15414    Fui demitido e me \"obrigaram\" a mandar um PIX ...\n",
            "15415    Jovens aprendizes sujeitos a se submeterem a t...\n",
            "15416    A Empresa não assina carteira e já pagou aos f...\n",
            "Name: input_text, Length: 15415, dtype: object\n",
            "\n",
            "15415\n",
            "Requirement already satisfied: plotly in c:\\users\\josel\\appdata\\local\\programs\\python\\python312\\lib\\site-packages (6.1.2)\n",
            "Requirement already satisfied: narwhals>=1.15.1 in c:\\users\\josel\\appdata\\local\\programs\\python\\python312\\lib\\site-packages (from plotly) (1.43.0)\n",
            "Requirement already satisfied: packaging in c:\\users\\josel\\appdata\\roaming\\python\\python312\\site-packages (from plotly) (25.0)\n"
          ]
        }
      ],
      "source": [
        "print(denuncias)\n",
        "print()\n",
        "print(len(denuncias))"
      ]
    },
    {
      "cell_type": "code",
      "execution_count": 11,
      "metadata": {},
      "outputs": [],
      "source": [
        "type(denuncias)\n",
        "denuncias = denuncias.dropna()"
      ]
    },
    {
      "cell_type": "code",
      "execution_count": 12,
      "metadata": {
        "colab": {
          "base_uri": "https://localhost:8080/"
        },
        "id": "IGEuAXK-FQ2W",
        "outputId": "889ecb21-927c-4a06-caac-246997607085"
      },
      "outputs": [
        {
          "data": {
            "text/plain": [
              "15415"
            ]
          },
          "execution_count": 12,
          "metadata": {},
          "output_type": "execute_result"
        }
      ],
      "source": [
        "from sklearn.pipeline import Pipeline\n",
        "from sklearn.preprocessing import FunctionTransformer\n",
        "\n",
        "pipeline_clean_text = Pipeline(\n",
        "    [\n",
        "        # Step 1: Deixa apenas os caracteres importantes para a analise\n",
        "        (\"apenas_caracteres_importantes\", FunctionTransformer(apenas_caracteres_importantes))\n",
        "    ]\n",
        ")\n",
        "\n",
        "denuncias_limpas = denuncias.apply(pipeline_clean_text.transform)\n",
        "len(denuncias_limpas)"
      ]
    },
    {
      "cell_type": "code",
      "execution_count": 13,
      "metadata": {
        "colab": {
          "base_uri": "https://localhost:8080/",
          "height": 335
        },
        "id": "HCEqoJrbMA_0",
        "outputId": "53059491-938d-4524-8c89-a89a8b628aa8"
      },
      "outputs": [
        {
          "data": {
            "text/plain": [
              "count    15415.000000\n",
              "mean        41.793578\n",
              "std         46.689038\n",
              "min          0.000000\n",
              "25%         14.000000\n",
              "50%         29.000000\n",
              "75%         52.000000\n",
              "max        683.000000\n",
              "Name: input_text, dtype: float64"
            ]
          },
          "execution_count": 13,
          "metadata": {},
          "output_type": "execute_result"
        }
      ],
      "source": [
        "denuncias_limpas.str.split().apply(len).describe()"
      ]
    },
    {
      "cell_type": "code",
      "execution_count": 14,
      "metadata": {},
      "outputs": [
        {
          "name": "stdout",
          "output_type": "stream",
          "text": [
            "5.10.4\n"
          ]
        }
      ],
      "source": [
        "import nbformat\n",
        "print(nbformat.__version__)"
      ]
    },
    {
      "cell_type": "code",
      "execution_count": 15,
      "metadata": {
        "colab": {
          "base_uri": "https://localhost:8080/",
          "height": 542
        },
        "id": "UBiOfeGZMFtE",
        "outputId": "9ac19708-4757-4f9f-be88-1d42a13baae0"
      },
      "outputs": [
        {
          "data": {
            "application/vnd.plotly.v1+json": {
              "config": {
                "plotlyServerURL": "https://plot.ly"
              },
              "data": [
                {
                  "type": "histogram",
                  "x": {
                    "bdata": "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",
                    "dtype": "i2"
                  }
                }
              ],
              "layout": {
                "bargap": 0.1,
                "template": {
                  "data": {
                    "bar": [
                      {
                        "error_x": {
                          "color": "#2a3f5f"
                        },
                        "error_y": {
                          "color": "#2a3f5f"
                        },
                        "marker": {
                          "line": {
                            "color": "#E5ECF6",
                            "width": 0.5
                          },
                          "pattern": {
                            "fillmode": "overlay",
                            "size": 10,
                            "solidity": 0.2
                          }
                        },
                        "type": "bar"
                      }
                    ],
                    "barpolar": [
                      {
                        "marker": {
                          "line": {
                            "color": "#E5ECF6",
                            "width": 0.5
                          },
                          "pattern": {
                            "fillmode": "overlay",
                            "size": 10,
                            "solidity": 0.2
                          }
                        },
                        "type": "barpolar"
                      }
                    ],
                    "carpet": [
                      {
                        "aaxis": {
                          "endlinecolor": "#2a3f5f",
                          "gridcolor": "white",
                          "linecolor": "white",
                          "minorgridcolor": "white",
                          "startlinecolor": "#2a3f5f"
                        },
                        "baxis": {
                          "endlinecolor": "#2a3f5f",
                          "gridcolor": "white",
                          "linecolor": "white",
                          "minorgridcolor": "white",
                          "startlinecolor": "#2a3f5f"
                        },
                        "type": "carpet"
                      }
                    ],
                    "choropleth": [
                      {
                        "colorbar": {
                          "outlinewidth": 0,
                          "ticks": ""
                        },
                        "type": "choropleth"
                      }
                    ],
                    "contour": [
                      {
                        "colorbar": {
                          "outlinewidth": 0,
                          "ticks": ""
                        },
                        "colorscale": [
                          [
                            0,
                            "#0d0887"
                          ],
                          [
                            0.1111111111111111,
                            "#46039f"
                          ],
                          [
                            0.2222222222222222,
                            "#7201a8"
                          ],
                          [
                            0.3333333333333333,
                            "#9c179e"
                          ],
                          [
                            0.4444444444444444,
                            "#bd3786"
                          ],
                          [
                            0.5555555555555556,
                            "#d8576b"
                          ],
                          [
                            0.6666666666666666,
                            "#ed7953"
                          ],
                          [
                            0.7777777777777778,
                            "#fb9f3a"
                          ],
                          [
                            0.8888888888888888,
                            "#fdca26"
                          ],
                          [
                            1,
                            "#f0f921"
                          ]
                        ],
                        "type": "contour"
                      }
                    ],
                    "contourcarpet": [
                      {
                        "colorbar": {
                          "outlinewidth": 0,
                          "ticks": ""
                        },
                        "type": "contourcarpet"
                      }
                    ],
                    "heatmap": [
                      {
                        "colorbar": {
                          "outlinewidth": 0,
                          "ticks": ""
                        },
                        "colorscale": [
                          [
                            0,
                            "#0d0887"
                          ],
                          [
                            0.1111111111111111,
                            "#46039f"
                          ],
                          [
                            0.2222222222222222,
                            "#7201a8"
                          ],
                          [
                            0.3333333333333333,
                            "#9c179e"
                          ],
                          [
                            0.4444444444444444,
                            "#bd3786"
                          ],
                          [
                            0.5555555555555556,
                            "#d8576b"
                          ],
                          [
                            0.6666666666666666,
                            "#ed7953"
                          ],
                          [
                            0.7777777777777778,
                            "#fb9f3a"
                          ],
                          [
                            0.8888888888888888,
                            "#fdca26"
                          ],
                          [
                            1,
                            "#f0f921"
                          ]
                        ],
                        "type": "heatmap"
                      }
                    ],
                    "histogram": [
                      {
                        "marker": {
                          "pattern": {
                            "fillmode": "overlay",
                            "size": 10,
                            "solidity": 0.2
                          }
                        },
                        "type": "histogram"
                      }
                    ],
                    "histogram2d": [
                      {
                        "colorbar": {
                          "outlinewidth": 0,
                          "ticks": ""
                        },
                        "colorscale": [
                          [
                            0,
                            "#0d0887"
                          ],
                          [
                            0.1111111111111111,
                            "#46039f"
                          ],
                          [
                            0.2222222222222222,
                            "#7201a8"
                          ],
                          [
                            0.3333333333333333,
                            "#9c179e"
                          ],
                          [
                            0.4444444444444444,
                            "#bd3786"
                          ],
                          [
                            0.5555555555555556,
                            "#d8576b"
                          ],
                          [
                            0.6666666666666666,
                            "#ed7953"
                          ],
                          [
                            0.7777777777777778,
                            "#fb9f3a"
                          ],
                          [
                            0.8888888888888888,
                            "#fdca26"
                          ],
                          [
                            1,
                            "#f0f921"
                          ]
                        ],
                        "type": "histogram2d"
                      }
                    ],
                    "histogram2dcontour": [
                      {
                        "colorbar": {
                          "outlinewidth": 0,
                          "ticks": ""
                        },
                        "colorscale": [
                          [
                            0,
                            "#0d0887"
                          ],
                          [
                            0.1111111111111111,
                            "#46039f"
                          ],
                          [
                            0.2222222222222222,
                            "#7201a8"
                          ],
                          [
                            0.3333333333333333,
                            "#9c179e"
                          ],
                          [
                            0.4444444444444444,
                            "#bd3786"
                          ],
                          [
                            0.5555555555555556,
                            "#d8576b"
                          ],
                          [
                            0.6666666666666666,
                            "#ed7953"
                          ],
                          [
                            0.7777777777777778,
                            "#fb9f3a"
                          ],
                          [
                            0.8888888888888888,
                            "#fdca26"
                          ],
                          [
                            1,
                            "#f0f921"
                          ]
                        ],
                        "type": "histogram2dcontour"
                      }
                    ],
                    "mesh3d": [
                      {
                        "colorbar": {
                          "outlinewidth": 0,
                          "ticks": ""
                        },
                        "type": "mesh3d"
                      }
                    ],
                    "parcoords": [
                      {
                        "line": {
                          "colorbar": {
                            "outlinewidth": 0,
                            "ticks": ""
                          }
                        },
                        "type": "parcoords"
                      }
                    ],
                    "pie": [
                      {
                        "automargin": true,
                        "type": "pie"
                      }
                    ],
                    "scatter": [
                      {
                        "fillpattern": {
                          "fillmode": "overlay",
                          "size": 10,
                          "solidity": 0.2
                        },
                        "type": "scatter"
                      }
                    ],
                    "scatter3d": [
                      {
                        "line": {
                          "colorbar": {
                            "outlinewidth": 0,
                            "ticks": ""
                          }
                        },
                        "marker": {
                          "colorbar": {
                            "outlinewidth": 0,
                            "ticks": ""
                          }
                        },
                        "type": "scatter3d"
                      }
                    ],
                    "scattercarpet": [
                      {
                        "marker": {
                          "colorbar": {
                            "outlinewidth": 0,
                            "ticks": ""
                          }
                        },
                        "type": "scattercarpet"
                      }
                    ],
                    "scattergeo": [
                      {
                        "marker": {
                          "colorbar": {
                            "outlinewidth": 0,
                            "ticks": ""
                          }
                        },
                        "type": "scattergeo"
                      }
                    ],
                    "scattergl": [
                      {
                        "marker": {
                          "colorbar": {
                            "outlinewidth": 0,
                            "ticks": ""
                          }
                        },
                        "type": "scattergl"
                      }
                    ],
                    "scattermap": [
                      {
                        "marker": {
                          "colorbar": {
                            "outlinewidth": 0,
                            "ticks": ""
                          }
                        },
                        "type": "scattermap"
                      }
                    ],
                    "scattermapbox": [
                      {
                        "marker": {
                          "colorbar": {
                            "outlinewidth": 0,
                            "ticks": ""
                          }
                        },
                        "type": "scattermapbox"
                      }
                    ],
                    "scatterpolar": [
                      {
                        "marker": {
                          "colorbar": {
                            "outlinewidth": 0,
                            "ticks": ""
                          }
                        },
                        "type": "scatterpolar"
                      }
                    ],
                    "scatterpolargl": [
                      {
                        "marker": {
                          "colorbar": {
                            "outlinewidth": 0,
                            "ticks": ""
                          }
                        },
                        "type": "scatterpolargl"
                      }
                    ],
                    "scatterternary": [
                      {
                        "marker": {
                          "colorbar": {
                            "outlinewidth": 0,
                            "ticks": ""
                          }
                        },
                        "type": "scatterternary"
                      }
                    ],
                    "surface": [
                      {
                        "colorbar": {
                          "outlinewidth": 0,
                          "ticks": ""
                        },
                        "colorscale": [
                          [
                            0,
                            "#0d0887"
                          ],
                          [
                            0.1111111111111111,
                            "#46039f"
                          ],
                          [
                            0.2222222222222222,
                            "#7201a8"
                          ],
                          [
                            0.3333333333333333,
                            "#9c179e"
                          ],
                          [
                            0.4444444444444444,
                            "#bd3786"
                          ],
                          [
                            0.5555555555555556,
                            "#d8576b"
                          ],
                          [
                            0.6666666666666666,
                            "#ed7953"
                          ],
                          [
                            0.7777777777777778,
                            "#fb9f3a"
                          ],
                          [
                            0.8888888888888888,
                            "#fdca26"
                          ],
                          [
                            1,
                            "#f0f921"
                          ]
                        ],
                        "type": "surface"
                      }
                    ],
                    "table": [
                      {
                        "cells": {
                          "fill": {
                            "color": "#EBF0F8"
                          },
                          "line": {
                            "color": "white"
                          }
                        },
                        "header": {
                          "fill": {
                            "color": "#C8D4E3"
                          },
                          "line": {
                            "color": "white"
                          }
                        },
                        "type": "table"
                      }
                    ]
                  },
                  "layout": {
                    "annotationdefaults": {
                      "arrowcolor": "#2a3f5f",
                      "arrowhead": 0,
                      "arrowwidth": 1
                    },
                    "autotypenumbers": "strict",
                    "coloraxis": {
                      "colorbar": {
                        "outlinewidth": 0,
                        "ticks": ""
                      }
                    },
                    "colorscale": {
                      "diverging": [
                        [
                          0,
                          "#8e0152"
                        ],
                        [
                          0.1,
                          "#c51b7d"
                        ],
                        [
                          0.2,
                          "#de77ae"
                        ],
                        [
                          0.3,
                          "#f1b6da"
                        ],
                        [
                          0.4,
                          "#fde0ef"
                        ],
                        [
                          0.5,
                          "#f7f7f7"
                        ],
                        [
                          0.6,
                          "#e6f5d0"
                        ],
                        [
                          0.7,
                          "#b8e186"
                        ],
                        [
                          0.8,
                          "#7fbc41"
                        ],
                        [
                          0.9,
                          "#4d9221"
                        ],
                        [
                          1,
                          "#276419"
                        ]
                      ],
                      "sequential": [
                        [
                          0,
                          "#0d0887"
                        ],
                        [
                          0.1111111111111111,
                          "#46039f"
                        ],
                        [
                          0.2222222222222222,
                          "#7201a8"
                        ],
                        [
                          0.3333333333333333,
                          "#9c179e"
                        ],
                        [
                          0.4444444444444444,
                          "#bd3786"
                        ],
                        [
                          0.5555555555555556,
                          "#d8576b"
                        ],
                        [
                          0.6666666666666666,
                          "#ed7953"
                        ],
                        [
                          0.7777777777777778,
                          "#fb9f3a"
                        ],
                        [
                          0.8888888888888888,
                          "#fdca26"
                        ],
                        [
                          1,
                          "#f0f921"
                        ]
                      ],
                      "sequentialminus": [
                        [
                          0,
                          "#0d0887"
                        ],
                        [
                          0.1111111111111111,
                          "#46039f"
                        ],
                        [
                          0.2222222222222222,
                          "#7201a8"
                        ],
                        [
                          0.3333333333333333,
                          "#9c179e"
                        ],
                        [
                          0.4444444444444444,
                          "#bd3786"
                        ],
                        [
                          0.5555555555555556,
                          "#d8576b"
                        ],
                        [
                          0.6666666666666666,
                          "#ed7953"
                        ],
                        [
                          0.7777777777777778,
                          "#fb9f3a"
                        ],
                        [
                          0.8888888888888888,
                          "#fdca26"
                        ],
                        [
                          1,
                          "#f0f921"
                        ]
                      ]
                    },
                    "colorway": [
                      "#636efa",
                      "#EF553B",
                      "#00cc96",
                      "#ab63fa",
                      "#FFA15A",
                      "#19d3f3",
                      "#FF6692",
                      "#B6E880",
                      "#FF97FF",
                      "#FECB52"
                    ],
                    "font": {
                      "color": "#2a3f5f"
                    },
                    "geo": {
                      "bgcolor": "white",
                      "lakecolor": "white",
                      "landcolor": "#E5ECF6",
                      "showlakes": true,
                      "showland": true,
                      "subunitcolor": "white"
                    },
                    "hoverlabel": {
                      "align": "left"
                    },
                    "hovermode": "closest",
                    "mapbox": {
                      "style": "light"
                    },
                    "paper_bgcolor": "white",
                    "plot_bgcolor": "#E5ECF6",
                    "polar": {
                      "angularaxis": {
                        "gridcolor": "white",
                        "linecolor": "white",
                        "ticks": ""
                      },
                      "bgcolor": "#E5ECF6",
                      "radialaxis": {
                        "gridcolor": "white",
                        "linecolor": "white",
                        "ticks": ""
                      }
                    },
                    "scene": {
                      "xaxis": {
                        "backgroundcolor": "#E5ECF6",
                        "gridcolor": "white",
                        "gridwidth": 2,
                        "linecolor": "white",
                        "showbackground": true,
                        "ticks": "",
                        "zerolinecolor": "white"
                      },
                      "yaxis": {
                        "backgroundcolor": "#E5ECF6",
                        "gridcolor": "white",
                        "gridwidth": 2,
                        "linecolor": "white",
                        "showbackground": true,
                        "ticks": "",
                        "zerolinecolor": "white"
                      },
                      "zaxis": {
                        "backgroundcolor": "#E5ECF6",
                        "gridcolor": "white",
                        "gridwidth": 2,
                        "linecolor": "white",
                        "showbackground": true,
                        "ticks": "",
                        "zerolinecolor": "white"
                      }
                    },
                    "shapedefaults": {
                      "line": {
                        "color": "#2a3f5f"
                      }
                    },
                    "ternary": {
                      "aaxis": {
                        "gridcolor": "white",
                        "linecolor": "white",
                        "ticks": ""
                      },
                      "baxis": {
                        "gridcolor": "white",
                        "linecolor": "white",
                        "ticks": ""
                      },
                      "bgcolor": "#E5ECF6",
                      "caxis": {
                        "gridcolor": "white",
                        "linecolor": "white",
                        "ticks": ""
                      }
                    },
                    "title": {
                      "x": 0.05
                    },
                    "xaxis": {
                      "automargin": true,
                      "gridcolor": "white",
                      "linecolor": "white",
                      "ticks": "",
                      "title": {
                        "standoff": 15
                      },
                      "zerolinecolor": "white",
                      "zerolinewidth": 2
                    },
                    "yaxis": {
                      "automargin": true,
                      "gridcolor": "white",
                      "linecolor": "white",
                      "ticks": "",
                      "title": {
                        "standoff": 15
                      },
                      "zerolinecolor": "white",
                      "zerolinewidth": 2
                    }
                  }
                },
                "title": {
                  "text": "Word Count Distribution",
                  "x": 0.5
                },
                "xaxis": {
                  "title": {
                    "text": "Number of Words"
                  }
                },
                "yaxis": {
                  "title": {
                    "text": "Frequency"
                  }
                }
              }
            }
          },
          "metadata": {},
          "output_type": "display_data"
        }
      ],
      "source": [
        "import plotly.graph_objects as go\n",
        "\n",
        "# Calculate word counts for each text in the cleaned training dataset\n",
        "word_counts = denuncias_limpas.str.split().apply(len)\n",
        "\n",
        "# Create a histogram plot using Plotly\n",
        "fig = go.Figure(data=[go.Histogram(x=word_counts)])\n",
        "\n",
        "# Customize the layout of the plot\n",
        "fig.update_layout(\n",
        "    title_text=\"Word Count Distribution\",  # Set the title of the plot\n",
        "    title_x=0.5,  # Center the title horizontally\n",
        "    xaxis_title=\"Number of Words\",  # Label for x-axis\n",
        "    yaxis_title=\"Frequency\",  # Label for y-axis\n",
        "    bargap=0.1,  # Add some gap between bars for better readability\n",
        ")\n",
        "\n",
        "# Display the plot\n",
        "fig.show()"
      ]
    },
    {
      "cell_type": "code",
      "execution_count": 16,
      "metadata": {
        "colab": {
          "base_uri": "https://localhost:8080/",
          "height": 542
        },
        "id": "UztY_JH-MYzb",
        "outputId": "f73b1489-0bce-4ace-863d-5ba76454216b"
      },
      "outputs": [
        {
          "data": {
            "application/vnd.plotly.v1+json": {
              "config": {
                "plotlyServerURL": "https://plot.ly"
              },
              "data": [
                {
                  "text": [
                    "27726",
                    "23083",
                    "18143",
                    "12383",
                    "11464",
                    "10402",
                    "8214",
                    "7548",
                    "7144",
                    "6220",
                    "6058",
                    "5926",
                    "5662",
                    "5548",
                    "5466",
                    "5182",
                    "4735",
                    "4122",
                    "4118",
                    "3773",
                    "3696",
                    "3378",
                    "3368",
                    "3287",
                    "3056",
                    "2912",
                    "2810",
                    "2772",
                    "2651",
                    "2567"
                  ],
                  "textposition": "auto",
                  "type": "bar",
                  "x": [
                    "de",
                    "e",
                    "que",
                    "a",
                    "o",
                    "não",
                    "é",
                    "com",
                    "para",
                    "do",
                    "empresa",
                    "os",
                    "da",
                    "um",
                    "se",
                    "em",
                    "uma",
                    "na",
                    "por",
                    "no",
                    "tem",
                    "sem",
                    "funcionários",
                    "pra",
                    "mas",
                    "mais",
                    "as",
                    "você",
                    "pessoas",
                    "como"
                  ],
                  "y": [
                    27726,
                    23083,
                    18143,
                    12383,
                    11464,
                    10402,
                    8214,
                    7548,
                    7144,
                    6220,
                    6058,
                    5926,
                    5662,
                    5548,
                    5466,
                    5182,
                    4735,
                    4122,
                    4118,
                    3773,
                    3696,
                    3378,
                    3368,
                    3287,
                    3056,
                    2912,
                    2810,
                    2772,
                    2651,
                    2567
                  ]
                }
              ],
              "layout": {
                "template": {
                  "data": {
                    "bar": [
                      {
                        "error_x": {
                          "color": "#2a3f5f"
                        },
                        "error_y": {
                          "color": "#2a3f5f"
                        },
                        "marker": {
                          "line": {
                            "color": "#E5ECF6",
                            "width": 0.5
                          },
                          "pattern": {
                            "fillmode": "overlay",
                            "size": 10,
                            "solidity": 0.2
                          }
                        },
                        "type": "bar"
                      }
                    ],
                    "barpolar": [
                      {
                        "marker": {
                          "line": {
                            "color": "#E5ECF6",
                            "width": 0.5
                          },
                          "pattern": {
                            "fillmode": "overlay",
                            "size": 10,
                            "solidity": 0.2
                          }
                        },
                        "type": "barpolar"
                      }
                    ],
                    "carpet": [
                      {
                        "aaxis": {
                          "endlinecolor": "#2a3f5f",
                          "gridcolor": "white",
                          "linecolor": "white",
                          "minorgridcolor": "white",
                          "startlinecolor": "#2a3f5f"
                        },
                        "baxis": {
                          "endlinecolor": "#2a3f5f",
                          "gridcolor": "white",
                          "linecolor": "white",
                          "minorgridcolor": "white",
                          "startlinecolor": "#2a3f5f"
                        },
                        "type": "carpet"
                      }
                    ],
                    "choropleth": [
                      {
                        "colorbar": {
                          "outlinewidth": 0,
                          "ticks": ""
                        },
                        "type": "choropleth"
                      }
                    ],
                    "contour": [
                      {
                        "colorbar": {
                          "outlinewidth": 0,
                          "ticks": ""
                        },
                        "colorscale": [
                          [
                            0,
                            "#0d0887"
                          ],
                          [
                            0.1111111111111111,
                            "#46039f"
                          ],
                          [
                            0.2222222222222222,
                            "#7201a8"
                          ],
                          [
                            0.3333333333333333,
                            "#9c179e"
                          ],
                          [
                            0.4444444444444444,
                            "#bd3786"
                          ],
                          [
                            0.5555555555555556,
                            "#d8576b"
                          ],
                          [
                            0.6666666666666666,
                            "#ed7953"
                          ],
                          [
                            0.7777777777777778,
                            "#fb9f3a"
                          ],
                          [
                            0.8888888888888888,
                            "#fdca26"
                          ],
                          [
                            1,
                            "#f0f921"
                          ]
                        ],
                        "type": "contour"
                      }
                    ],
                    "contourcarpet": [
                      {
                        "colorbar": {
                          "outlinewidth": 0,
                          "ticks": ""
                        },
                        "type": "contourcarpet"
                      }
                    ],
                    "heatmap": [
                      {
                        "colorbar": {
                          "outlinewidth": 0,
                          "ticks": ""
                        },
                        "colorscale": [
                          [
                            0,
                            "#0d0887"
                          ],
                          [
                            0.1111111111111111,
                            "#46039f"
                          ],
                          [
                            0.2222222222222222,
                            "#7201a8"
                          ],
                          [
                            0.3333333333333333,
                            "#9c179e"
                          ],
                          [
                            0.4444444444444444,
                            "#bd3786"
                          ],
                          [
                            0.5555555555555556,
                            "#d8576b"
                          ],
                          [
                            0.6666666666666666,
                            "#ed7953"
                          ],
                          [
                            0.7777777777777778,
                            "#fb9f3a"
                          ],
                          [
                            0.8888888888888888,
                            "#fdca26"
                          ],
                          [
                            1,
                            "#f0f921"
                          ]
                        ],
                        "type": "heatmap"
                      }
                    ],
                    "histogram": [
                      {
                        "marker": {
                          "pattern": {
                            "fillmode": "overlay",
                            "size": 10,
                            "solidity": 0.2
                          }
                        },
                        "type": "histogram"
                      }
                    ],
                    "histogram2d": [
                      {
                        "colorbar": {
                          "outlinewidth": 0,
                          "ticks": ""
                        },
                        "colorscale": [
                          [
                            0,
                            "#0d0887"
                          ],
                          [
                            0.1111111111111111,
                            "#46039f"
                          ],
                          [
                            0.2222222222222222,
                            "#7201a8"
                          ],
                          [
                            0.3333333333333333,
                            "#9c179e"
                          ],
                          [
                            0.4444444444444444,
                            "#bd3786"
                          ],
                          [
                            0.5555555555555556,
                            "#d8576b"
                          ],
                          [
                            0.6666666666666666,
                            "#ed7953"
                          ],
                          [
                            0.7777777777777778,
                            "#fb9f3a"
                          ],
                          [
                            0.8888888888888888,
                            "#fdca26"
                          ],
                          [
                            1,
                            "#f0f921"
                          ]
                        ],
                        "type": "histogram2d"
                      }
                    ],
                    "histogram2dcontour": [
                      {
                        "colorbar": {
                          "outlinewidth": 0,
                          "ticks": ""
                        },
                        "colorscale": [
                          [
                            0,
                            "#0d0887"
                          ],
                          [
                            0.1111111111111111,
                            "#46039f"
                          ],
                          [
                            0.2222222222222222,
                            "#7201a8"
                          ],
                          [
                            0.3333333333333333,
                            "#9c179e"
                          ],
                          [
                            0.4444444444444444,
                            "#bd3786"
                          ],
                          [
                            0.5555555555555556,
                            "#d8576b"
                          ],
                          [
                            0.6666666666666666,
                            "#ed7953"
                          ],
                          [
                            0.7777777777777778,
                            "#fb9f3a"
                          ],
                          [
                            0.8888888888888888,
                            "#fdca26"
                          ],
                          [
                            1,
                            "#f0f921"
                          ]
                        ],
                        "type": "histogram2dcontour"
                      }
                    ],
                    "mesh3d": [
                      {
                        "colorbar": {
                          "outlinewidth": 0,
                          "ticks": ""
                        },
                        "type": "mesh3d"
                      }
                    ],
                    "parcoords": [
                      {
                        "line": {
                          "colorbar": {
                            "outlinewidth": 0,
                            "ticks": ""
                          }
                        },
                        "type": "parcoords"
                      }
                    ],
                    "pie": [
                      {
                        "automargin": true,
                        "type": "pie"
                      }
                    ],
                    "scatter": [
                      {
                        "fillpattern": {
                          "fillmode": "overlay",
                          "size": 10,
                          "solidity": 0.2
                        },
                        "type": "scatter"
                      }
                    ],
                    "scatter3d": [
                      {
                        "line": {
                          "colorbar": {
                            "outlinewidth": 0,
                            "ticks": ""
                          }
                        },
                        "marker": {
                          "colorbar": {
                            "outlinewidth": 0,
                            "ticks": ""
                          }
                        },
                        "type": "scatter3d"
                      }
                    ],
                    "scattercarpet": [
                      {
                        "marker": {
                          "colorbar": {
                            "outlinewidth": 0,
                            "ticks": ""
                          }
                        },
                        "type": "scattercarpet"
                      }
                    ],
                    "scattergeo": [
                      {
                        "marker": {
                          "colorbar": {
                            "outlinewidth": 0,
                            "ticks": ""
                          }
                        },
                        "type": "scattergeo"
                      }
                    ],
                    "scattergl": [
                      {
                        "marker": {
                          "colorbar": {
                            "outlinewidth": 0,
                            "ticks": ""
                          }
                        },
                        "type": "scattergl"
                      }
                    ],
                    "scattermap": [
                      {
                        "marker": {
                          "colorbar": {
                            "outlinewidth": 0,
                            "ticks": ""
                          }
                        },
                        "type": "scattermap"
                      }
                    ],
                    "scattermapbox": [
                      {
                        "marker": {
                          "colorbar": {
                            "outlinewidth": 0,
                            "ticks": ""
                          }
                        },
                        "type": "scattermapbox"
                      }
                    ],
                    "scatterpolar": [
                      {
                        "marker": {
                          "colorbar": {
                            "outlinewidth": 0,
                            "ticks": ""
                          }
                        },
                        "type": "scatterpolar"
                      }
                    ],
                    "scatterpolargl": [
                      {
                        "marker": {
                          "colorbar": {
                            "outlinewidth": 0,
                            "ticks": ""
                          }
                        },
                        "type": "scatterpolargl"
                      }
                    ],
                    "scatterternary": [
                      {
                        "marker": {
                          "colorbar": {
                            "outlinewidth": 0,
                            "ticks": ""
                          }
                        },
                        "type": "scatterternary"
                      }
                    ],
                    "surface": [
                      {
                        "colorbar": {
                          "outlinewidth": 0,
                          "ticks": ""
                        },
                        "colorscale": [
                          [
                            0,
                            "#0d0887"
                          ],
                          [
                            0.1111111111111111,
                            "#46039f"
                          ],
                          [
                            0.2222222222222222,
                            "#7201a8"
                          ],
                          [
                            0.3333333333333333,
                            "#9c179e"
                          ],
                          [
                            0.4444444444444444,
                            "#bd3786"
                          ],
                          [
                            0.5555555555555556,
                            "#d8576b"
                          ],
                          [
                            0.6666666666666666,
                            "#ed7953"
                          ],
                          [
                            0.7777777777777778,
                            "#fb9f3a"
                          ],
                          [
                            0.8888888888888888,
                            "#fdca26"
                          ],
                          [
                            1,
                            "#f0f921"
                          ]
                        ],
                        "type": "surface"
                      }
                    ],
                    "table": [
                      {
                        "cells": {
                          "fill": {
                            "color": "#EBF0F8"
                          },
                          "line": {
                            "color": "white"
                          }
                        },
                        "header": {
                          "fill": {
                            "color": "#C8D4E3"
                          },
                          "line": {
                            "color": "white"
                          }
                        },
                        "type": "table"
                      }
                    ]
                  },
                  "layout": {
                    "annotationdefaults": {
                      "arrowcolor": "#2a3f5f",
                      "arrowhead": 0,
                      "arrowwidth": 1
                    },
                    "autotypenumbers": "strict",
                    "coloraxis": {
                      "colorbar": {
                        "outlinewidth": 0,
                        "ticks": ""
                      }
                    },
                    "colorscale": {
                      "diverging": [
                        [
                          0,
                          "#8e0152"
                        ],
                        [
                          0.1,
                          "#c51b7d"
                        ],
                        [
                          0.2,
                          "#de77ae"
                        ],
                        [
                          0.3,
                          "#f1b6da"
                        ],
                        [
                          0.4,
                          "#fde0ef"
                        ],
                        [
                          0.5,
                          "#f7f7f7"
                        ],
                        [
                          0.6,
                          "#e6f5d0"
                        ],
                        [
                          0.7,
                          "#b8e186"
                        ],
                        [
                          0.8,
                          "#7fbc41"
                        ],
                        [
                          0.9,
                          "#4d9221"
                        ],
                        [
                          1,
                          "#276419"
                        ]
                      ],
                      "sequential": [
                        [
                          0,
                          "#0d0887"
                        ],
                        [
                          0.1111111111111111,
                          "#46039f"
                        ],
                        [
                          0.2222222222222222,
                          "#7201a8"
                        ],
                        [
                          0.3333333333333333,
                          "#9c179e"
                        ],
                        [
                          0.4444444444444444,
                          "#bd3786"
                        ],
                        [
                          0.5555555555555556,
                          "#d8576b"
                        ],
                        [
                          0.6666666666666666,
                          "#ed7953"
                        ],
                        [
                          0.7777777777777778,
                          "#fb9f3a"
                        ],
                        [
                          0.8888888888888888,
                          "#fdca26"
                        ],
                        [
                          1,
                          "#f0f921"
                        ]
                      ],
                      "sequentialminus": [
                        [
                          0,
                          "#0d0887"
                        ],
                        [
                          0.1111111111111111,
                          "#46039f"
                        ],
                        [
                          0.2222222222222222,
                          "#7201a8"
                        ],
                        [
                          0.3333333333333333,
                          "#9c179e"
                        ],
                        [
                          0.4444444444444444,
                          "#bd3786"
                        ],
                        [
                          0.5555555555555556,
                          "#d8576b"
                        ],
                        [
                          0.6666666666666666,
                          "#ed7953"
                        ],
                        [
                          0.7777777777777778,
                          "#fb9f3a"
                        ],
                        [
                          0.8888888888888888,
                          "#fdca26"
                        ],
                        [
                          1,
                          "#f0f921"
                        ]
                      ]
                    },
                    "colorway": [
                      "#636efa",
                      "#EF553B",
                      "#00cc96",
                      "#ab63fa",
                      "#FFA15A",
                      "#19d3f3",
                      "#FF6692",
                      "#B6E880",
                      "#FF97FF",
                      "#FECB52"
                    ],
                    "font": {
                      "color": "#2a3f5f"
                    },
                    "geo": {
                      "bgcolor": "white",
                      "lakecolor": "white",
                      "landcolor": "#E5ECF6",
                      "showlakes": true,
                      "showland": true,
                      "subunitcolor": "white"
                    },
                    "hoverlabel": {
                      "align": "left"
                    },
                    "hovermode": "closest",
                    "mapbox": {
                      "style": "light"
                    },
                    "paper_bgcolor": "white",
                    "plot_bgcolor": "#E5ECF6",
                    "polar": {
                      "angularaxis": {
                        "gridcolor": "white",
                        "linecolor": "white",
                        "ticks": ""
                      },
                      "bgcolor": "#E5ECF6",
                      "radialaxis": {
                        "gridcolor": "white",
                        "linecolor": "white",
                        "ticks": ""
                      }
                    },
                    "scene": {
                      "xaxis": {
                        "backgroundcolor": "#E5ECF6",
                        "gridcolor": "white",
                        "gridwidth": 2,
                        "linecolor": "white",
                        "showbackground": true,
                        "ticks": "",
                        "zerolinecolor": "white"
                      },
                      "yaxis": {
                        "backgroundcolor": "#E5ECF6",
                        "gridcolor": "white",
                        "gridwidth": 2,
                        "linecolor": "white",
                        "showbackground": true,
                        "ticks": "",
                        "zerolinecolor": "white"
                      },
                      "zaxis": {
                        "backgroundcolor": "#E5ECF6",
                        "gridcolor": "white",
                        "gridwidth": 2,
                        "linecolor": "white",
                        "showbackground": true,
                        "ticks": "",
                        "zerolinecolor": "white"
                      }
                    },
                    "shapedefaults": {
                      "line": {
                        "color": "#2a3f5f"
                      }
                    },
                    "ternary": {
                      "aaxis": {
                        "gridcolor": "white",
                        "linecolor": "white",
                        "ticks": ""
                      },
                      "baxis": {
                        "gridcolor": "white",
                        "linecolor": "white",
                        "ticks": ""
                      },
                      "bgcolor": "#E5ECF6",
                      "caxis": {
                        "gridcolor": "white",
                        "linecolor": "white",
                        "ticks": ""
                      }
                    },
                    "title": {
                      "x": 0.05
                    },
                    "xaxis": {
                      "automargin": true,
                      "gridcolor": "white",
                      "linecolor": "white",
                      "ticks": "",
                      "title": {
                        "standoff": 15
                      },
                      "zerolinecolor": "white",
                      "zerolinewidth": 2
                    },
                    "yaxis": {
                      "automargin": true,
                      "gridcolor": "white",
                      "linecolor": "white",
                      "ticks": "",
                      "title": {
                        "standoff": 15
                      },
                      "zerolinecolor": "white",
                      "zerolinewidth": 2
                    }
                  }
                },
                "title": {
                  "text": "Top 30 most frequent words in the text",
                  "x": 0.5
                },
                "xaxis": {
                  "tickangle": -45,
                  "title": {
                    "text": "Words"
                  }
                },
                "yaxis": {
                  "title": {
                    "text": "Frequency"
                  }
                }
              }
            }
          },
          "metadata": {},
          "output_type": "display_data"
        }
      ],
      "source": [
        "from collections import Counter\n",
        "import plotly.graph_objects as go\n",
        "\n",
        "\n",
        "def plot_histogram_word(text_list, n_most_common=30):\n",
        "    # Create a list of all words from all texts\n",
        "    words = [word for txt in text_list for word in txt.split()]\n",
        "\n",
        "    # Count the frequency of each word\n",
        "    word_counts = Counter(words)\n",
        "\n",
        "    # Select the top n most frequent words\n",
        "    top_words = dict(word_counts.most_common(n_most_common))\n",
        "\n",
        "    # Create a bar chart using Plotly\n",
        "    fig = go.Figure(\n",
        "        [\n",
        "            go.Bar(\n",
        "                x=list(top_words.keys()),\n",
        "                y=list(top_words.values()),\n",
        "                text=list(top_words.values()),  # Display count on each bar\n",
        "                textposition=\"auto\",\n",
        "            )\n",
        "        ]\n",
        "    )\n",
        "\n",
        "    # Customize the layout\n",
        "    fig.update_layout(\n",
        "        title_text=f\"Top {n_most_common} most frequent words in the text\",\n",
        "        title_x=0.5,  # Center the title\n",
        "        xaxis_title=\"Words\",\n",
        "        yaxis_title=\"Frequency\",\n",
        "        xaxis_tickangle=-45,  # Rotate x-axis labels for better readability\n",
        "    )\n",
        "\n",
        "    # Display the plot\n",
        "    fig.show()\n",
        "\n",
        "\n",
        "# Call the function with the cleaned training data\n",
        "plot_histogram_word(denuncias_limpas, 30)"
      ]
    },
    {
      "cell_type": "code",
      "execution_count": 17,
      "metadata": {
        "colab": {
          "base_uri": "https://localhost:8080/"
        },
        "id": "Qji5na_aNTIN",
        "outputId": "46717a18-9bdc-4288-a4d2-92ddb03075c8"
      },
      "outputs": [
        {
          "name": "stderr",
          "output_type": "stream",
          "text": [
            "[nltk_data] Downloading package stopwords to\n",
            "[nltk_data]     C:\\Users\\josel\\AppData\\Roaming\\nltk_data...\n",
            "[nltk_data]   Package stopwords is already up-to-date!\n"
          ]
        },
        {
          "data": {
            "text/plain": [
              "['a',\n",
              " 'à',\n",
              " 'ao',\n",
              " 'aos',\n",
              " 'aquela',\n",
              " 'aquelas',\n",
              " 'aquele',\n",
              " 'aqueles',\n",
              " 'aquilo',\n",
              " 'as']"
            ]
          },
          "execution_count": 17,
          "metadata": {},
          "output_type": "execute_result"
        }
      ],
      "source": [
        "### Retirando stops words\n",
        "import nltk\n",
        "from nltk.corpus import stopwords\n",
        "\n",
        "\n",
        "nltk.download(\"stopwords\")\n",
        "stopwords_nltk = stopwords.words(\"portuguese\")\n",
        "\n",
        "list(stopwords_nltk)[:10]"
      ]
    },
    {
      "cell_type": "code",
      "execution_count": 18,
      "metadata": {
        "colab": {
          "base_uri": "https://localhost:8080/"
        },
        "id": "tJHVTRWxNme8",
        "outputId": "60010a0b-67cd-4735-906c-2e9edbb4b940"
      },
      "outputs": [
        {
          "data": {
            "text/plain": [
              "['máximo',\n",
              " 'suas',\n",
              " 'ora',\n",
              " 'onde',\n",
              " 'demais',\n",
              " 'caminho',\n",
              " 'números',\n",
              " 'com',\n",
              " 'mil',\n",
              " 'sob']"
            ]
          },
          "execution_count": 18,
          "metadata": {},
          "output_type": "execute_result"
        }
      ],
      "source": [
        "import spacy\n",
        "\n",
        "\n",
        "nlp = spacy.load(\"pt_core_news_sm\")\n",
        "stopwords_spacy = nlp.Defaults.stop_words\n",
        "list(stopwords_spacy)[:10]"
      ]
    },
    {
      "cell_type": "code",
      "execution_count": 19,
      "metadata": {
        "id": "L-ULDhRWNuU1"
      },
      "outputs": [],
      "source": [
        "both_stopwords = set(stopwords_nltk) | set(stopwords_spacy)\n",
        "len(both_stopwords)\n",
        "\n",
        "def remove_stopwords(text):\n",
        "    # Split the input text into individual tokens (words)\n",
        "    tokens = text.lower().split()\n",
        "\n",
        "    # Filter out tokens that are present in the both_stopwords set\n",
        "    tokens = filter(lambda token: token.lower() not in both_stopwords, tokens)\n",
        "\n",
        "    # Join the filtered tokens back into a single string with spaces in between\n",
        "    return \" \".join(tokens)\n",
        "\n",
        "\n",
        "denuncias_limpas_sem_stopwords = denuncias_limpas.apply(remove_stopwords)"
      ]
    },
    {
      "cell_type": "code",
      "execution_count": 20,
      "metadata": {
        "colab": {
          "base_uri": "https://localhost:8080/",
          "height": 542
        },
        "id": "PACc9xnfOJI-",
        "outputId": "ddf2082c-2f40-40f3-8269-28b18ae52f25"
      },
      "outputs": [
        {
          "data": {
            "application/vnd.plotly.v1+json": {
              "config": {
                "plotlyServerURL": "https://plot.ly"
              },
              "data": [
                {
                  "text": [
                    "8176",
                    "3553",
                    "3389",
                    "2841",
                    "2528",
                    "1915",
                    "1714",
                    "1663",
                    "1544",
                    "1534",
                    "1482",
                    "1392",
                    "1340",
                    "1260",
                    "1183",
                    "1116",
                    "1091",
                    "1057",
                    "1031",
                    "1028",
                    "897",
                    "831",
                    "805",
                    "804",
                    "794",
                    "778",
                    "768",
                    "759",
                    "752",
                    "748"
                  ],
                  "textposition": "auto",
                  "type": "bar",
                  "x": [
                    "empresa",
                    "funcionários",
                    "pra",
                    "pessoas",
                    "trabalho",
                    "gestão",
                    "liderança",
                    "assédio",
                    "trabalhar",
                    "moral",
                    "rh",
                    "salário",
                    "ambiente",
                    "dia",
                    "gestores",
                    "cultura",
                    "nao",
                    "horas",
                    "tóxica",
                    "funcionário",
                    "gerente",
                    "gente",
                    "colaboradores",
                    "vc",
                    "totalmente",
                    "cargo",
                    "extremamente",
                    "hora",
                    "ceo",
                    "anos"
                  ],
                  "y": [
                    8176,
                    3553,
                    3389,
                    2841,
                    2528,
                    1915,
                    1714,
                    1663,
                    1544,
                    1534,
                    1482,
                    1392,
                    1340,
                    1260,
                    1183,
                    1116,
                    1091,
                    1057,
                    1031,
                    1028,
                    897,
                    831,
                    805,
                    804,
                    794,
                    778,
                    768,
                    759,
                    752,
                    748
                  ]
                }
              ],
              "layout": {
                "template": {
                  "data": {
                    "bar": [
                      {
                        "error_x": {
                          "color": "#2a3f5f"
                        },
                        "error_y": {
                          "color": "#2a3f5f"
                        },
                        "marker": {
                          "line": {
                            "color": "#E5ECF6",
                            "width": 0.5
                          },
                          "pattern": {
                            "fillmode": "overlay",
                            "size": 10,
                            "solidity": 0.2
                          }
                        },
                        "type": "bar"
                      }
                    ],
                    "barpolar": [
                      {
                        "marker": {
                          "line": {
                            "color": "#E5ECF6",
                            "width": 0.5
                          },
                          "pattern": {
                            "fillmode": "overlay",
                            "size": 10,
                            "solidity": 0.2
                          }
                        },
                        "type": "barpolar"
                      }
                    ],
                    "carpet": [
                      {
                        "aaxis": {
                          "endlinecolor": "#2a3f5f",
                          "gridcolor": "white",
                          "linecolor": "white",
                          "minorgridcolor": "white",
                          "startlinecolor": "#2a3f5f"
                        },
                        "baxis": {
                          "endlinecolor": "#2a3f5f",
                          "gridcolor": "white",
                          "linecolor": "white",
                          "minorgridcolor": "white",
                          "startlinecolor": "#2a3f5f"
                        },
                        "type": "carpet"
                      }
                    ],
                    "choropleth": [
                      {
                        "colorbar": {
                          "outlinewidth": 0,
                          "ticks": ""
                        },
                        "type": "choropleth"
                      }
                    ],
                    "contour": [
                      {
                        "colorbar": {
                          "outlinewidth": 0,
                          "ticks": ""
                        },
                        "colorscale": [
                          [
                            0,
                            "#0d0887"
                          ],
                          [
                            0.1111111111111111,
                            "#46039f"
                          ],
                          [
                            0.2222222222222222,
                            "#7201a8"
                          ],
                          [
                            0.3333333333333333,
                            "#9c179e"
                          ],
                          [
                            0.4444444444444444,
                            "#bd3786"
                          ],
                          [
                            0.5555555555555556,
                            "#d8576b"
                          ],
                          [
                            0.6666666666666666,
                            "#ed7953"
                          ],
                          [
                            0.7777777777777778,
                            "#fb9f3a"
                          ],
                          [
                            0.8888888888888888,
                            "#fdca26"
                          ],
                          [
                            1,
                            "#f0f921"
                          ]
                        ],
                        "type": "contour"
                      }
                    ],
                    "contourcarpet": [
                      {
                        "colorbar": {
                          "outlinewidth": 0,
                          "ticks": ""
                        },
                        "type": "contourcarpet"
                      }
                    ],
                    "heatmap": [
                      {
                        "colorbar": {
                          "outlinewidth": 0,
                          "ticks": ""
                        },
                        "colorscale": [
                          [
                            0,
                            "#0d0887"
                          ],
                          [
                            0.1111111111111111,
                            "#46039f"
                          ],
                          [
                            0.2222222222222222,
                            "#7201a8"
                          ],
                          [
                            0.3333333333333333,
                            "#9c179e"
                          ],
                          [
                            0.4444444444444444,
                            "#bd3786"
                          ],
                          [
                            0.5555555555555556,
                            "#d8576b"
                          ],
                          [
                            0.6666666666666666,
                            "#ed7953"
                          ],
                          [
                            0.7777777777777778,
                            "#fb9f3a"
                          ],
                          [
                            0.8888888888888888,
                            "#fdca26"
                          ],
                          [
                            1,
                            "#f0f921"
                          ]
                        ],
                        "type": "heatmap"
                      }
                    ],
                    "histogram": [
                      {
                        "marker": {
                          "pattern": {
                            "fillmode": "overlay",
                            "size": 10,
                            "solidity": 0.2
                          }
                        },
                        "type": "histogram"
                      }
                    ],
                    "histogram2d": [
                      {
                        "colorbar": {
                          "outlinewidth": 0,
                          "ticks": ""
                        },
                        "colorscale": [
                          [
                            0,
                            "#0d0887"
                          ],
                          [
                            0.1111111111111111,
                            "#46039f"
                          ],
                          [
                            0.2222222222222222,
                            "#7201a8"
                          ],
                          [
                            0.3333333333333333,
                            "#9c179e"
                          ],
                          [
                            0.4444444444444444,
                            "#bd3786"
                          ],
                          [
                            0.5555555555555556,
                            "#d8576b"
                          ],
                          [
                            0.6666666666666666,
                            "#ed7953"
                          ],
                          [
                            0.7777777777777778,
                            "#fb9f3a"
                          ],
                          [
                            0.8888888888888888,
                            "#fdca26"
                          ],
                          [
                            1,
                            "#f0f921"
                          ]
                        ],
                        "type": "histogram2d"
                      }
                    ],
                    "histogram2dcontour": [
                      {
                        "colorbar": {
                          "outlinewidth": 0,
                          "ticks": ""
                        },
                        "colorscale": [
                          [
                            0,
                            "#0d0887"
                          ],
                          [
                            0.1111111111111111,
                            "#46039f"
                          ],
                          [
                            0.2222222222222222,
                            "#7201a8"
                          ],
                          [
                            0.3333333333333333,
                            "#9c179e"
                          ],
                          [
                            0.4444444444444444,
                            "#bd3786"
                          ],
                          [
                            0.5555555555555556,
                            "#d8576b"
                          ],
                          [
                            0.6666666666666666,
                            "#ed7953"
                          ],
                          [
                            0.7777777777777778,
                            "#fb9f3a"
                          ],
                          [
                            0.8888888888888888,
                            "#fdca26"
                          ],
                          [
                            1,
                            "#f0f921"
                          ]
                        ],
                        "type": "histogram2dcontour"
                      }
                    ],
                    "mesh3d": [
                      {
                        "colorbar": {
                          "outlinewidth": 0,
                          "ticks": ""
                        },
                        "type": "mesh3d"
                      }
                    ],
                    "parcoords": [
                      {
                        "line": {
                          "colorbar": {
                            "outlinewidth": 0,
                            "ticks": ""
                          }
                        },
                        "type": "parcoords"
                      }
                    ],
                    "pie": [
                      {
                        "automargin": true,
                        "type": "pie"
                      }
                    ],
                    "scatter": [
                      {
                        "fillpattern": {
                          "fillmode": "overlay",
                          "size": 10,
                          "solidity": 0.2
                        },
                        "type": "scatter"
                      }
                    ],
                    "scatter3d": [
                      {
                        "line": {
                          "colorbar": {
                            "outlinewidth": 0,
                            "ticks": ""
                          }
                        },
                        "marker": {
                          "colorbar": {
                            "outlinewidth": 0,
                            "ticks": ""
                          }
                        },
                        "type": "scatter3d"
                      }
                    ],
                    "scattercarpet": [
                      {
                        "marker": {
                          "colorbar": {
                            "outlinewidth": 0,
                            "ticks": ""
                          }
                        },
                        "type": "scattercarpet"
                      }
                    ],
                    "scattergeo": [
                      {
                        "marker": {
                          "colorbar": {
                            "outlinewidth": 0,
                            "ticks": ""
                          }
                        },
                        "type": "scattergeo"
                      }
                    ],
                    "scattergl": [
                      {
                        "marker": {
                          "colorbar": {
                            "outlinewidth": 0,
                            "ticks": ""
                          }
                        },
                        "type": "scattergl"
                      }
                    ],
                    "scattermap": [
                      {
                        "marker": {
                          "colorbar": {
                            "outlinewidth": 0,
                            "ticks": ""
                          }
                        },
                        "type": "scattermap"
                      }
                    ],
                    "scattermapbox": [
                      {
                        "marker": {
                          "colorbar": {
                            "outlinewidth": 0,
                            "ticks": ""
                          }
                        },
                        "type": "scattermapbox"
                      }
                    ],
                    "scatterpolar": [
                      {
                        "marker": {
                          "colorbar": {
                            "outlinewidth": 0,
                            "ticks": ""
                          }
                        },
                        "type": "scatterpolar"
                      }
                    ],
                    "scatterpolargl": [
                      {
                        "marker": {
                          "colorbar": {
                            "outlinewidth": 0,
                            "ticks": ""
                          }
                        },
                        "type": "scatterpolargl"
                      }
                    ],
                    "scatterternary": [
                      {
                        "marker": {
                          "colorbar": {
                            "outlinewidth": 0,
                            "ticks": ""
                          }
                        },
                        "type": "scatterternary"
                      }
                    ],
                    "surface": [
                      {
                        "colorbar": {
                          "outlinewidth": 0,
                          "ticks": ""
                        },
                        "colorscale": [
                          [
                            0,
                            "#0d0887"
                          ],
                          [
                            0.1111111111111111,
                            "#46039f"
                          ],
                          [
                            0.2222222222222222,
                            "#7201a8"
                          ],
                          [
                            0.3333333333333333,
                            "#9c179e"
                          ],
                          [
                            0.4444444444444444,
                            "#bd3786"
                          ],
                          [
                            0.5555555555555556,
                            "#d8576b"
                          ],
                          [
                            0.6666666666666666,
                            "#ed7953"
                          ],
                          [
                            0.7777777777777778,
                            "#fb9f3a"
                          ],
                          [
                            0.8888888888888888,
                            "#fdca26"
                          ],
                          [
                            1,
                            "#f0f921"
                          ]
                        ],
                        "type": "surface"
                      }
                    ],
                    "table": [
                      {
                        "cells": {
                          "fill": {
                            "color": "#EBF0F8"
                          },
                          "line": {
                            "color": "white"
                          }
                        },
                        "header": {
                          "fill": {
                            "color": "#C8D4E3"
                          },
                          "line": {
                            "color": "white"
                          }
                        },
                        "type": "table"
                      }
                    ]
                  },
                  "layout": {
                    "annotationdefaults": {
                      "arrowcolor": "#2a3f5f",
                      "arrowhead": 0,
                      "arrowwidth": 1
                    },
                    "autotypenumbers": "strict",
                    "coloraxis": {
                      "colorbar": {
                        "outlinewidth": 0,
                        "ticks": ""
                      }
                    },
                    "colorscale": {
                      "diverging": [
                        [
                          0,
                          "#8e0152"
                        ],
                        [
                          0.1,
                          "#c51b7d"
                        ],
                        [
                          0.2,
                          "#de77ae"
                        ],
                        [
                          0.3,
                          "#f1b6da"
                        ],
                        [
                          0.4,
                          "#fde0ef"
                        ],
                        [
                          0.5,
                          "#f7f7f7"
                        ],
                        [
                          0.6,
                          "#e6f5d0"
                        ],
                        [
                          0.7,
                          "#b8e186"
                        ],
                        [
                          0.8,
                          "#7fbc41"
                        ],
                        [
                          0.9,
                          "#4d9221"
                        ],
                        [
                          1,
                          "#276419"
                        ]
                      ],
                      "sequential": [
                        [
                          0,
                          "#0d0887"
                        ],
                        [
                          0.1111111111111111,
                          "#46039f"
                        ],
                        [
                          0.2222222222222222,
                          "#7201a8"
                        ],
                        [
                          0.3333333333333333,
                          "#9c179e"
                        ],
                        [
                          0.4444444444444444,
                          "#bd3786"
                        ],
                        [
                          0.5555555555555556,
                          "#d8576b"
                        ],
                        [
                          0.6666666666666666,
                          "#ed7953"
                        ],
                        [
                          0.7777777777777778,
                          "#fb9f3a"
                        ],
                        [
                          0.8888888888888888,
                          "#fdca26"
                        ],
                        [
                          1,
                          "#f0f921"
                        ]
                      ],
                      "sequentialminus": [
                        [
                          0,
                          "#0d0887"
                        ],
                        [
                          0.1111111111111111,
                          "#46039f"
                        ],
                        [
                          0.2222222222222222,
                          "#7201a8"
                        ],
                        [
                          0.3333333333333333,
                          "#9c179e"
                        ],
                        [
                          0.4444444444444444,
                          "#bd3786"
                        ],
                        [
                          0.5555555555555556,
                          "#d8576b"
                        ],
                        [
                          0.6666666666666666,
                          "#ed7953"
                        ],
                        [
                          0.7777777777777778,
                          "#fb9f3a"
                        ],
                        [
                          0.8888888888888888,
                          "#fdca26"
                        ],
                        [
                          1,
                          "#f0f921"
                        ]
                      ]
                    },
                    "colorway": [
                      "#636efa",
                      "#EF553B",
                      "#00cc96",
                      "#ab63fa",
                      "#FFA15A",
                      "#19d3f3",
                      "#FF6692",
                      "#B6E880",
                      "#FF97FF",
                      "#FECB52"
                    ],
                    "font": {
                      "color": "#2a3f5f"
                    },
                    "geo": {
                      "bgcolor": "white",
                      "lakecolor": "white",
                      "landcolor": "#E5ECF6",
                      "showlakes": true,
                      "showland": true,
                      "subunitcolor": "white"
                    },
                    "hoverlabel": {
                      "align": "left"
                    },
                    "hovermode": "closest",
                    "mapbox": {
                      "style": "light"
                    },
                    "paper_bgcolor": "white",
                    "plot_bgcolor": "#E5ECF6",
                    "polar": {
                      "angularaxis": {
                        "gridcolor": "white",
                        "linecolor": "white",
                        "ticks": ""
                      },
                      "bgcolor": "#E5ECF6",
                      "radialaxis": {
                        "gridcolor": "white",
                        "linecolor": "white",
                        "ticks": ""
                      }
                    },
                    "scene": {
                      "xaxis": {
                        "backgroundcolor": "#E5ECF6",
                        "gridcolor": "white",
                        "gridwidth": 2,
                        "linecolor": "white",
                        "showbackground": true,
                        "ticks": "",
                        "zerolinecolor": "white"
                      },
                      "yaxis": {
                        "backgroundcolor": "#E5ECF6",
                        "gridcolor": "white",
                        "gridwidth": 2,
                        "linecolor": "white",
                        "showbackground": true,
                        "ticks": "",
                        "zerolinecolor": "white"
                      },
                      "zaxis": {
                        "backgroundcolor": "#E5ECF6",
                        "gridcolor": "white",
                        "gridwidth": 2,
                        "linecolor": "white",
                        "showbackground": true,
                        "ticks": "",
                        "zerolinecolor": "white"
                      }
                    },
                    "shapedefaults": {
                      "line": {
                        "color": "#2a3f5f"
                      }
                    },
                    "ternary": {
                      "aaxis": {
                        "gridcolor": "white",
                        "linecolor": "white",
                        "ticks": ""
                      },
                      "baxis": {
                        "gridcolor": "white",
                        "linecolor": "white",
                        "ticks": ""
                      },
                      "bgcolor": "#E5ECF6",
                      "caxis": {
                        "gridcolor": "white",
                        "linecolor": "white",
                        "ticks": ""
                      }
                    },
                    "title": {
                      "x": 0.05
                    },
                    "xaxis": {
                      "automargin": true,
                      "gridcolor": "white",
                      "linecolor": "white",
                      "ticks": "",
                      "title": {
                        "standoff": 15
                      },
                      "zerolinecolor": "white",
                      "zerolinewidth": 2
                    },
                    "yaxis": {
                      "automargin": true,
                      "gridcolor": "white",
                      "linecolor": "white",
                      "ticks": "",
                      "title": {
                        "standoff": 15
                      },
                      "zerolinecolor": "white",
                      "zerolinewidth": 2
                    }
                  }
                },
                "title": {
                  "text": "Top 30 most frequent words in the text",
                  "x": 0.5
                },
                "xaxis": {
                  "tickangle": -45,
                  "title": {
                    "text": "Words"
                  }
                },
                "yaxis": {
                  "title": {
                    "text": "Frequency"
                  }
                }
              }
            }
          },
          "metadata": {},
          "output_type": "display_data"
        }
      ],
      "source": [
        "plot_histogram_word(denuncias_limpas_sem_stopwords, 30)"
      ]
    },
    {
      "cell_type": "code",
      "execution_count": 21,
      "metadata": {
        "id": "DiXEBwVAPOeg"
      },
      "outputs": [],
      "source": [
        "def spacy_lemmatizer(text):\n",
        "    doc = nlp(text)\n",
        "    txt = [token.lemma_ for token in doc]\n",
        "    return \" \".join(txt)"
      ]
    },
    {
      "cell_type": "code",
      "execution_count": 22,
      "metadata": {
        "id": "pvYRxBUTPad_"
      },
      "outputs": [],
      "source": [
        "denuncias_limpas_sem_stopwords_lemarizadas = denuncias_limpas.apply(spacy_lemmatizer)"
      ]
    },
    {
      "cell_type": "code",
      "execution_count": 23,
      "metadata": {
        "colab": {
          "base_uri": "https://localhost:8080/",
          "height": 542
        },
        "id": "DwurUlcSP1YG",
        "outputId": "800e894f-2ed1-47c6-c0fc-16c4eed0efdc"
      },
      "outputs": [
        {
          "data": {
            "application/vnd.plotly.v1+json": {
              "config": {
                "plotlyServerURL": "https://plot.ly"
              },
              "data": [
                {
                  "text": [
                    "61551",
                    "45041",
                    "23681",
                    "18365",
                    "18164",
                    "15732",
                    "11878",
                    "11216",
                    "7614",
                    "7257",
                    "6981",
                    "6390",
                    "6204",
                    "5794",
                    "5585",
                    "5020",
                    "4481",
                    "3668",
                    "3384",
                    "3350",
                    "3348",
                    "3196",
                    "3043",
                    "3007",
                    "2939",
                    "2855",
                    "2796",
                    "2761",
                    "2700",
                    "2658"
                  ],
                  "textposition": "auto",
                  "type": "bar",
                  "x": [
                    "o",
                    "de",
                    "e",
                    "ser",
                    "que",
                    "em",
                    "não",
                    "um",
                    "com",
                    "para",
                    "ter",
                    "empresa",
                    "se",
                    "por",
                    "a",
                    "fazer",
                    "funcionário",
                    "sem",
                    "todo",
                    "pra",
                    "pessoa",
                    "mas",
                    "você",
                    "trabalhar",
                    "mais",
                    "estar",
                    "muito",
                    "só",
                    "seu",
                    "como"
                  ],
                  "y": [
                    61551,
                    45041,
                    23681,
                    18365,
                    18164,
                    15732,
                    11878,
                    11216,
                    7614,
                    7257,
                    6981,
                    6390,
                    6204,
                    5794,
                    5585,
                    5020,
                    4481,
                    3668,
                    3384,
                    3350,
                    3348,
                    3196,
                    3043,
                    3007,
                    2939,
                    2855,
                    2796,
                    2761,
                    2700,
                    2658
                  ]
                }
              ],
              "layout": {
                "template": {
                  "data": {
                    "bar": [
                      {
                        "error_x": {
                          "color": "#2a3f5f"
                        },
                        "error_y": {
                          "color": "#2a3f5f"
                        },
                        "marker": {
                          "line": {
                            "color": "#E5ECF6",
                            "width": 0.5
                          },
                          "pattern": {
                            "fillmode": "overlay",
                            "size": 10,
                            "solidity": 0.2
                          }
                        },
                        "type": "bar"
                      }
                    ],
                    "barpolar": [
                      {
                        "marker": {
                          "line": {
                            "color": "#E5ECF6",
                            "width": 0.5
                          },
                          "pattern": {
                            "fillmode": "overlay",
                            "size": 10,
                            "solidity": 0.2
                          }
                        },
                        "type": "barpolar"
                      }
                    ],
                    "carpet": [
                      {
                        "aaxis": {
                          "endlinecolor": "#2a3f5f",
                          "gridcolor": "white",
                          "linecolor": "white",
                          "minorgridcolor": "white",
                          "startlinecolor": "#2a3f5f"
                        },
                        "baxis": {
                          "endlinecolor": "#2a3f5f",
                          "gridcolor": "white",
                          "linecolor": "white",
                          "minorgridcolor": "white",
                          "startlinecolor": "#2a3f5f"
                        },
                        "type": "carpet"
                      }
                    ],
                    "choropleth": [
                      {
                        "colorbar": {
                          "outlinewidth": 0,
                          "ticks": ""
                        },
                        "type": "choropleth"
                      }
                    ],
                    "contour": [
                      {
                        "colorbar": {
                          "outlinewidth": 0,
                          "ticks": ""
                        },
                        "colorscale": [
                          [
                            0,
                            "#0d0887"
                          ],
                          [
                            0.1111111111111111,
                            "#46039f"
                          ],
                          [
                            0.2222222222222222,
                            "#7201a8"
                          ],
                          [
                            0.3333333333333333,
                            "#9c179e"
                          ],
                          [
                            0.4444444444444444,
                            "#bd3786"
                          ],
                          [
                            0.5555555555555556,
                            "#d8576b"
                          ],
                          [
                            0.6666666666666666,
                            "#ed7953"
                          ],
                          [
                            0.7777777777777778,
                            "#fb9f3a"
                          ],
                          [
                            0.8888888888888888,
                            "#fdca26"
                          ],
                          [
                            1,
                            "#f0f921"
                          ]
                        ],
                        "type": "contour"
                      }
                    ],
                    "contourcarpet": [
                      {
                        "colorbar": {
                          "outlinewidth": 0,
                          "ticks": ""
                        },
                        "type": "contourcarpet"
                      }
                    ],
                    "heatmap": [
                      {
                        "colorbar": {
                          "outlinewidth": 0,
                          "ticks": ""
                        },
                        "colorscale": [
                          [
                            0,
                            "#0d0887"
                          ],
                          [
                            0.1111111111111111,
                            "#46039f"
                          ],
                          [
                            0.2222222222222222,
                            "#7201a8"
                          ],
                          [
                            0.3333333333333333,
                            "#9c179e"
                          ],
                          [
                            0.4444444444444444,
                            "#bd3786"
                          ],
                          [
                            0.5555555555555556,
                            "#d8576b"
                          ],
                          [
                            0.6666666666666666,
                            "#ed7953"
                          ],
                          [
                            0.7777777777777778,
                            "#fb9f3a"
                          ],
                          [
                            0.8888888888888888,
                            "#fdca26"
                          ],
                          [
                            1,
                            "#f0f921"
                          ]
                        ],
                        "type": "heatmap"
                      }
                    ],
                    "histogram": [
                      {
                        "marker": {
                          "pattern": {
                            "fillmode": "overlay",
                            "size": 10,
                            "solidity": 0.2
                          }
                        },
                        "type": "histogram"
                      }
                    ],
                    "histogram2d": [
                      {
                        "colorbar": {
                          "outlinewidth": 0,
                          "ticks": ""
                        },
                        "colorscale": [
                          [
                            0,
                            "#0d0887"
                          ],
                          [
                            0.1111111111111111,
                            "#46039f"
                          ],
                          [
                            0.2222222222222222,
                            "#7201a8"
                          ],
                          [
                            0.3333333333333333,
                            "#9c179e"
                          ],
                          [
                            0.4444444444444444,
                            "#bd3786"
                          ],
                          [
                            0.5555555555555556,
                            "#d8576b"
                          ],
                          [
                            0.6666666666666666,
                            "#ed7953"
                          ],
                          [
                            0.7777777777777778,
                            "#fb9f3a"
                          ],
                          [
                            0.8888888888888888,
                            "#fdca26"
                          ],
                          [
                            1,
                            "#f0f921"
                          ]
                        ],
                        "type": "histogram2d"
                      }
                    ],
                    "histogram2dcontour": [
                      {
                        "colorbar": {
                          "outlinewidth": 0,
                          "ticks": ""
                        },
                        "colorscale": [
                          [
                            0,
                            "#0d0887"
                          ],
                          [
                            0.1111111111111111,
                            "#46039f"
                          ],
                          [
                            0.2222222222222222,
                            "#7201a8"
                          ],
                          [
                            0.3333333333333333,
                            "#9c179e"
                          ],
                          [
                            0.4444444444444444,
                            "#bd3786"
                          ],
                          [
                            0.5555555555555556,
                            "#d8576b"
                          ],
                          [
                            0.6666666666666666,
                            "#ed7953"
                          ],
                          [
                            0.7777777777777778,
                            "#fb9f3a"
                          ],
                          [
                            0.8888888888888888,
                            "#fdca26"
                          ],
                          [
                            1,
                            "#f0f921"
                          ]
                        ],
                        "type": "histogram2dcontour"
                      }
                    ],
                    "mesh3d": [
                      {
                        "colorbar": {
                          "outlinewidth": 0,
                          "ticks": ""
                        },
                        "type": "mesh3d"
                      }
                    ],
                    "parcoords": [
                      {
                        "line": {
                          "colorbar": {
                            "outlinewidth": 0,
                            "ticks": ""
                          }
                        },
                        "type": "parcoords"
                      }
                    ],
                    "pie": [
                      {
                        "automargin": true,
                        "type": "pie"
                      }
                    ],
                    "scatter": [
                      {
                        "fillpattern": {
                          "fillmode": "overlay",
                          "size": 10,
                          "solidity": 0.2
                        },
                        "type": "scatter"
                      }
                    ],
                    "scatter3d": [
                      {
                        "line": {
                          "colorbar": {
                            "outlinewidth": 0,
                            "ticks": ""
                          }
                        },
                        "marker": {
                          "colorbar": {
                            "outlinewidth": 0,
                            "ticks": ""
                          }
                        },
                        "type": "scatter3d"
                      }
                    ],
                    "scattercarpet": [
                      {
                        "marker": {
                          "colorbar": {
                            "outlinewidth": 0,
                            "ticks": ""
                          }
                        },
                        "type": "scattercarpet"
                      }
                    ],
                    "scattergeo": [
                      {
                        "marker": {
                          "colorbar": {
                            "outlinewidth": 0,
                            "ticks": ""
                          }
                        },
                        "type": "scattergeo"
                      }
                    ],
                    "scattergl": [
                      {
                        "marker": {
                          "colorbar": {
                            "outlinewidth": 0,
                            "ticks": ""
                          }
                        },
                        "type": "scattergl"
                      }
                    ],
                    "scattermap": [
                      {
                        "marker": {
                          "colorbar": {
                            "outlinewidth": 0,
                            "ticks": ""
                          }
                        },
                        "type": "scattermap"
                      }
                    ],
                    "scattermapbox": [
                      {
                        "marker": {
                          "colorbar": {
                            "outlinewidth": 0,
                            "ticks": ""
                          }
                        },
                        "type": "scattermapbox"
                      }
                    ],
                    "scatterpolar": [
                      {
                        "marker": {
                          "colorbar": {
                            "outlinewidth": 0,
                            "ticks": ""
                          }
                        },
                        "type": "scatterpolar"
                      }
                    ],
                    "scatterpolargl": [
                      {
                        "marker": {
                          "colorbar": {
                            "outlinewidth": 0,
                            "ticks": ""
                          }
                        },
                        "type": "scatterpolargl"
                      }
                    ],
                    "scatterternary": [
                      {
                        "marker": {
                          "colorbar": {
                            "outlinewidth": 0,
                            "ticks": ""
                          }
                        },
                        "type": "scatterternary"
                      }
                    ],
                    "surface": [
                      {
                        "colorbar": {
                          "outlinewidth": 0,
                          "ticks": ""
                        },
                        "colorscale": [
                          [
                            0,
                            "#0d0887"
                          ],
                          [
                            0.1111111111111111,
                            "#46039f"
                          ],
                          [
                            0.2222222222222222,
                            "#7201a8"
                          ],
                          [
                            0.3333333333333333,
                            "#9c179e"
                          ],
                          [
                            0.4444444444444444,
                            "#bd3786"
                          ],
                          [
                            0.5555555555555556,
                            "#d8576b"
                          ],
                          [
                            0.6666666666666666,
                            "#ed7953"
                          ],
                          [
                            0.7777777777777778,
                            "#fb9f3a"
                          ],
                          [
                            0.8888888888888888,
                            "#fdca26"
                          ],
                          [
                            1,
                            "#f0f921"
                          ]
                        ],
                        "type": "surface"
                      }
                    ],
                    "table": [
                      {
                        "cells": {
                          "fill": {
                            "color": "#EBF0F8"
                          },
                          "line": {
                            "color": "white"
                          }
                        },
                        "header": {
                          "fill": {
                            "color": "#C8D4E3"
                          },
                          "line": {
                            "color": "white"
                          }
                        },
                        "type": "table"
                      }
                    ]
                  },
                  "layout": {
                    "annotationdefaults": {
                      "arrowcolor": "#2a3f5f",
                      "arrowhead": 0,
                      "arrowwidth": 1
                    },
                    "autotypenumbers": "strict",
                    "coloraxis": {
                      "colorbar": {
                        "outlinewidth": 0,
                        "ticks": ""
                      }
                    },
                    "colorscale": {
                      "diverging": [
                        [
                          0,
                          "#8e0152"
                        ],
                        [
                          0.1,
                          "#c51b7d"
                        ],
                        [
                          0.2,
                          "#de77ae"
                        ],
                        [
                          0.3,
                          "#f1b6da"
                        ],
                        [
                          0.4,
                          "#fde0ef"
                        ],
                        [
                          0.5,
                          "#f7f7f7"
                        ],
                        [
                          0.6,
                          "#e6f5d0"
                        ],
                        [
                          0.7,
                          "#b8e186"
                        ],
                        [
                          0.8,
                          "#7fbc41"
                        ],
                        [
                          0.9,
                          "#4d9221"
                        ],
                        [
                          1,
                          "#276419"
                        ]
                      ],
                      "sequential": [
                        [
                          0,
                          "#0d0887"
                        ],
                        [
                          0.1111111111111111,
                          "#46039f"
                        ],
                        [
                          0.2222222222222222,
                          "#7201a8"
                        ],
                        [
                          0.3333333333333333,
                          "#9c179e"
                        ],
                        [
                          0.4444444444444444,
                          "#bd3786"
                        ],
                        [
                          0.5555555555555556,
                          "#d8576b"
                        ],
                        [
                          0.6666666666666666,
                          "#ed7953"
                        ],
                        [
                          0.7777777777777778,
                          "#fb9f3a"
                        ],
                        [
                          0.8888888888888888,
                          "#fdca26"
                        ],
                        [
                          1,
                          "#f0f921"
                        ]
                      ],
                      "sequentialminus": [
                        [
                          0,
                          "#0d0887"
                        ],
                        [
                          0.1111111111111111,
                          "#46039f"
                        ],
                        [
                          0.2222222222222222,
                          "#7201a8"
                        ],
                        [
                          0.3333333333333333,
                          "#9c179e"
                        ],
                        [
                          0.4444444444444444,
                          "#bd3786"
                        ],
                        [
                          0.5555555555555556,
                          "#d8576b"
                        ],
                        [
                          0.6666666666666666,
                          "#ed7953"
                        ],
                        [
                          0.7777777777777778,
                          "#fb9f3a"
                        ],
                        [
                          0.8888888888888888,
                          "#fdca26"
                        ],
                        [
                          1,
                          "#f0f921"
                        ]
                      ]
                    },
                    "colorway": [
                      "#636efa",
                      "#EF553B",
                      "#00cc96",
                      "#ab63fa",
                      "#FFA15A",
                      "#19d3f3",
                      "#FF6692",
                      "#B6E880",
                      "#FF97FF",
                      "#FECB52"
                    ],
                    "font": {
                      "color": "#2a3f5f"
                    },
                    "geo": {
                      "bgcolor": "white",
                      "lakecolor": "white",
                      "landcolor": "#E5ECF6",
                      "showlakes": true,
                      "showland": true,
                      "subunitcolor": "white"
                    },
                    "hoverlabel": {
                      "align": "left"
                    },
                    "hovermode": "closest",
                    "mapbox": {
                      "style": "light"
                    },
                    "paper_bgcolor": "white",
                    "plot_bgcolor": "#E5ECF6",
                    "polar": {
                      "angularaxis": {
                        "gridcolor": "white",
                        "linecolor": "white",
                        "ticks": ""
                      },
                      "bgcolor": "#E5ECF6",
                      "radialaxis": {
                        "gridcolor": "white",
                        "linecolor": "white",
                        "ticks": ""
                      }
                    },
                    "scene": {
                      "xaxis": {
                        "backgroundcolor": "#E5ECF6",
                        "gridcolor": "white",
                        "gridwidth": 2,
                        "linecolor": "white",
                        "showbackground": true,
                        "ticks": "",
                        "zerolinecolor": "white"
                      },
                      "yaxis": {
                        "backgroundcolor": "#E5ECF6",
                        "gridcolor": "white",
                        "gridwidth": 2,
                        "linecolor": "white",
                        "showbackground": true,
                        "ticks": "",
                        "zerolinecolor": "white"
                      },
                      "zaxis": {
                        "backgroundcolor": "#E5ECF6",
                        "gridcolor": "white",
                        "gridwidth": 2,
                        "linecolor": "white",
                        "showbackground": true,
                        "ticks": "",
                        "zerolinecolor": "white"
                      }
                    },
                    "shapedefaults": {
                      "line": {
                        "color": "#2a3f5f"
                      }
                    },
                    "ternary": {
                      "aaxis": {
                        "gridcolor": "white",
                        "linecolor": "white",
                        "ticks": ""
                      },
                      "baxis": {
                        "gridcolor": "white",
                        "linecolor": "white",
                        "ticks": ""
                      },
                      "bgcolor": "#E5ECF6",
                      "caxis": {
                        "gridcolor": "white",
                        "linecolor": "white",
                        "ticks": ""
                      }
                    },
                    "title": {
                      "x": 0.05
                    },
                    "xaxis": {
                      "automargin": true,
                      "gridcolor": "white",
                      "linecolor": "white",
                      "ticks": "",
                      "title": {
                        "standoff": 15
                      },
                      "zerolinecolor": "white",
                      "zerolinewidth": 2
                    },
                    "yaxis": {
                      "automargin": true,
                      "gridcolor": "white",
                      "linecolor": "white",
                      "ticks": "",
                      "title": {
                        "standoff": 15
                      },
                      "zerolinecolor": "white",
                      "zerolinewidth": 2
                    }
                  }
                },
                "title": {
                  "text": "Top 30 most frequent words in the text",
                  "x": 0.5
                },
                "xaxis": {
                  "tickangle": -45,
                  "title": {
                    "text": "Words"
                  }
                },
                "yaxis": {
                  "title": {
                    "text": "Frequency"
                  }
                }
              }
            }
          },
          "metadata": {},
          "output_type": "display_data"
        }
      ],
      "source": [
        "plot_histogram_word(denuncias_limpas_sem_stopwords_lemarizadas, 30)"
      ]
    },
    {
      "cell_type": "code",
      "execution_count": 24,
      "metadata": {
        "id": "AdQxs-AqQMyq"
      },
      "outputs": [],
      "source": [
        "def deixa_apenas_palavras_3_caracteres(textos):\n",
        "    return [word for word in textos if len(word) > 2]"
      ]
    },
    {
      "cell_type": "markdown",
      "metadata": {
        "id": "NIwAiWAMTtsO"
      },
      "source": [
        "Melhorando a pipeline de limpeza dos dados"
      ]
    },
    {
      "cell_type": "code",
      "execution_count": 29,
      "metadata": {
        "colab": {
          "base_uri": "https://localhost:8080/"
        },
        "id": "iyld4Ty3Tsuy",
        "outputId": "c5a9f1b5-01a5-441b-ac1a-9946a9da3438"
      },
      "outputs": [
        {
          "data": {
            "text/plain": [
              "15415"
            ]
          },
          "execution_count": 29,
          "metadata": {},
          "output_type": "execute_result"
        }
      ],
      "source": [
        "from utils.text import remove_excessive_spaces, remove_repeated_non_word_characters, correct_isolated_commas, keep_only_alphabet_characters\n",
        "\n",
        "pipeline_clean_text = Pipeline(\n",
        "    [\n",
        "        (\"apenas_caracteres_importantes\", FunctionTransformer(apenas_caracteres_importantes)),\n",
        "        (\"spacy_lemmatizer\", FunctionTransformer(spacy_lemmatizer)),\n",
        "        (\"remove_stopwords\", FunctionTransformer(remove_stopwords)),\n",
        "        (\"remove_excessive_spaces\", FunctionTransformer(remove_excessive_spaces)),\n",
        "        (\n",
        "            \"remove_repeated_non_word_characters\",\n",
        "            FunctionTransformer(remove_repeated_non_word_characters),\n",
        "        ),\n",
        "        (\n",
        "            \"correct_isolated_commas\",\n",
        "            FunctionTransformer(correct_isolated_commas),\n",
        "        ),\n",
        "    ]\n",
        ")\n",
        "\n",
        "denuncias_limpas_v2 = denuncias.apply(pipeline_clean_text.transform)\n",
        "len(denuncias_limpas)"
      ]
    },
    {
      "cell_type": "code",
      "execution_count": 30,
      "metadata": {
        "colab": {
          "base_uri": "https://localhost:8080/",
          "height": 542
        },
        "id": "-oC5D114X7qb",
        "outputId": "bb1624a8-1cba-4af8-ba8e-ee747c5e7713"
      },
      "outputs": [
        {
          "data": {
            "application/vnd.plotly.v1+json": {
              "config": {
                "plotlyServerURL": "https://plot.ly"
              },
              "data": [
                {
                  "text": [
                    "8442",
                    "4511",
                    "3411",
                    "3400",
                    "3057",
                    "2582",
                    "2056",
                    "2053",
                    "1934",
                    "1837",
                    "1787",
                    "1744",
                    "1738",
                    "1734",
                    "1726",
                    "1632",
                    "1577",
                    "1502",
                    "1481",
                    "1393",
                    "1382",
                    "1352",
                    "1317",
                    "1243",
                    "1148",
                    "1136",
                    "1119",
                    "1074",
                    "1041",
                    "1039"
                  ],
                  "textposition": "auto",
                  "type": "bar",
                  "x": [
                    "empresa",
                    "funcionário",
                    "pessoa",
                    "pra",
                    "trabalhar",
                    "trabalho",
                    "salário",
                    "liderança",
                    "gestão",
                    "tóxico",
                    "ficar",
                    "hora",
                    "pagar",
                    "outro",
                    "assédio",
                    "dia",
                    "moral",
                    "falar",
                    "rh",
                    "querer",
                    "gestor",
                    "ambiente",
                    "gerente",
                    "cargo",
                    "cliente",
                    "ano",
                    "cultura",
                    "nao",
                    "algum",
                    "demitir"
                  ],
                  "y": [
                    8442,
                    4511,
                    3411,
                    3400,
                    3057,
                    2582,
                    2056,
                    2053,
                    1934,
                    1837,
                    1787,
                    1744,
                    1738,
                    1734,
                    1726,
                    1632,
                    1577,
                    1502,
                    1481,
                    1393,
                    1382,
                    1352,
                    1317,
                    1243,
                    1148,
                    1136,
                    1119,
                    1074,
                    1041,
                    1039
                  ]
                }
              ],
              "layout": {
                "template": {
                  "data": {
                    "bar": [
                      {
                        "error_x": {
                          "color": "#2a3f5f"
                        },
                        "error_y": {
                          "color": "#2a3f5f"
                        },
                        "marker": {
                          "line": {
                            "color": "#E5ECF6",
                            "width": 0.5
                          },
                          "pattern": {
                            "fillmode": "overlay",
                            "size": 10,
                            "solidity": 0.2
                          }
                        },
                        "type": "bar"
                      }
                    ],
                    "barpolar": [
                      {
                        "marker": {
                          "line": {
                            "color": "#E5ECF6",
                            "width": 0.5
                          },
                          "pattern": {
                            "fillmode": "overlay",
                            "size": 10,
                            "solidity": 0.2
                          }
                        },
                        "type": "barpolar"
                      }
                    ],
                    "carpet": [
                      {
                        "aaxis": {
                          "endlinecolor": "#2a3f5f",
                          "gridcolor": "white",
                          "linecolor": "white",
                          "minorgridcolor": "white",
                          "startlinecolor": "#2a3f5f"
                        },
                        "baxis": {
                          "endlinecolor": "#2a3f5f",
                          "gridcolor": "white",
                          "linecolor": "white",
                          "minorgridcolor": "white",
                          "startlinecolor": "#2a3f5f"
                        },
                        "type": "carpet"
                      }
                    ],
                    "choropleth": [
                      {
                        "colorbar": {
                          "outlinewidth": 0,
                          "ticks": ""
                        },
                        "type": "choropleth"
                      }
                    ],
                    "contour": [
                      {
                        "colorbar": {
                          "outlinewidth": 0,
                          "ticks": ""
                        },
                        "colorscale": [
                          [
                            0,
                            "#0d0887"
                          ],
                          [
                            0.1111111111111111,
                            "#46039f"
                          ],
                          [
                            0.2222222222222222,
                            "#7201a8"
                          ],
                          [
                            0.3333333333333333,
                            "#9c179e"
                          ],
                          [
                            0.4444444444444444,
                            "#bd3786"
                          ],
                          [
                            0.5555555555555556,
                            "#d8576b"
                          ],
                          [
                            0.6666666666666666,
                            "#ed7953"
                          ],
                          [
                            0.7777777777777778,
                            "#fb9f3a"
                          ],
                          [
                            0.8888888888888888,
                            "#fdca26"
                          ],
                          [
                            1,
                            "#f0f921"
                          ]
                        ],
                        "type": "contour"
                      }
                    ],
                    "contourcarpet": [
                      {
                        "colorbar": {
                          "outlinewidth": 0,
                          "ticks": ""
                        },
                        "type": "contourcarpet"
                      }
                    ],
                    "heatmap": [
                      {
                        "colorbar": {
                          "outlinewidth": 0,
                          "ticks": ""
                        },
                        "colorscale": [
                          [
                            0,
                            "#0d0887"
                          ],
                          [
                            0.1111111111111111,
                            "#46039f"
                          ],
                          [
                            0.2222222222222222,
                            "#7201a8"
                          ],
                          [
                            0.3333333333333333,
                            "#9c179e"
                          ],
                          [
                            0.4444444444444444,
                            "#bd3786"
                          ],
                          [
                            0.5555555555555556,
                            "#d8576b"
                          ],
                          [
                            0.6666666666666666,
                            "#ed7953"
                          ],
                          [
                            0.7777777777777778,
                            "#fb9f3a"
                          ],
                          [
                            0.8888888888888888,
                            "#fdca26"
                          ],
                          [
                            1,
                            "#f0f921"
                          ]
                        ],
                        "type": "heatmap"
                      }
                    ],
                    "histogram": [
                      {
                        "marker": {
                          "pattern": {
                            "fillmode": "overlay",
                            "size": 10,
                            "solidity": 0.2
                          }
                        },
                        "type": "histogram"
                      }
                    ],
                    "histogram2d": [
                      {
                        "colorbar": {
                          "outlinewidth": 0,
                          "ticks": ""
                        },
                        "colorscale": [
                          [
                            0,
                            "#0d0887"
                          ],
                          [
                            0.1111111111111111,
                            "#46039f"
                          ],
                          [
                            0.2222222222222222,
                            "#7201a8"
                          ],
                          [
                            0.3333333333333333,
                            "#9c179e"
                          ],
                          [
                            0.4444444444444444,
                            "#bd3786"
                          ],
                          [
                            0.5555555555555556,
                            "#d8576b"
                          ],
                          [
                            0.6666666666666666,
                            "#ed7953"
                          ],
                          [
                            0.7777777777777778,
                            "#fb9f3a"
                          ],
                          [
                            0.8888888888888888,
                            "#fdca26"
                          ],
                          [
                            1,
                            "#f0f921"
                          ]
                        ],
                        "type": "histogram2d"
                      }
                    ],
                    "histogram2dcontour": [
                      {
                        "colorbar": {
                          "outlinewidth": 0,
                          "ticks": ""
                        },
                        "colorscale": [
                          [
                            0,
                            "#0d0887"
                          ],
                          [
                            0.1111111111111111,
                            "#46039f"
                          ],
                          [
                            0.2222222222222222,
                            "#7201a8"
                          ],
                          [
                            0.3333333333333333,
                            "#9c179e"
                          ],
                          [
                            0.4444444444444444,
                            "#bd3786"
                          ],
                          [
                            0.5555555555555556,
                            "#d8576b"
                          ],
                          [
                            0.6666666666666666,
                            "#ed7953"
                          ],
                          [
                            0.7777777777777778,
                            "#fb9f3a"
                          ],
                          [
                            0.8888888888888888,
                            "#fdca26"
                          ],
                          [
                            1,
                            "#f0f921"
                          ]
                        ],
                        "type": "histogram2dcontour"
                      }
                    ],
                    "mesh3d": [
                      {
                        "colorbar": {
                          "outlinewidth": 0,
                          "ticks": ""
                        },
                        "type": "mesh3d"
                      }
                    ],
                    "parcoords": [
                      {
                        "line": {
                          "colorbar": {
                            "outlinewidth": 0,
                            "ticks": ""
                          }
                        },
                        "type": "parcoords"
                      }
                    ],
                    "pie": [
                      {
                        "automargin": true,
                        "type": "pie"
                      }
                    ],
                    "scatter": [
                      {
                        "fillpattern": {
                          "fillmode": "overlay",
                          "size": 10,
                          "solidity": 0.2
                        },
                        "type": "scatter"
                      }
                    ],
                    "scatter3d": [
                      {
                        "line": {
                          "colorbar": {
                            "outlinewidth": 0,
                            "ticks": ""
                          }
                        },
                        "marker": {
                          "colorbar": {
                            "outlinewidth": 0,
                            "ticks": ""
                          }
                        },
                        "type": "scatter3d"
                      }
                    ],
                    "scattercarpet": [
                      {
                        "marker": {
                          "colorbar": {
                            "outlinewidth": 0,
                            "ticks": ""
                          }
                        },
                        "type": "scattercarpet"
                      }
                    ],
                    "scattergeo": [
                      {
                        "marker": {
                          "colorbar": {
                            "outlinewidth": 0,
                            "ticks": ""
                          }
                        },
                        "type": "scattergeo"
                      }
                    ],
                    "scattergl": [
                      {
                        "marker": {
                          "colorbar": {
                            "outlinewidth": 0,
                            "ticks": ""
                          }
                        },
                        "type": "scattergl"
                      }
                    ],
                    "scattermap": [
                      {
                        "marker": {
                          "colorbar": {
                            "outlinewidth": 0,
                            "ticks": ""
                          }
                        },
                        "type": "scattermap"
                      }
                    ],
                    "scattermapbox": [
                      {
                        "marker": {
                          "colorbar": {
                            "outlinewidth": 0,
                            "ticks": ""
                          }
                        },
                        "type": "scattermapbox"
                      }
                    ],
                    "scatterpolar": [
                      {
                        "marker": {
                          "colorbar": {
                            "outlinewidth": 0,
                            "ticks": ""
                          }
                        },
                        "type": "scatterpolar"
                      }
                    ],
                    "scatterpolargl": [
                      {
                        "marker": {
                          "colorbar": {
                            "outlinewidth": 0,
                            "ticks": ""
                          }
                        },
                        "type": "scatterpolargl"
                      }
                    ],
                    "scatterternary": [
                      {
                        "marker": {
                          "colorbar": {
                            "outlinewidth": 0,
                            "ticks": ""
                          }
                        },
                        "type": "scatterternary"
                      }
                    ],
                    "surface": [
                      {
                        "colorbar": {
                          "outlinewidth": 0,
                          "ticks": ""
                        },
                        "colorscale": [
                          [
                            0,
                            "#0d0887"
                          ],
                          [
                            0.1111111111111111,
                            "#46039f"
                          ],
                          [
                            0.2222222222222222,
                            "#7201a8"
                          ],
                          [
                            0.3333333333333333,
                            "#9c179e"
                          ],
                          [
                            0.4444444444444444,
                            "#bd3786"
                          ],
                          [
                            0.5555555555555556,
                            "#d8576b"
                          ],
                          [
                            0.6666666666666666,
                            "#ed7953"
                          ],
                          [
                            0.7777777777777778,
                            "#fb9f3a"
                          ],
                          [
                            0.8888888888888888,
                            "#fdca26"
                          ],
                          [
                            1,
                            "#f0f921"
                          ]
                        ],
                        "type": "surface"
                      }
                    ],
                    "table": [
                      {
                        "cells": {
                          "fill": {
                            "color": "#EBF0F8"
                          },
                          "line": {
                            "color": "white"
                          }
                        },
                        "header": {
                          "fill": {
                            "color": "#C8D4E3"
                          },
                          "line": {
                            "color": "white"
                          }
                        },
                        "type": "table"
                      }
                    ]
                  },
                  "layout": {
                    "annotationdefaults": {
                      "arrowcolor": "#2a3f5f",
                      "arrowhead": 0,
                      "arrowwidth": 1
                    },
                    "autotypenumbers": "strict",
                    "coloraxis": {
                      "colorbar": {
                        "outlinewidth": 0,
                        "ticks": ""
                      }
                    },
                    "colorscale": {
                      "diverging": [
                        [
                          0,
                          "#8e0152"
                        ],
                        [
                          0.1,
                          "#c51b7d"
                        ],
                        [
                          0.2,
                          "#de77ae"
                        ],
                        [
                          0.3,
                          "#f1b6da"
                        ],
                        [
                          0.4,
                          "#fde0ef"
                        ],
                        [
                          0.5,
                          "#f7f7f7"
                        ],
                        [
                          0.6,
                          "#e6f5d0"
                        ],
                        [
                          0.7,
                          "#b8e186"
                        ],
                        [
                          0.8,
                          "#7fbc41"
                        ],
                        [
                          0.9,
                          "#4d9221"
                        ],
                        [
                          1,
                          "#276419"
                        ]
                      ],
                      "sequential": [
                        [
                          0,
                          "#0d0887"
                        ],
                        [
                          0.1111111111111111,
                          "#46039f"
                        ],
                        [
                          0.2222222222222222,
                          "#7201a8"
                        ],
                        [
                          0.3333333333333333,
                          "#9c179e"
                        ],
                        [
                          0.4444444444444444,
                          "#bd3786"
                        ],
                        [
                          0.5555555555555556,
                          "#d8576b"
                        ],
                        [
                          0.6666666666666666,
                          "#ed7953"
                        ],
                        [
                          0.7777777777777778,
                          "#fb9f3a"
                        ],
                        [
                          0.8888888888888888,
                          "#fdca26"
                        ],
                        [
                          1,
                          "#f0f921"
                        ]
                      ],
                      "sequentialminus": [
                        [
                          0,
                          "#0d0887"
                        ],
                        [
                          0.1111111111111111,
                          "#46039f"
                        ],
                        [
                          0.2222222222222222,
                          "#7201a8"
                        ],
                        [
                          0.3333333333333333,
                          "#9c179e"
                        ],
                        [
                          0.4444444444444444,
                          "#bd3786"
                        ],
                        [
                          0.5555555555555556,
                          "#d8576b"
                        ],
                        [
                          0.6666666666666666,
                          "#ed7953"
                        ],
                        [
                          0.7777777777777778,
                          "#fb9f3a"
                        ],
                        [
                          0.8888888888888888,
                          "#fdca26"
                        ],
                        [
                          1,
                          "#f0f921"
                        ]
                      ]
                    },
                    "colorway": [
                      "#636efa",
                      "#EF553B",
                      "#00cc96",
                      "#ab63fa",
                      "#FFA15A",
                      "#19d3f3",
                      "#FF6692",
                      "#B6E880",
                      "#FF97FF",
                      "#FECB52"
                    ],
                    "font": {
                      "color": "#2a3f5f"
                    },
                    "geo": {
                      "bgcolor": "white",
                      "lakecolor": "white",
                      "landcolor": "#E5ECF6",
                      "showlakes": true,
                      "showland": true,
                      "subunitcolor": "white"
                    },
                    "hoverlabel": {
                      "align": "left"
                    },
                    "hovermode": "closest",
                    "mapbox": {
                      "style": "light"
                    },
                    "paper_bgcolor": "white",
                    "plot_bgcolor": "#E5ECF6",
                    "polar": {
                      "angularaxis": {
                        "gridcolor": "white",
                        "linecolor": "white",
                        "ticks": ""
                      },
                      "bgcolor": "#E5ECF6",
                      "radialaxis": {
                        "gridcolor": "white",
                        "linecolor": "white",
                        "ticks": ""
                      }
                    },
                    "scene": {
                      "xaxis": {
                        "backgroundcolor": "#E5ECF6",
                        "gridcolor": "white",
                        "gridwidth": 2,
                        "linecolor": "white",
                        "showbackground": true,
                        "ticks": "",
                        "zerolinecolor": "white"
                      },
                      "yaxis": {
                        "backgroundcolor": "#E5ECF6",
                        "gridcolor": "white",
                        "gridwidth": 2,
                        "linecolor": "white",
                        "showbackground": true,
                        "ticks": "",
                        "zerolinecolor": "white"
                      },
                      "zaxis": {
                        "backgroundcolor": "#E5ECF6",
                        "gridcolor": "white",
                        "gridwidth": 2,
                        "linecolor": "white",
                        "showbackground": true,
                        "ticks": "",
                        "zerolinecolor": "white"
                      }
                    },
                    "shapedefaults": {
                      "line": {
                        "color": "#2a3f5f"
                      }
                    },
                    "ternary": {
                      "aaxis": {
                        "gridcolor": "white",
                        "linecolor": "white",
                        "ticks": ""
                      },
                      "baxis": {
                        "gridcolor": "white",
                        "linecolor": "white",
                        "ticks": ""
                      },
                      "bgcolor": "#E5ECF6",
                      "caxis": {
                        "gridcolor": "white",
                        "linecolor": "white",
                        "ticks": ""
                      }
                    },
                    "title": {
                      "x": 0.05
                    },
                    "xaxis": {
                      "automargin": true,
                      "gridcolor": "white",
                      "linecolor": "white",
                      "ticks": "",
                      "title": {
                        "standoff": 15
                      },
                      "zerolinecolor": "white",
                      "zerolinewidth": 2
                    },
                    "yaxis": {
                      "automargin": true,
                      "gridcolor": "white",
                      "linecolor": "white",
                      "ticks": "",
                      "title": {
                        "standoff": 15
                      },
                      "zerolinecolor": "white",
                      "zerolinewidth": 2
                    }
                  }
                },
                "title": {
                  "text": "Top 30 most frequent words in the text",
                  "x": 0.5
                },
                "xaxis": {
                  "tickangle": -45,
                  "title": {
                    "text": "Words"
                  }
                },
                "yaxis": {
                  "title": {
                    "text": "Frequency"
                  }
                }
              }
            }
          },
          "metadata": {},
          "output_type": "display_data"
        }
      ],
      "source": [
        "plot_histogram_word(denuncias_limpas_v2, 30)"
      ]
    },
    {
      "cell_type": "code",
      "execution_count": 32,
      "metadata": {
        "colab": {
          "base_uri": "https://localhost:8080/",
          "height": 646
        },
        "id": "Z0gutqQfYZK5",
        "outputId": "65f3790d-3dd8-4d47-a6f5-3e8ce4db923b"
      },
      "outputs": [
        {
          "name": "stderr",
          "output_type": "stream",
          "text": [
            "[nltk_data] Downloading package punkt_tab to\n",
            "[nltk_data]     C:\\Users\\josel\\AppData\\Roaming\\nltk_data...\n",
            "[nltk_data]   Unzipping tokenizers\\punkt_tab.zip.\n",
            "[nltk_data] Downloading package averaged_perceptron_tagger_eng to\n",
            "[nltk_data]     C:\\Users\\josel\\AppData\\Roaming\\nltk_data...\n",
            "[nltk_data]   Unzipping taggers\\averaged_perceptron_tagger_eng.zip.\n"
          ]
        },
        {
          "data": {
            "application/vnd.plotly.v1+json": {
              "config": {
                "plotlyServerURL": "https://plot.ly"
              },
              "data": [
                {
                  "type": "bar",
                  "x": [
                    "assédio moral",
                    "plano carreira",
                    "puxa saco",
                    "hora extra",
                    "hora extro",
                    "ambiente tóxico",
                    "abaixo mercado",
                    "saúde mental",
                    "assedio moral",
                    "liderança tóxico",
                    "ambiente trabalho",
                    "desvio função",
                    "salário abaixo",
                    "totalmente despreparar",
                    "home office",
                    "empresa trabalhar",
                    "puxar saco",
                    "extremamente tóxico",
                    "pagar hora",
                    "banco hora",
                    "dono empresa",
                    "bater meta",
                    "pra trabalhar",
                    "pedir demissão",
                    "empresa tóxico",
                    "dia dia",
                    "acúmulo função",
                    "carga horário",
                    "funcionário trabalhar",
                    "subir cargo"
                  ],
                  "y": [
                    1189,
                    474,
                    453,
                    369,
                    310,
                    308,
                    280,
                    238,
                    234,
                    229,
                    228,
                    225,
                    203,
                    190,
                    189,
                    184,
                    184,
                    178,
                    165,
                    155,
                    149,
                    148,
                    147,
                    143,
                    141,
                    137,
                    134,
                    133,
                    131,
                    129
                  ]
                }
              ],
              "layout": {
                "template": {
                  "data": {
                    "bar": [
                      {
                        "error_x": {
                          "color": "#2a3f5f"
                        },
                        "error_y": {
                          "color": "#2a3f5f"
                        },
                        "marker": {
                          "line": {
                            "color": "#E5ECF6",
                            "width": 0.5
                          },
                          "pattern": {
                            "fillmode": "overlay",
                            "size": 10,
                            "solidity": 0.2
                          }
                        },
                        "type": "bar"
                      }
                    ],
                    "barpolar": [
                      {
                        "marker": {
                          "line": {
                            "color": "#E5ECF6",
                            "width": 0.5
                          },
                          "pattern": {
                            "fillmode": "overlay",
                            "size": 10,
                            "solidity": 0.2
                          }
                        },
                        "type": "barpolar"
                      }
                    ],
                    "carpet": [
                      {
                        "aaxis": {
                          "endlinecolor": "#2a3f5f",
                          "gridcolor": "white",
                          "linecolor": "white",
                          "minorgridcolor": "white",
                          "startlinecolor": "#2a3f5f"
                        },
                        "baxis": {
                          "endlinecolor": "#2a3f5f",
                          "gridcolor": "white",
                          "linecolor": "white",
                          "minorgridcolor": "white",
                          "startlinecolor": "#2a3f5f"
                        },
                        "type": "carpet"
                      }
                    ],
                    "choropleth": [
                      {
                        "colorbar": {
                          "outlinewidth": 0,
                          "ticks": ""
                        },
                        "type": "choropleth"
                      }
                    ],
                    "contour": [
                      {
                        "colorbar": {
                          "outlinewidth": 0,
                          "ticks": ""
                        },
                        "colorscale": [
                          [
                            0,
                            "#0d0887"
                          ],
                          [
                            0.1111111111111111,
                            "#46039f"
                          ],
                          [
                            0.2222222222222222,
                            "#7201a8"
                          ],
                          [
                            0.3333333333333333,
                            "#9c179e"
                          ],
                          [
                            0.4444444444444444,
                            "#bd3786"
                          ],
                          [
                            0.5555555555555556,
                            "#d8576b"
                          ],
                          [
                            0.6666666666666666,
                            "#ed7953"
                          ],
                          [
                            0.7777777777777778,
                            "#fb9f3a"
                          ],
                          [
                            0.8888888888888888,
                            "#fdca26"
                          ],
                          [
                            1,
                            "#f0f921"
                          ]
                        ],
                        "type": "contour"
                      }
                    ],
                    "contourcarpet": [
                      {
                        "colorbar": {
                          "outlinewidth": 0,
                          "ticks": ""
                        },
                        "type": "contourcarpet"
                      }
                    ],
                    "heatmap": [
                      {
                        "colorbar": {
                          "outlinewidth": 0,
                          "ticks": ""
                        },
                        "colorscale": [
                          [
                            0,
                            "#0d0887"
                          ],
                          [
                            0.1111111111111111,
                            "#46039f"
                          ],
                          [
                            0.2222222222222222,
                            "#7201a8"
                          ],
                          [
                            0.3333333333333333,
                            "#9c179e"
                          ],
                          [
                            0.4444444444444444,
                            "#bd3786"
                          ],
                          [
                            0.5555555555555556,
                            "#d8576b"
                          ],
                          [
                            0.6666666666666666,
                            "#ed7953"
                          ],
                          [
                            0.7777777777777778,
                            "#fb9f3a"
                          ],
                          [
                            0.8888888888888888,
                            "#fdca26"
                          ],
                          [
                            1,
                            "#f0f921"
                          ]
                        ],
                        "type": "heatmap"
                      }
                    ],
                    "histogram": [
                      {
                        "marker": {
                          "pattern": {
                            "fillmode": "overlay",
                            "size": 10,
                            "solidity": 0.2
                          }
                        },
                        "type": "histogram"
                      }
                    ],
                    "histogram2d": [
                      {
                        "colorbar": {
                          "outlinewidth": 0,
                          "ticks": ""
                        },
                        "colorscale": [
                          [
                            0,
                            "#0d0887"
                          ],
                          [
                            0.1111111111111111,
                            "#46039f"
                          ],
                          [
                            0.2222222222222222,
                            "#7201a8"
                          ],
                          [
                            0.3333333333333333,
                            "#9c179e"
                          ],
                          [
                            0.4444444444444444,
                            "#bd3786"
                          ],
                          [
                            0.5555555555555556,
                            "#d8576b"
                          ],
                          [
                            0.6666666666666666,
                            "#ed7953"
                          ],
                          [
                            0.7777777777777778,
                            "#fb9f3a"
                          ],
                          [
                            0.8888888888888888,
                            "#fdca26"
                          ],
                          [
                            1,
                            "#f0f921"
                          ]
                        ],
                        "type": "histogram2d"
                      }
                    ],
                    "histogram2dcontour": [
                      {
                        "colorbar": {
                          "outlinewidth": 0,
                          "ticks": ""
                        },
                        "colorscale": [
                          [
                            0,
                            "#0d0887"
                          ],
                          [
                            0.1111111111111111,
                            "#46039f"
                          ],
                          [
                            0.2222222222222222,
                            "#7201a8"
                          ],
                          [
                            0.3333333333333333,
                            "#9c179e"
                          ],
                          [
                            0.4444444444444444,
                            "#bd3786"
                          ],
                          [
                            0.5555555555555556,
                            "#d8576b"
                          ],
                          [
                            0.6666666666666666,
                            "#ed7953"
                          ],
                          [
                            0.7777777777777778,
                            "#fb9f3a"
                          ],
                          [
                            0.8888888888888888,
                            "#fdca26"
                          ],
                          [
                            1,
                            "#f0f921"
                          ]
                        ],
                        "type": "histogram2dcontour"
                      }
                    ],
                    "mesh3d": [
                      {
                        "colorbar": {
                          "outlinewidth": 0,
                          "ticks": ""
                        },
                        "type": "mesh3d"
                      }
                    ],
                    "parcoords": [
                      {
                        "line": {
                          "colorbar": {
                            "outlinewidth": 0,
                            "ticks": ""
                          }
                        },
                        "type": "parcoords"
                      }
                    ],
                    "pie": [
                      {
                        "automargin": true,
                        "type": "pie"
                      }
                    ],
                    "scatter": [
                      {
                        "fillpattern": {
                          "fillmode": "overlay",
                          "size": 10,
                          "solidity": 0.2
                        },
                        "type": "scatter"
                      }
                    ],
                    "scatter3d": [
                      {
                        "line": {
                          "colorbar": {
                            "outlinewidth": 0,
                            "ticks": ""
                          }
                        },
                        "marker": {
                          "colorbar": {
                            "outlinewidth": 0,
                            "ticks": ""
                          }
                        },
                        "type": "scatter3d"
                      }
                    ],
                    "scattercarpet": [
                      {
                        "marker": {
                          "colorbar": {
                            "outlinewidth": 0,
                            "ticks": ""
                          }
                        },
                        "type": "scattercarpet"
                      }
                    ],
                    "scattergeo": [
                      {
                        "marker": {
                          "colorbar": {
                            "outlinewidth": 0,
                            "ticks": ""
                          }
                        },
                        "type": "scattergeo"
                      }
                    ],
                    "scattergl": [
                      {
                        "marker": {
                          "colorbar": {
                            "outlinewidth": 0,
                            "ticks": ""
                          }
                        },
                        "type": "scattergl"
                      }
                    ],
                    "scattermap": [
                      {
                        "marker": {
                          "colorbar": {
                            "outlinewidth": 0,
                            "ticks": ""
                          }
                        },
                        "type": "scattermap"
                      }
                    ],
                    "scattermapbox": [
                      {
                        "marker": {
                          "colorbar": {
                            "outlinewidth": 0,
                            "ticks": ""
                          }
                        },
                        "type": "scattermapbox"
                      }
                    ],
                    "scatterpolar": [
                      {
                        "marker": {
                          "colorbar": {
                            "outlinewidth": 0,
                            "ticks": ""
                          }
                        },
                        "type": "scatterpolar"
                      }
                    ],
                    "scatterpolargl": [
                      {
                        "marker": {
                          "colorbar": {
                            "outlinewidth": 0,
                            "ticks": ""
                          }
                        },
                        "type": "scatterpolargl"
                      }
                    ],
                    "scatterternary": [
                      {
                        "marker": {
                          "colorbar": {
                            "outlinewidth": 0,
                            "ticks": ""
                          }
                        },
                        "type": "scatterternary"
                      }
                    ],
                    "surface": [
                      {
                        "colorbar": {
                          "outlinewidth": 0,
                          "ticks": ""
                        },
                        "colorscale": [
                          [
                            0,
                            "#0d0887"
                          ],
                          [
                            0.1111111111111111,
                            "#46039f"
                          ],
                          [
                            0.2222222222222222,
                            "#7201a8"
                          ],
                          [
                            0.3333333333333333,
                            "#9c179e"
                          ],
                          [
                            0.4444444444444444,
                            "#bd3786"
                          ],
                          [
                            0.5555555555555556,
                            "#d8576b"
                          ],
                          [
                            0.6666666666666666,
                            "#ed7953"
                          ],
                          [
                            0.7777777777777778,
                            "#fb9f3a"
                          ],
                          [
                            0.8888888888888888,
                            "#fdca26"
                          ],
                          [
                            1,
                            "#f0f921"
                          ]
                        ],
                        "type": "surface"
                      }
                    ],
                    "table": [
                      {
                        "cells": {
                          "fill": {
                            "color": "#EBF0F8"
                          },
                          "line": {
                            "color": "white"
                          }
                        },
                        "header": {
                          "fill": {
                            "color": "#C8D4E3"
                          },
                          "line": {
                            "color": "white"
                          }
                        },
                        "type": "table"
                      }
                    ]
                  },
                  "layout": {
                    "annotationdefaults": {
                      "arrowcolor": "#2a3f5f",
                      "arrowhead": 0,
                      "arrowwidth": 1
                    },
                    "autotypenumbers": "strict",
                    "coloraxis": {
                      "colorbar": {
                        "outlinewidth": 0,
                        "ticks": ""
                      }
                    },
                    "colorscale": {
                      "diverging": [
                        [
                          0,
                          "#8e0152"
                        ],
                        [
                          0.1,
                          "#c51b7d"
                        ],
                        [
                          0.2,
                          "#de77ae"
                        ],
                        [
                          0.3,
                          "#f1b6da"
                        ],
                        [
                          0.4,
                          "#fde0ef"
                        ],
                        [
                          0.5,
                          "#f7f7f7"
                        ],
                        [
                          0.6,
                          "#e6f5d0"
                        ],
                        [
                          0.7,
                          "#b8e186"
                        ],
                        [
                          0.8,
                          "#7fbc41"
                        ],
                        [
                          0.9,
                          "#4d9221"
                        ],
                        [
                          1,
                          "#276419"
                        ]
                      ],
                      "sequential": [
                        [
                          0,
                          "#0d0887"
                        ],
                        [
                          0.1111111111111111,
                          "#46039f"
                        ],
                        [
                          0.2222222222222222,
                          "#7201a8"
                        ],
                        [
                          0.3333333333333333,
                          "#9c179e"
                        ],
                        [
                          0.4444444444444444,
                          "#bd3786"
                        ],
                        [
                          0.5555555555555556,
                          "#d8576b"
                        ],
                        [
                          0.6666666666666666,
                          "#ed7953"
                        ],
                        [
                          0.7777777777777778,
                          "#fb9f3a"
                        ],
                        [
                          0.8888888888888888,
                          "#fdca26"
                        ],
                        [
                          1,
                          "#f0f921"
                        ]
                      ],
                      "sequentialminus": [
                        [
                          0,
                          "#0d0887"
                        ],
                        [
                          0.1111111111111111,
                          "#46039f"
                        ],
                        [
                          0.2222222222222222,
                          "#7201a8"
                        ],
                        [
                          0.3333333333333333,
                          "#9c179e"
                        ],
                        [
                          0.4444444444444444,
                          "#bd3786"
                        ],
                        [
                          0.5555555555555556,
                          "#d8576b"
                        ],
                        [
                          0.6666666666666666,
                          "#ed7953"
                        ],
                        [
                          0.7777777777777778,
                          "#fb9f3a"
                        ],
                        [
                          0.8888888888888888,
                          "#fdca26"
                        ],
                        [
                          1,
                          "#f0f921"
                        ]
                      ]
                    },
                    "colorway": [
                      "#636efa",
                      "#EF553B",
                      "#00cc96",
                      "#ab63fa",
                      "#FFA15A",
                      "#19d3f3",
                      "#FF6692",
                      "#B6E880",
                      "#FF97FF",
                      "#FECB52"
                    ],
                    "font": {
                      "color": "#2a3f5f"
                    },
                    "geo": {
                      "bgcolor": "white",
                      "lakecolor": "white",
                      "landcolor": "#E5ECF6",
                      "showlakes": true,
                      "showland": true,
                      "subunitcolor": "white"
                    },
                    "hoverlabel": {
                      "align": "left"
                    },
                    "hovermode": "closest",
                    "mapbox": {
                      "style": "light"
                    },
                    "paper_bgcolor": "white",
                    "plot_bgcolor": "#E5ECF6",
                    "polar": {
                      "angularaxis": {
                        "gridcolor": "white",
                        "linecolor": "white",
                        "ticks": ""
                      },
                      "bgcolor": "#E5ECF6",
                      "radialaxis": {
                        "gridcolor": "white",
                        "linecolor": "white",
                        "ticks": ""
                      }
                    },
                    "scene": {
                      "xaxis": {
                        "backgroundcolor": "#E5ECF6",
                        "gridcolor": "white",
                        "gridwidth": 2,
                        "linecolor": "white",
                        "showbackground": true,
                        "ticks": "",
                        "zerolinecolor": "white"
                      },
                      "yaxis": {
                        "backgroundcolor": "#E5ECF6",
                        "gridcolor": "white",
                        "gridwidth": 2,
                        "linecolor": "white",
                        "showbackground": true,
                        "ticks": "",
                        "zerolinecolor": "white"
                      },
                      "zaxis": {
                        "backgroundcolor": "#E5ECF6",
                        "gridcolor": "white",
                        "gridwidth": 2,
                        "linecolor": "white",
                        "showbackground": true,
                        "ticks": "",
                        "zerolinecolor": "white"
                      }
                    },
                    "shapedefaults": {
                      "line": {
                        "color": "#2a3f5f"
                      }
                    },
                    "ternary": {
                      "aaxis": {
                        "gridcolor": "white",
                        "linecolor": "white",
                        "ticks": ""
                      },
                      "baxis": {
                        "gridcolor": "white",
                        "linecolor": "white",
                        "ticks": ""
                      },
                      "bgcolor": "#E5ECF6",
                      "caxis": {
                        "gridcolor": "white",
                        "linecolor": "white",
                        "ticks": ""
                      }
                    },
                    "title": {
                      "x": 0.05
                    },
                    "xaxis": {
                      "automargin": true,
                      "gridcolor": "white",
                      "linecolor": "white",
                      "ticks": "",
                      "title": {
                        "standoff": 15
                      },
                      "zerolinecolor": "white",
                      "zerolinewidth": 2
                    },
                    "yaxis": {
                      "automargin": true,
                      "gridcolor": "white",
                      "linecolor": "white",
                      "ticks": "",
                      "title": {
                        "standoff": 15
                      },
                      "zerolinecolor": "white",
                      "zerolinewidth": 2
                    }
                  }
                },
                "title": {
                  "text": "Top 30 most frequent bigrams in the text"
                }
              }
            }
          },
          "metadata": {},
          "output_type": "display_data"
        }
      ],
      "source": [
        "import nltk\n",
        "\n",
        "nltk.download('punkt_tab')\n",
        "nltk.download('averaged_perceptron_tagger_eng')\n",
        "\n",
        "from collections import Counter  # Import Counter to count occurrences of n-grams\n",
        "from nltk.util import ngrams  # Import ngrams to generate n-grams from text\n",
        "from nltk import word_tokenize  # Import word_tokenize to split text into words\n",
        "import plotly.graph_objs as go  # Import Plotly for creating visualizations\n",
        "\n",
        "\n",
        "# Define a function to generate n-grams from text\n",
        "def generate_ngrams(text, n, lowercase=False):\n",
        "    # Convert text to lowercase if specified\n",
        "    if lowercase:\n",
        "        text = text.lower()\n",
        "\n",
        "    # Tokenize the text into words\n",
        "    tokens = nltk.word_tokenize(text)\n",
        "\n",
        "    # Generate n-grams from the tokenized words\n",
        "    n_grams = ngrams(tokens, n)\n",
        "\n",
        "    # Join the n-grams into strings and return as a list\n",
        "    return [\" \".join(grams) for grams in n_grams]\n",
        "\n",
        "\n",
        "# Initialize a Counter to count occurrences of n-grams\n",
        "n_grams_counter = Counter()\n",
        "\n",
        "# Define the number of most common n-grams to display\n",
        "n_most_common = 30\n",
        "\n",
        "# Loop through each text in the preprocessed training dataset\n",
        "for text in denuncias_limpas_v2.values:\n",
        "    # Generate bigrams (n=2) from the text and update the counter\n",
        "    n_grams_counter.update(generate_ngrams(text, n=2, lowercase=True))\n",
        "\n",
        "# Select the top 30 most frequent bigrams\n",
        "n_grams_counter = dict(n_grams_counter.most_common(n_most_common))\n",
        "\n",
        "# Create a bar chart to visualize the most frequent bigrams\n",
        "fig = go.Figure(\n",
        "    [go.Bar(x=list(n_grams_counter.keys()), y=list(n_grams_counter.values()))]\n",
        ")\n",
        "\n",
        "# Update the layout of the figure with a title\n",
        "fig.update_layout(title_text=f\"Top {n_most_common} most frequent bigrams in the text\")\n",
        "\n",
        "# Display the figure\n",
        "fig.show()"
      ]
    },
    {
      "cell_type": "code",
      "execution_count": 33,
      "metadata": {
        "colab": {
          "base_uri": "https://localhost:8080/",
          "height": 542
        },
        "id": "k-kQOITBcjpk",
        "outputId": "8ed68ad2-1d26-4bf8-e4c7-f8c6d968efd4"
      },
      "outputs": [
        {
          "data": {
            "application/vnd.plotly.v1+json": {
              "config": {
                "plotlyServerURL": "https://plot.ly"
              },
              "data": [
                {
                  "type": "bar",
                  "x": [
                    "salário abaixo mercado",
                    "pagar hora extra",
                    "assédio moral sexual",
                    "existir plano carreira",
                    "pior empresa trabalhar",
                    "pagar hora extro",
                    "promover puxa saco",
                    "ambiente extremamente tóxico",
                    "praticar assédio moral",
                    "crescer puxa saco",
                    "salário abaixo média",
                    "caso assédio moral",
                    "abaixo média mercado",
                    "mau empresa trabalhar",
                    "saúde mental funcionário",
                    "place to work",
                    "liderança totalmente despreparar",
                    "salario abaixo mercado",
                    "empresa plano carreira",
                    "empresa trabalhar vida",
                    "sofri assédio moral",
                    "great place to",
                    "mão obra barato",
                    "assédio moral constante",
                    "passar pano pra",
                    "tóxico assédio moral",
                    "empresa extremamente tóxico",
                    "ambiente trabalho tóxico",
                    "plano cargo salário",
                    "sofrer assédio moral"
                  ],
                  "y": [
                    141,
                    106,
                    83,
                    55,
                    53,
                    50,
                    41,
                    41,
                    39,
                    39,
                    38,
                    38,
                    32,
                    31,
                    30,
                    30,
                    30,
                    29,
                    28,
                    27,
                    27,
                    26,
                    26,
                    26,
                    25,
                    25,
                    24,
                    24,
                    23,
                    23
                  ]
                }
              ],
              "layout": {
                "template": {
                  "data": {
                    "bar": [
                      {
                        "error_x": {
                          "color": "#2a3f5f"
                        },
                        "error_y": {
                          "color": "#2a3f5f"
                        },
                        "marker": {
                          "line": {
                            "color": "#E5ECF6",
                            "width": 0.5
                          },
                          "pattern": {
                            "fillmode": "overlay",
                            "size": 10,
                            "solidity": 0.2
                          }
                        },
                        "type": "bar"
                      }
                    ],
                    "barpolar": [
                      {
                        "marker": {
                          "line": {
                            "color": "#E5ECF6",
                            "width": 0.5
                          },
                          "pattern": {
                            "fillmode": "overlay",
                            "size": 10,
                            "solidity": 0.2
                          }
                        },
                        "type": "barpolar"
                      }
                    ],
                    "carpet": [
                      {
                        "aaxis": {
                          "endlinecolor": "#2a3f5f",
                          "gridcolor": "white",
                          "linecolor": "white",
                          "minorgridcolor": "white",
                          "startlinecolor": "#2a3f5f"
                        },
                        "baxis": {
                          "endlinecolor": "#2a3f5f",
                          "gridcolor": "white",
                          "linecolor": "white",
                          "minorgridcolor": "white",
                          "startlinecolor": "#2a3f5f"
                        },
                        "type": "carpet"
                      }
                    ],
                    "choropleth": [
                      {
                        "colorbar": {
                          "outlinewidth": 0,
                          "ticks": ""
                        },
                        "type": "choropleth"
                      }
                    ],
                    "contour": [
                      {
                        "colorbar": {
                          "outlinewidth": 0,
                          "ticks": ""
                        },
                        "colorscale": [
                          [
                            0,
                            "#0d0887"
                          ],
                          [
                            0.1111111111111111,
                            "#46039f"
                          ],
                          [
                            0.2222222222222222,
                            "#7201a8"
                          ],
                          [
                            0.3333333333333333,
                            "#9c179e"
                          ],
                          [
                            0.4444444444444444,
                            "#bd3786"
                          ],
                          [
                            0.5555555555555556,
                            "#d8576b"
                          ],
                          [
                            0.6666666666666666,
                            "#ed7953"
                          ],
                          [
                            0.7777777777777778,
                            "#fb9f3a"
                          ],
                          [
                            0.8888888888888888,
                            "#fdca26"
                          ],
                          [
                            1,
                            "#f0f921"
                          ]
                        ],
                        "type": "contour"
                      }
                    ],
                    "contourcarpet": [
                      {
                        "colorbar": {
                          "outlinewidth": 0,
                          "ticks": ""
                        },
                        "type": "contourcarpet"
                      }
                    ],
                    "heatmap": [
                      {
                        "colorbar": {
                          "outlinewidth": 0,
                          "ticks": ""
                        },
                        "colorscale": [
                          [
                            0,
                            "#0d0887"
                          ],
                          [
                            0.1111111111111111,
                            "#46039f"
                          ],
                          [
                            0.2222222222222222,
                            "#7201a8"
                          ],
                          [
                            0.3333333333333333,
                            "#9c179e"
                          ],
                          [
                            0.4444444444444444,
                            "#bd3786"
                          ],
                          [
                            0.5555555555555556,
                            "#d8576b"
                          ],
                          [
                            0.6666666666666666,
                            "#ed7953"
                          ],
                          [
                            0.7777777777777778,
                            "#fb9f3a"
                          ],
                          [
                            0.8888888888888888,
                            "#fdca26"
                          ],
                          [
                            1,
                            "#f0f921"
                          ]
                        ],
                        "type": "heatmap"
                      }
                    ],
                    "histogram": [
                      {
                        "marker": {
                          "pattern": {
                            "fillmode": "overlay",
                            "size": 10,
                            "solidity": 0.2
                          }
                        },
                        "type": "histogram"
                      }
                    ],
                    "histogram2d": [
                      {
                        "colorbar": {
                          "outlinewidth": 0,
                          "ticks": ""
                        },
                        "colorscale": [
                          [
                            0,
                            "#0d0887"
                          ],
                          [
                            0.1111111111111111,
                            "#46039f"
                          ],
                          [
                            0.2222222222222222,
                            "#7201a8"
                          ],
                          [
                            0.3333333333333333,
                            "#9c179e"
                          ],
                          [
                            0.4444444444444444,
                            "#bd3786"
                          ],
                          [
                            0.5555555555555556,
                            "#d8576b"
                          ],
                          [
                            0.6666666666666666,
                            "#ed7953"
                          ],
                          [
                            0.7777777777777778,
                            "#fb9f3a"
                          ],
                          [
                            0.8888888888888888,
                            "#fdca26"
                          ],
                          [
                            1,
                            "#f0f921"
                          ]
                        ],
                        "type": "histogram2d"
                      }
                    ],
                    "histogram2dcontour": [
                      {
                        "colorbar": {
                          "outlinewidth": 0,
                          "ticks": ""
                        },
                        "colorscale": [
                          [
                            0,
                            "#0d0887"
                          ],
                          [
                            0.1111111111111111,
                            "#46039f"
                          ],
                          [
                            0.2222222222222222,
                            "#7201a8"
                          ],
                          [
                            0.3333333333333333,
                            "#9c179e"
                          ],
                          [
                            0.4444444444444444,
                            "#bd3786"
                          ],
                          [
                            0.5555555555555556,
                            "#d8576b"
                          ],
                          [
                            0.6666666666666666,
                            "#ed7953"
                          ],
                          [
                            0.7777777777777778,
                            "#fb9f3a"
                          ],
                          [
                            0.8888888888888888,
                            "#fdca26"
                          ],
                          [
                            1,
                            "#f0f921"
                          ]
                        ],
                        "type": "histogram2dcontour"
                      }
                    ],
                    "mesh3d": [
                      {
                        "colorbar": {
                          "outlinewidth": 0,
                          "ticks": ""
                        },
                        "type": "mesh3d"
                      }
                    ],
                    "parcoords": [
                      {
                        "line": {
                          "colorbar": {
                            "outlinewidth": 0,
                            "ticks": ""
                          }
                        },
                        "type": "parcoords"
                      }
                    ],
                    "pie": [
                      {
                        "automargin": true,
                        "type": "pie"
                      }
                    ],
                    "scatter": [
                      {
                        "fillpattern": {
                          "fillmode": "overlay",
                          "size": 10,
                          "solidity": 0.2
                        },
                        "type": "scatter"
                      }
                    ],
                    "scatter3d": [
                      {
                        "line": {
                          "colorbar": {
                            "outlinewidth": 0,
                            "ticks": ""
                          }
                        },
                        "marker": {
                          "colorbar": {
                            "outlinewidth": 0,
                            "ticks": ""
                          }
                        },
                        "type": "scatter3d"
                      }
                    ],
                    "scattercarpet": [
                      {
                        "marker": {
                          "colorbar": {
                            "outlinewidth": 0,
                            "ticks": ""
                          }
                        },
                        "type": "scattercarpet"
                      }
                    ],
                    "scattergeo": [
                      {
                        "marker": {
                          "colorbar": {
                            "outlinewidth": 0,
                            "ticks": ""
                          }
                        },
                        "type": "scattergeo"
                      }
                    ],
                    "scattergl": [
                      {
                        "marker": {
                          "colorbar": {
                            "outlinewidth": 0,
                            "ticks": ""
                          }
                        },
                        "type": "scattergl"
                      }
                    ],
                    "scattermap": [
                      {
                        "marker": {
                          "colorbar": {
                            "outlinewidth": 0,
                            "ticks": ""
                          }
                        },
                        "type": "scattermap"
                      }
                    ],
                    "scattermapbox": [
                      {
                        "marker": {
                          "colorbar": {
                            "outlinewidth": 0,
                            "ticks": ""
                          }
                        },
                        "type": "scattermapbox"
                      }
                    ],
                    "scatterpolar": [
                      {
                        "marker": {
                          "colorbar": {
                            "outlinewidth": 0,
                            "ticks": ""
                          }
                        },
                        "type": "scatterpolar"
                      }
                    ],
                    "scatterpolargl": [
                      {
                        "marker": {
                          "colorbar": {
                            "outlinewidth": 0,
                            "ticks": ""
                          }
                        },
                        "type": "scatterpolargl"
                      }
                    ],
                    "scatterternary": [
                      {
                        "marker": {
                          "colorbar": {
                            "outlinewidth": 0,
                            "ticks": ""
                          }
                        },
                        "type": "scatterternary"
                      }
                    ],
                    "surface": [
                      {
                        "colorbar": {
                          "outlinewidth": 0,
                          "ticks": ""
                        },
                        "colorscale": [
                          [
                            0,
                            "#0d0887"
                          ],
                          [
                            0.1111111111111111,
                            "#46039f"
                          ],
                          [
                            0.2222222222222222,
                            "#7201a8"
                          ],
                          [
                            0.3333333333333333,
                            "#9c179e"
                          ],
                          [
                            0.4444444444444444,
                            "#bd3786"
                          ],
                          [
                            0.5555555555555556,
                            "#d8576b"
                          ],
                          [
                            0.6666666666666666,
                            "#ed7953"
                          ],
                          [
                            0.7777777777777778,
                            "#fb9f3a"
                          ],
                          [
                            0.8888888888888888,
                            "#fdca26"
                          ],
                          [
                            1,
                            "#f0f921"
                          ]
                        ],
                        "type": "surface"
                      }
                    ],
                    "table": [
                      {
                        "cells": {
                          "fill": {
                            "color": "#EBF0F8"
                          },
                          "line": {
                            "color": "white"
                          }
                        },
                        "header": {
                          "fill": {
                            "color": "#C8D4E3"
                          },
                          "line": {
                            "color": "white"
                          }
                        },
                        "type": "table"
                      }
                    ]
                  },
                  "layout": {
                    "annotationdefaults": {
                      "arrowcolor": "#2a3f5f",
                      "arrowhead": 0,
                      "arrowwidth": 1
                    },
                    "autotypenumbers": "strict",
                    "coloraxis": {
                      "colorbar": {
                        "outlinewidth": 0,
                        "ticks": ""
                      }
                    },
                    "colorscale": {
                      "diverging": [
                        [
                          0,
                          "#8e0152"
                        ],
                        [
                          0.1,
                          "#c51b7d"
                        ],
                        [
                          0.2,
                          "#de77ae"
                        ],
                        [
                          0.3,
                          "#f1b6da"
                        ],
                        [
                          0.4,
                          "#fde0ef"
                        ],
                        [
                          0.5,
                          "#f7f7f7"
                        ],
                        [
                          0.6,
                          "#e6f5d0"
                        ],
                        [
                          0.7,
                          "#b8e186"
                        ],
                        [
                          0.8,
                          "#7fbc41"
                        ],
                        [
                          0.9,
                          "#4d9221"
                        ],
                        [
                          1,
                          "#276419"
                        ]
                      ],
                      "sequential": [
                        [
                          0,
                          "#0d0887"
                        ],
                        [
                          0.1111111111111111,
                          "#46039f"
                        ],
                        [
                          0.2222222222222222,
                          "#7201a8"
                        ],
                        [
                          0.3333333333333333,
                          "#9c179e"
                        ],
                        [
                          0.4444444444444444,
                          "#bd3786"
                        ],
                        [
                          0.5555555555555556,
                          "#d8576b"
                        ],
                        [
                          0.6666666666666666,
                          "#ed7953"
                        ],
                        [
                          0.7777777777777778,
                          "#fb9f3a"
                        ],
                        [
                          0.8888888888888888,
                          "#fdca26"
                        ],
                        [
                          1,
                          "#f0f921"
                        ]
                      ],
                      "sequentialminus": [
                        [
                          0,
                          "#0d0887"
                        ],
                        [
                          0.1111111111111111,
                          "#46039f"
                        ],
                        [
                          0.2222222222222222,
                          "#7201a8"
                        ],
                        [
                          0.3333333333333333,
                          "#9c179e"
                        ],
                        [
                          0.4444444444444444,
                          "#bd3786"
                        ],
                        [
                          0.5555555555555556,
                          "#d8576b"
                        ],
                        [
                          0.6666666666666666,
                          "#ed7953"
                        ],
                        [
                          0.7777777777777778,
                          "#fb9f3a"
                        ],
                        [
                          0.8888888888888888,
                          "#fdca26"
                        ],
                        [
                          1,
                          "#f0f921"
                        ]
                      ]
                    },
                    "colorway": [
                      "#636efa",
                      "#EF553B",
                      "#00cc96",
                      "#ab63fa",
                      "#FFA15A",
                      "#19d3f3",
                      "#FF6692",
                      "#B6E880",
                      "#FF97FF",
                      "#FECB52"
                    ],
                    "font": {
                      "color": "#2a3f5f"
                    },
                    "geo": {
                      "bgcolor": "white",
                      "lakecolor": "white",
                      "landcolor": "#E5ECF6",
                      "showlakes": true,
                      "showland": true,
                      "subunitcolor": "white"
                    },
                    "hoverlabel": {
                      "align": "left"
                    },
                    "hovermode": "closest",
                    "mapbox": {
                      "style": "light"
                    },
                    "paper_bgcolor": "white",
                    "plot_bgcolor": "#E5ECF6",
                    "polar": {
                      "angularaxis": {
                        "gridcolor": "white",
                        "linecolor": "white",
                        "ticks": ""
                      },
                      "bgcolor": "#E5ECF6",
                      "radialaxis": {
                        "gridcolor": "white",
                        "linecolor": "white",
                        "ticks": ""
                      }
                    },
                    "scene": {
                      "xaxis": {
                        "backgroundcolor": "#E5ECF6",
                        "gridcolor": "white",
                        "gridwidth": 2,
                        "linecolor": "white",
                        "showbackground": true,
                        "ticks": "",
                        "zerolinecolor": "white"
                      },
                      "yaxis": {
                        "backgroundcolor": "#E5ECF6",
                        "gridcolor": "white",
                        "gridwidth": 2,
                        "linecolor": "white",
                        "showbackground": true,
                        "ticks": "",
                        "zerolinecolor": "white"
                      },
                      "zaxis": {
                        "backgroundcolor": "#E5ECF6",
                        "gridcolor": "white",
                        "gridwidth": 2,
                        "linecolor": "white",
                        "showbackground": true,
                        "ticks": "",
                        "zerolinecolor": "white"
                      }
                    },
                    "shapedefaults": {
                      "line": {
                        "color": "#2a3f5f"
                      }
                    },
                    "ternary": {
                      "aaxis": {
                        "gridcolor": "white",
                        "linecolor": "white",
                        "ticks": ""
                      },
                      "baxis": {
                        "gridcolor": "white",
                        "linecolor": "white",
                        "ticks": ""
                      },
                      "bgcolor": "#E5ECF6",
                      "caxis": {
                        "gridcolor": "white",
                        "linecolor": "white",
                        "ticks": ""
                      }
                    },
                    "title": {
                      "x": 0.05
                    },
                    "xaxis": {
                      "automargin": true,
                      "gridcolor": "white",
                      "linecolor": "white",
                      "ticks": "",
                      "title": {
                        "standoff": 15
                      },
                      "zerolinecolor": "white",
                      "zerolinewidth": 2
                    },
                    "yaxis": {
                      "automargin": true,
                      "gridcolor": "white",
                      "linecolor": "white",
                      "ticks": "",
                      "title": {
                        "standoff": 15
                      },
                      "zerolinecolor": "white",
                      "zerolinewidth": 2
                    }
                  }
                },
                "title": {
                  "text": "Top 30 most frequent bigrams in the text"
                }
              }
            }
          },
          "metadata": {},
          "output_type": "display_data"
        }
      ],
      "source": [
        "# Initialize a Counter to count occurrences of n-grams\n",
        "n_grams_counter = Counter()\n",
        "\n",
        "# Define the number of most common n-grams to display\n",
        "n_most_common = 30\n",
        "\n",
        "# Loop through each text in the preprocessed training dataset\n",
        "for text in denuncias_limpas_v2.values:\n",
        "    # Generate bigrams (n=2) from the text and update the counter\n",
        "    n_grams_counter.update(generate_ngrams(text, n=3, lowercase=True))\n",
        "\n",
        "# Select the top 30 most frequent bigrams\n",
        "n_grams_counter = dict(n_grams_counter.most_common(n_most_common))\n",
        "\n",
        "# Create a bar chart to visualize the most frequent bigrams\n",
        "fig = go.Figure(\n",
        "    [go.Bar(x=list(n_grams_counter.keys()), y=list(n_grams_counter.values()))]\n",
        ")\n",
        "\n",
        "# Update the layout of the figure with a title\n",
        "fig.update_layout(title_text=f\"Top {n_most_common} most frequent bigrams in the text\")\n",
        "\n",
        "# Display the figure\n",
        "fig.show()"
      ]
    },
    {
      "cell_type": "markdown",
      "metadata": {},
      "source": [
        "### Pegando os tipos"
      ]
    },
    {
      "cell_type": "code",
      "execution_count": null,
      "metadata": {},
      "outputs": [
        {
          "data": {
            "text/plain": [
              "<bound method NDFrame.head of 0        central segurança 99 callcenter terceirizar ig...\n",
              "1        empresa falar saúde mental taxa gigantesca pes...\n",
              "2        liderança tóxico diretor comunicação marketing...\n",
              "3        completamente delulus absurdamente realidade a...\n",
              "4        contratar funcionário terceirizar menosprezar ...\n",
              "                               ...                        \n",
              "15412    gerente coordenador pessoa podre algum sentido...\n",
              "15413    empresa extremamente tóxico ceo achar especial...\n",
              "15414    demitir obrigar mandar pix pra empresa alegar ...\n",
              "15415    jovens aprendiz sujeitar submeter trabalho ext...\n",
              "15416    empresa assinar carteiro pagar funcionário sal...\n",
              "Name: input_text, Length: 15415, dtype: object>"
            ]
          },
          "execution_count": 37,
          "metadata": {},
          "output_type": "execute_result"
        }
      ],
      "source": [
        "denuncias_limpas_v2"
      ]
    },
    {
      "cell_type": "code",
      "execution_count": 38,
      "metadata": {},
      "outputs": [
        {
          "data": {
            "text/html": [
              "<style>#sk-container-id-1 {\n",
              "  /* Definition of color scheme common for light and dark mode */\n",
              "  --sklearn-color-text: #000;\n",
              "  --sklearn-color-text-muted: #666;\n",
              "  --sklearn-color-line: gray;\n",
              "  /* Definition of color scheme for unfitted estimators */\n",
              "  --sklearn-color-unfitted-level-0: #fff5e6;\n",
              "  --sklearn-color-unfitted-level-1: #f6e4d2;\n",
              "  --sklearn-color-unfitted-level-2: #ffe0b3;\n",
              "  --sklearn-color-unfitted-level-3: chocolate;\n",
              "  /* Definition of color scheme for fitted estimators */\n",
              "  --sklearn-color-fitted-level-0: #f0f8ff;\n",
              "  --sklearn-color-fitted-level-1: #d4ebff;\n",
              "  --sklearn-color-fitted-level-2: #b3dbfd;\n",
              "  --sklearn-color-fitted-level-3: cornflowerblue;\n",
              "\n",
              "  /* Specific color for light theme */\n",
              "  --sklearn-color-text-on-default-background: var(--sg-text-color, var(--theme-code-foreground, var(--jp-content-font-color1, black)));\n",
              "  --sklearn-color-background: var(--sg-background-color, var(--theme-background, var(--jp-layout-color0, white)));\n",
              "  --sklearn-color-border-box: var(--sg-text-color, var(--theme-code-foreground, var(--jp-content-font-color1, black)));\n",
              "  --sklearn-color-icon: #696969;\n",
              "\n",
              "  @media (prefers-color-scheme: dark) {\n",
              "    /* Redefinition of color scheme for dark theme */\n",
              "    --sklearn-color-text-on-default-background: var(--sg-text-color, var(--theme-code-foreground, var(--jp-content-font-color1, white)));\n",
              "    --sklearn-color-background: var(--sg-background-color, var(--theme-background, var(--jp-layout-color0, #111)));\n",
              "    --sklearn-color-border-box: var(--sg-text-color, var(--theme-code-foreground, var(--jp-content-font-color1, white)));\n",
              "    --sklearn-color-icon: #878787;\n",
              "  }\n",
              "}\n",
              "\n",
              "#sk-container-id-1 {\n",
              "  color: var(--sklearn-color-text);\n",
              "}\n",
              "\n",
              "#sk-container-id-1 pre {\n",
              "  padding: 0;\n",
              "}\n",
              "\n",
              "#sk-container-id-1 input.sk-hidden--visually {\n",
              "  border: 0;\n",
              "  clip: rect(1px 1px 1px 1px);\n",
              "  clip: rect(1px, 1px, 1px, 1px);\n",
              "  height: 1px;\n",
              "  margin: -1px;\n",
              "  overflow: hidden;\n",
              "  padding: 0;\n",
              "  position: absolute;\n",
              "  width: 1px;\n",
              "}\n",
              "\n",
              "#sk-container-id-1 div.sk-dashed-wrapped {\n",
              "  border: 1px dashed var(--sklearn-color-line);\n",
              "  margin: 0 0.4em 0.5em 0.4em;\n",
              "  box-sizing: border-box;\n",
              "  padding-bottom: 0.4em;\n",
              "  background-color: var(--sklearn-color-background);\n",
              "}\n",
              "\n",
              "#sk-container-id-1 div.sk-container {\n",
              "  /* jupyter's `normalize.less` sets `[hidden] { display: none; }`\n",
              "     but bootstrap.min.css set `[hidden] { display: none !important; }`\n",
              "     so we also need the `!important` here to be able to override the\n",
              "     default hidden behavior on the sphinx rendered scikit-learn.org.\n",
              "     See: https://github.com/scikit-learn/scikit-learn/issues/21755 */\n",
              "  display: inline-block !important;\n",
              "  position: relative;\n",
              "}\n",
              "\n",
              "#sk-container-id-1 div.sk-text-repr-fallback {\n",
              "  display: none;\n",
              "}\n",
              "\n",
              "div.sk-parallel-item,\n",
              "div.sk-serial,\n",
              "div.sk-item {\n",
              "  /* draw centered vertical line to link estimators */\n",
              "  background-image: linear-gradient(var(--sklearn-color-text-on-default-background), var(--sklearn-color-text-on-default-background));\n",
              "  background-size: 2px 100%;\n",
              "  background-repeat: no-repeat;\n",
              "  background-position: center center;\n",
              "}\n",
              "\n",
              "/* Parallel-specific style estimator block */\n",
              "\n",
              "#sk-container-id-1 div.sk-parallel-item::after {\n",
              "  content: \"\";\n",
              "  width: 100%;\n",
              "  border-bottom: 2px solid var(--sklearn-color-text-on-default-background);\n",
              "  flex-grow: 1;\n",
              "}\n",
              "\n",
              "#sk-container-id-1 div.sk-parallel {\n",
              "  display: flex;\n",
              "  align-items: stretch;\n",
              "  justify-content: center;\n",
              "  background-color: var(--sklearn-color-background);\n",
              "  position: relative;\n",
              "}\n",
              "\n",
              "#sk-container-id-1 div.sk-parallel-item {\n",
              "  display: flex;\n",
              "  flex-direction: column;\n",
              "}\n",
              "\n",
              "#sk-container-id-1 div.sk-parallel-item:first-child::after {\n",
              "  align-self: flex-end;\n",
              "  width: 50%;\n",
              "}\n",
              "\n",
              "#sk-container-id-1 div.sk-parallel-item:last-child::after {\n",
              "  align-self: flex-start;\n",
              "  width: 50%;\n",
              "}\n",
              "\n",
              "#sk-container-id-1 div.sk-parallel-item:only-child::after {\n",
              "  width: 0;\n",
              "}\n",
              "\n",
              "/* Serial-specific style estimator block */\n",
              "\n",
              "#sk-container-id-1 div.sk-serial {\n",
              "  display: flex;\n",
              "  flex-direction: column;\n",
              "  align-items: center;\n",
              "  background-color: var(--sklearn-color-background);\n",
              "  padding-right: 1em;\n",
              "  padding-left: 1em;\n",
              "}\n",
              "\n",
              "\n",
              "/* Toggleable style: style used for estimator/Pipeline/ColumnTransformer box that is\n",
              "clickable and can be expanded/collapsed.\n",
              "- Pipeline and ColumnTransformer use this feature and define the default style\n",
              "- Estimators will overwrite some part of the style using the `sk-estimator` class\n",
              "*/\n",
              "\n",
              "/* Pipeline and ColumnTransformer style (default) */\n",
              "\n",
              "#sk-container-id-1 div.sk-toggleable {\n",
              "  /* Default theme specific background. It is overwritten whether we have a\n",
              "  specific estimator or a Pipeline/ColumnTransformer */\n",
              "  background-color: var(--sklearn-color-background);\n",
              "}\n",
              "\n",
              "/* Toggleable label */\n",
              "#sk-container-id-1 label.sk-toggleable__label {\n",
              "  cursor: pointer;\n",
              "  display: flex;\n",
              "  width: 100%;\n",
              "  margin-bottom: 0;\n",
              "  padding: 0.5em;\n",
              "  box-sizing: border-box;\n",
              "  text-align: center;\n",
              "  align-items: start;\n",
              "  justify-content: space-between;\n",
              "  gap: 0.5em;\n",
              "}\n",
              "\n",
              "#sk-container-id-1 label.sk-toggleable__label .caption {\n",
              "  font-size: 0.6rem;\n",
              "  font-weight: lighter;\n",
              "  color: var(--sklearn-color-text-muted);\n",
              "}\n",
              "\n",
              "#sk-container-id-1 label.sk-toggleable__label-arrow:before {\n",
              "  /* Arrow on the left of the label */\n",
              "  content: \"▸\";\n",
              "  float: left;\n",
              "  margin-right: 0.25em;\n",
              "  color: var(--sklearn-color-icon);\n",
              "}\n",
              "\n",
              "#sk-container-id-1 label.sk-toggleable__label-arrow:hover:before {\n",
              "  color: var(--sklearn-color-text);\n",
              "}\n",
              "\n",
              "/* Toggleable content - dropdown */\n",
              "\n",
              "#sk-container-id-1 div.sk-toggleable__content {\n",
              "  display: none;\n",
              "  text-align: left;\n",
              "  /* unfitted */\n",
              "  background-color: var(--sklearn-color-unfitted-level-0);\n",
              "}\n",
              "\n",
              "#sk-container-id-1 div.sk-toggleable__content.fitted {\n",
              "  /* fitted */\n",
              "  background-color: var(--sklearn-color-fitted-level-0);\n",
              "}\n",
              "\n",
              "#sk-container-id-1 div.sk-toggleable__content pre {\n",
              "  margin: 0.2em;\n",
              "  border-radius: 0.25em;\n",
              "  color: var(--sklearn-color-text);\n",
              "  /* unfitted */\n",
              "  background-color: var(--sklearn-color-unfitted-level-0);\n",
              "}\n",
              "\n",
              "#sk-container-id-1 div.sk-toggleable__content.fitted pre {\n",
              "  /* unfitted */\n",
              "  background-color: var(--sklearn-color-fitted-level-0);\n",
              "}\n",
              "\n",
              "#sk-container-id-1 input.sk-toggleable__control:checked~div.sk-toggleable__content {\n",
              "  /* Expand drop-down */\n",
              "  display: block;\n",
              "  width: 100%;\n",
              "  overflow: visible;\n",
              "}\n",
              "\n",
              "#sk-container-id-1 input.sk-toggleable__control:checked~label.sk-toggleable__label-arrow:before {\n",
              "  content: \"▾\";\n",
              "}\n",
              "\n",
              "/* Pipeline/ColumnTransformer-specific style */\n",
              "\n",
              "#sk-container-id-1 div.sk-label input.sk-toggleable__control:checked~label.sk-toggleable__label {\n",
              "  color: var(--sklearn-color-text);\n",
              "  background-color: var(--sklearn-color-unfitted-level-2);\n",
              "}\n",
              "\n",
              "#sk-container-id-1 div.sk-label.fitted input.sk-toggleable__control:checked~label.sk-toggleable__label {\n",
              "  background-color: var(--sklearn-color-fitted-level-2);\n",
              "}\n",
              "\n",
              "/* Estimator-specific style */\n",
              "\n",
              "/* Colorize estimator box */\n",
              "#sk-container-id-1 div.sk-estimator input.sk-toggleable__control:checked~label.sk-toggleable__label {\n",
              "  /* unfitted */\n",
              "  background-color: var(--sklearn-color-unfitted-level-2);\n",
              "}\n",
              "\n",
              "#sk-container-id-1 div.sk-estimator.fitted input.sk-toggleable__control:checked~label.sk-toggleable__label {\n",
              "  /* fitted */\n",
              "  background-color: var(--sklearn-color-fitted-level-2);\n",
              "}\n",
              "\n",
              "#sk-container-id-1 div.sk-label label.sk-toggleable__label,\n",
              "#sk-container-id-1 div.sk-label label {\n",
              "  /* The background is the default theme color */\n",
              "  color: var(--sklearn-color-text-on-default-background);\n",
              "}\n",
              "\n",
              "/* On hover, darken the color of the background */\n",
              "#sk-container-id-1 div.sk-label:hover label.sk-toggleable__label {\n",
              "  color: var(--sklearn-color-text);\n",
              "  background-color: var(--sklearn-color-unfitted-level-2);\n",
              "}\n",
              "\n",
              "/* Label box, darken color on hover, fitted */\n",
              "#sk-container-id-1 div.sk-label.fitted:hover label.sk-toggleable__label.fitted {\n",
              "  color: var(--sklearn-color-text);\n",
              "  background-color: var(--sklearn-color-fitted-level-2);\n",
              "}\n",
              "\n",
              "/* Estimator label */\n",
              "\n",
              "#sk-container-id-1 div.sk-label label {\n",
              "  font-family: monospace;\n",
              "  font-weight: bold;\n",
              "  display: inline-block;\n",
              "  line-height: 1.2em;\n",
              "}\n",
              "\n",
              "#sk-container-id-1 div.sk-label-container {\n",
              "  text-align: center;\n",
              "}\n",
              "\n",
              "/* Estimator-specific */\n",
              "#sk-container-id-1 div.sk-estimator {\n",
              "  font-family: monospace;\n",
              "  border: 1px dotted var(--sklearn-color-border-box);\n",
              "  border-radius: 0.25em;\n",
              "  box-sizing: border-box;\n",
              "  margin-bottom: 0.5em;\n",
              "  /* unfitted */\n",
              "  background-color: var(--sklearn-color-unfitted-level-0);\n",
              "}\n",
              "\n",
              "#sk-container-id-1 div.sk-estimator.fitted {\n",
              "  /* fitted */\n",
              "  background-color: var(--sklearn-color-fitted-level-0);\n",
              "}\n",
              "\n",
              "/* on hover */\n",
              "#sk-container-id-1 div.sk-estimator:hover {\n",
              "  /* unfitted */\n",
              "  background-color: var(--sklearn-color-unfitted-level-2);\n",
              "}\n",
              "\n",
              "#sk-container-id-1 div.sk-estimator.fitted:hover {\n",
              "  /* fitted */\n",
              "  background-color: var(--sklearn-color-fitted-level-2);\n",
              "}\n",
              "\n",
              "/* Specification for estimator info (e.g. \"i\" and \"?\") */\n",
              "\n",
              "/* Common style for \"i\" and \"?\" */\n",
              "\n",
              ".sk-estimator-doc-link,\n",
              "a:link.sk-estimator-doc-link,\n",
              "a:visited.sk-estimator-doc-link {\n",
              "  float: right;\n",
              "  font-size: smaller;\n",
              "  line-height: 1em;\n",
              "  font-family: monospace;\n",
              "  background-color: var(--sklearn-color-background);\n",
              "  border-radius: 1em;\n",
              "  height: 1em;\n",
              "  width: 1em;\n",
              "  text-decoration: none !important;\n",
              "  margin-left: 0.5em;\n",
              "  text-align: center;\n",
              "  /* unfitted */\n",
              "  border: var(--sklearn-color-unfitted-level-1) 1pt solid;\n",
              "  color: var(--sklearn-color-unfitted-level-1);\n",
              "}\n",
              "\n",
              ".sk-estimator-doc-link.fitted,\n",
              "a:link.sk-estimator-doc-link.fitted,\n",
              "a:visited.sk-estimator-doc-link.fitted {\n",
              "  /* fitted */\n",
              "  border: var(--sklearn-color-fitted-level-1) 1pt solid;\n",
              "  color: var(--sklearn-color-fitted-level-1);\n",
              "}\n",
              "\n",
              "/* On hover */\n",
              "div.sk-estimator:hover .sk-estimator-doc-link:hover,\n",
              ".sk-estimator-doc-link:hover,\n",
              "div.sk-label-container:hover .sk-estimator-doc-link:hover,\n",
              ".sk-estimator-doc-link:hover {\n",
              "  /* unfitted */\n",
              "  background-color: var(--sklearn-color-unfitted-level-3);\n",
              "  color: var(--sklearn-color-background);\n",
              "  text-decoration: none;\n",
              "}\n",
              "\n",
              "div.sk-estimator.fitted:hover .sk-estimator-doc-link.fitted:hover,\n",
              ".sk-estimator-doc-link.fitted:hover,\n",
              "div.sk-label-container:hover .sk-estimator-doc-link.fitted:hover,\n",
              ".sk-estimator-doc-link.fitted:hover {\n",
              "  /* fitted */\n",
              "  background-color: var(--sklearn-color-fitted-level-3);\n",
              "  color: var(--sklearn-color-background);\n",
              "  text-decoration: none;\n",
              "}\n",
              "\n",
              "/* Span, style for the box shown on hovering the info icon */\n",
              ".sk-estimator-doc-link span {\n",
              "  display: none;\n",
              "  z-index: 9999;\n",
              "  position: relative;\n",
              "  font-weight: normal;\n",
              "  right: .2ex;\n",
              "  padding: .5ex;\n",
              "  margin: .5ex;\n",
              "  width: min-content;\n",
              "  min-width: 20ex;\n",
              "  max-width: 50ex;\n",
              "  color: var(--sklearn-color-text);\n",
              "  box-shadow: 2pt 2pt 4pt #999;\n",
              "  /* unfitted */\n",
              "  background: var(--sklearn-color-unfitted-level-0);\n",
              "  border: .5pt solid var(--sklearn-color-unfitted-level-3);\n",
              "}\n",
              "\n",
              ".sk-estimator-doc-link.fitted span {\n",
              "  /* fitted */\n",
              "  background: var(--sklearn-color-fitted-level-0);\n",
              "  border: var(--sklearn-color-fitted-level-3);\n",
              "}\n",
              "\n",
              ".sk-estimator-doc-link:hover span {\n",
              "  display: block;\n",
              "}\n",
              "\n",
              "/* \"?\"-specific style due to the `<a>` HTML tag */\n",
              "\n",
              "#sk-container-id-1 a.estimator_doc_link {\n",
              "  float: right;\n",
              "  font-size: 1rem;\n",
              "  line-height: 1em;\n",
              "  font-family: monospace;\n",
              "  background-color: var(--sklearn-color-background);\n",
              "  border-radius: 1rem;\n",
              "  height: 1rem;\n",
              "  width: 1rem;\n",
              "  text-decoration: none;\n",
              "  /* unfitted */\n",
              "  color: var(--sklearn-color-unfitted-level-1);\n",
              "  border: var(--sklearn-color-unfitted-level-1) 1pt solid;\n",
              "}\n",
              "\n",
              "#sk-container-id-1 a.estimator_doc_link.fitted {\n",
              "  /* fitted */\n",
              "  border: var(--sklearn-color-fitted-level-1) 1pt solid;\n",
              "  color: var(--sklearn-color-fitted-level-1);\n",
              "}\n",
              "\n",
              "/* On hover */\n",
              "#sk-container-id-1 a.estimator_doc_link:hover {\n",
              "  /* unfitted */\n",
              "  background-color: var(--sklearn-color-unfitted-level-3);\n",
              "  color: var(--sklearn-color-background);\n",
              "  text-decoration: none;\n",
              "}\n",
              "\n",
              "#sk-container-id-1 a.estimator_doc_link.fitted:hover {\n",
              "  /* fitted */\n",
              "  background-color: var(--sklearn-color-fitted-level-3);\n",
              "}\n",
              "\n",
              ".estimator-table summary {\n",
              "    padding: .5rem;\n",
              "    font-family: monospace;\n",
              "    cursor: pointer;\n",
              "}\n",
              "\n",
              ".estimator-table details[open] {\n",
              "    padding-left: 0.1rem;\n",
              "    padding-right: 0.1rem;\n",
              "    padding-bottom: 0.3rem;\n",
              "}\n",
              "\n",
              ".estimator-table .parameters-table {\n",
              "    margin-left: auto !important;\n",
              "    margin-right: auto !important;\n",
              "}\n",
              "\n",
              ".estimator-table .parameters-table tr:nth-child(odd) {\n",
              "    background-color: #fff;\n",
              "}\n",
              "\n",
              ".estimator-table .parameters-table tr:nth-child(even) {\n",
              "    background-color: #f6f6f6;\n",
              "}\n",
              "\n",
              ".estimator-table .parameters-table tr:hover {\n",
              "    background-color: #e0e0e0;\n",
              "}\n",
              "\n",
              ".estimator-table table td {\n",
              "    border: 1px solid rgba(106, 105, 104, 0.232);\n",
              "}\n",
              "\n",
              ".user-set td {\n",
              "    color:rgb(255, 94, 0);\n",
              "    text-align: left;\n",
              "}\n",
              "\n",
              ".user-set td.value pre {\n",
              "    color:rgb(255, 94, 0) !important;\n",
              "    background-color: transparent !important;\n",
              "}\n",
              "\n",
              ".default td {\n",
              "    color: black;\n",
              "    text-align: left;\n",
              "}\n",
              "\n",
              ".user-set td i,\n",
              ".default td i {\n",
              "    color: black;\n",
              "}\n",
              "\n",
              ".copy-paste-icon {\n",
              "    background-image: url(data:image/svg+xml;base64,PHN2ZyB4bWxucz0iaHR0cDovL3d3dy53My5vcmcvMjAwMC9zdmciIHZpZXdCb3g9IjAgMCA0NDggNTEyIj48IS0tIUZvbnQgQXdlc29tZSBGcmVlIDYuNy4yIGJ5IEBmb250YXdlc29tZSAtIGh0dHBzOi8vZm9udGF3ZXNvbWUuY29tIExpY2Vuc2UgLSBodHRwczovL2ZvbnRhd2Vzb21lLmNvbS9saWNlbnNlL2ZyZWUgQ29weXJpZ2h0IDIwMjUgRm9udGljb25zLCBJbmMuLS0+PHBhdGggZD0iTTIwOCAwTDMzMi4xIDBjMTIuNyAwIDI0LjkgNS4xIDMzLjkgMTQuMWw2Ny45IDY3LjljOSA5IDE0LjEgMjEuMiAxNC4xIDMzLjlMNDQ4IDMzNmMwIDI2LjUtMjEuNSA0OC00OCA0OGwtMTkyIDBjLTI2LjUgMC00OC0yMS41LTQ4LTQ4bDAtMjg4YzAtMjYuNSAyMS41LTQ4IDQ4LTQ4ek00OCAxMjhsODAgMCAwIDY0LTY0IDAgMCAyNTYgMTkyIDAgMC0zMiA2NCAwIDAgNDhjMCAyNi41LTIxLjUgNDgtNDggNDhMNDggNTEyYy0yNi41IDAtNDgtMjEuNS00OC00OEwwIDE3NmMwLTI2LjUgMjEuNS00OCA0OC00OHoiLz48L3N2Zz4=);\n",
              "    background-repeat: no-repeat;\n",
              "    background-size: 14px 14px;\n",
              "    background-position: 0;\n",
              "    display: inline-block;\n",
              "    width: 14px;\n",
              "    height: 14px;\n",
              "    cursor: pointer;\n",
              "}\n",
              "</style><body><div id=\"sk-container-id-1\" class=\"sk-top-container\"><div class=\"sk-text-repr-fallback\"><pre>TfidfVectorizer(max_features=10000,\n",
              "                stop_words=[&#x27;máximo&#x27;, &#x27;suas&#x27;, &#x27;ora&#x27;, &#x27;onde&#x27;, &#x27;demais&#x27;,\n",
              "                            &#x27;caminho&#x27;, &#x27;números&#x27;, &#x27;com&#x27;, &#x27;mil&#x27;, &#x27;sob&#x27;, &#x27;vossos&#x27;,\n",
              "                            &#x27;te&#x27;, &#x27;custa&#x27;, &#x27;lado&#x27;, &#x27;menos&#x27;, &#x27;seu&#x27;, &#x27;se&#x27;,\n",
              "                            &#x27;quarto&#x27;, &#x27;perto&#x27;, &#x27;ele&#x27;, &#x27;todos&#x27;, &#x27;sete&#x27;, &#x27;dois&#x27;,\n",
              "                            &#x27;puderam&#x27;, &#x27;porém&#x27;, &#x27;local&#x27;, &#x27;estiveste&#x27;, &#x27;toda&#x27;,\n",
              "                            &#x27;na&#x27;, &#x27;estivestes&#x27;, ...])</pre><b>In a Jupyter environment, please rerun this cell to show the HTML representation or trust the notebook. <br />On GitHub, the HTML representation is unable to render, please try loading this page with nbviewer.org.</b></div><div class=\"sk-container\" hidden><div class=\"sk-item\"><div class=\"sk-estimator fitted sk-toggleable\"><input class=\"sk-toggleable__control sk-hidden--visually\" id=\"sk-estimator-id-1\" type=\"checkbox\" checked><label for=\"sk-estimator-id-1\" class=\"sk-toggleable__label fitted sk-toggleable__label-arrow\"><div><div>TfidfVectorizer</div></div><div><a class=\"sk-estimator-doc-link fitted\" rel=\"noreferrer\" target=\"_blank\" href=\"https://scikit-learn.org/1.7/modules/generated/sklearn.feature_extraction.text.TfidfVectorizer.html\">?<span>Documentation for TfidfVectorizer</span></a><span class=\"sk-estimator-doc-link fitted\">i<span>Fitted</span></span></div></label><div class=\"sk-toggleable__content fitted\" data-param-prefix=\"\">\n",
              "        <div class=\"estimator-table\">\n",
              "            <details>\n",
              "                <summary>Parameters</summary>\n",
              "                <table class=\"parameters-table\">\n",
              "                  <tbody>\n",
              "                    \n",
              "        <tr class=\"default\">\n",
              "            <td><i class=\"copy-paste-icon\"\n",
              "                 onclick=\"copyToClipboard('input',\n",
              "                          this.parentElement.nextElementSibling)\"\n",
              "            ></i></td>\n",
              "            <td class=\"param\">input&nbsp;</td>\n",
              "            <td class=\"value\">&#x27;content&#x27;</td>\n",
              "        </tr>\n",
              "    \n",
              "\n",
              "        <tr class=\"default\">\n",
              "            <td><i class=\"copy-paste-icon\"\n",
              "                 onclick=\"copyToClipboard('encoding',\n",
              "                          this.parentElement.nextElementSibling)\"\n",
              "            ></i></td>\n",
              "            <td class=\"param\">encoding&nbsp;</td>\n",
              "            <td class=\"value\">&#x27;utf-8&#x27;</td>\n",
              "        </tr>\n",
              "    \n",
              "\n",
              "        <tr class=\"default\">\n",
              "            <td><i class=\"copy-paste-icon\"\n",
              "                 onclick=\"copyToClipboard('decode_error',\n",
              "                          this.parentElement.nextElementSibling)\"\n",
              "            ></i></td>\n",
              "            <td class=\"param\">decode_error&nbsp;</td>\n",
              "            <td class=\"value\">&#x27;strict&#x27;</td>\n",
              "        </tr>\n",
              "    \n",
              "\n",
              "        <tr class=\"default\">\n",
              "            <td><i class=\"copy-paste-icon\"\n",
              "                 onclick=\"copyToClipboard('strip_accents',\n",
              "                          this.parentElement.nextElementSibling)\"\n",
              "            ></i></td>\n",
              "            <td class=\"param\">strip_accents&nbsp;</td>\n",
              "            <td class=\"value\">None</td>\n",
              "        </tr>\n",
              "    \n",
              "\n",
              "        <tr class=\"default\">\n",
              "            <td><i class=\"copy-paste-icon\"\n",
              "                 onclick=\"copyToClipboard('lowercase',\n",
              "                          this.parentElement.nextElementSibling)\"\n",
              "            ></i></td>\n",
              "            <td class=\"param\">lowercase&nbsp;</td>\n",
              "            <td class=\"value\">True</td>\n",
              "        </tr>\n",
              "    \n",
              "\n",
              "        <tr class=\"default\">\n",
              "            <td><i class=\"copy-paste-icon\"\n",
              "                 onclick=\"copyToClipboard('preprocessor',\n",
              "                          this.parentElement.nextElementSibling)\"\n",
              "            ></i></td>\n",
              "            <td class=\"param\">preprocessor&nbsp;</td>\n",
              "            <td class=\"value\">None</td>\n",
              "        </tr>\n",
              "    \n",
              "\n",
              "        <tr class=\"default\">\n",
              "            <td><i class=\"copy-paste-icon\"\n",
              "                 onclick=\"copyToClipboard('tokenizer',\n",
              "                          this.parentElement.nextElementSibling)\"\n",
              "            ></i></td>\n",
              "            <td class=\"param\">tokenizer&nbsp;</td>\n",
              "            <td class=\"value\">None</td>\n",
              "        </tr>\n",
              "    \n",
              "\n",
              "        <tr class=\"default\">\n",
              "            <td><i class=\"copy-paste-icon\"\n",
              "                 onclick=\"copyToClipboard('analyzer',\n",
              "                          this.parentElement.nextElementSibling)\"\n",
              "            ></i></td>\n",
              "            <td class=\"param\">analyzer&nbsp;</td>\n",
              "            <td class=\"value\">&#x27;word&#x27;</td>\n",
              "        </tr>\n",
              "    \n",
              "\n",
              "        <tr class=\"user-set\">\n",
              "            <td><i class=\"copy-paste-icon\"\n",
              "                 onclick=\"copyToClipboard('stop_words',\n",
              "                          this.parentElement.nextElementSibling)\"\n",
              "            ></i></td>\n",
              "            <td class=\"param\">stop_words&nbsp;</td>\n",
              "            <td class=\"value\">[&#x27;máximo&#x27;, &#x27;suas&#x27;, ...]</td>\n",
              "        </tr>\n",
              "    \n",
              "\n",
              "        <tr class=\"default\">\n",
              "            <td><i class=\"copy-paste-icon\"\n",
              "                 onclick=\"copyToClipboard('token_pattern',\n",
              "                          this.parentElement.nextElementSibling)\"\n",
              "            ></i></td>\n",
              "            <td class=\"param\">token_pattern&nbsp;</td>\n",
              "            <td class=\"value\">&#x27;(?u)\\\\b\\\\w\\\\w+\\\\b&#x27;</td>\n",
              "        </tr>\n",
              "    \n",
              "\n",
              "        <tr class=\"default\">\n",
              "            <td><i class=\"copy-paste-icon\"\n",
              "                 onclick=\"copyToClipboard('ngram_range',\n",
              "                          this.parentElement.nextElementSibling)\"\n",
              "            ></i></td>\n",
              "            <td class=\"param\">ngram_range&nbsp;</td>\n",
              "            <td class=\"value\">(1, ...)</td>\n",
              "        </tr>\n",
              "    \n",
              "\n",
              "        <tr class=\"default\">\n",
              "            <td><i class=\"copy-paste-icon\"\n",
              "                 onclick=\"copyToClipboard('max_df',\n",
              "                          this.parentElement.nextElementSibling)\"\n",
              "            ></i></td>\n",
              "            <td class=\"param\">max_df&nbsp;</td>\n",
              "            <td class=\"value\">1.0</td>\n",
              "        </tr>\n",
              "    \n",
              "\n",
              "        <tr class=\"default\">\n",
              "            <td><i class=\"copy-paste-icon\"\n",
              "                 onclick=\"copyToClipboard('min_df',\n",
              "                          this.parentElement.nextElementSibling)\"\n",
              "            ></i></td>\n",
              "            <td class=\"param\">min_df&nbsp;</td>\n",
              "            <td class=\"value\">1</td>\n",
              "        </tr>\n",
              "    \n",
              "\n",
              "        <tr class=\"user-set\">\n",
              "            <td><i class=\"copy-paste-icon\"\n",
              "                 onclick=\"copyToClipboard('max_features',\n",
              "                          this.parentElement.nextElementSibling)\"\n",
              "            ></i></td>\n",
              "            <td class=\"param\">max_features&nbsp;</td>\n",
              "            <td class=\"value\">10000</td>\n",
              "        </tr>\n",
              "    \n",
              "\n",
              "        <tr class=\"default\">\n",
              "            <td><i class=\"copy-paste-icon\"\n",
              "                 onclick=\"copyToClipboard('vocabulary',\n",
              "                          this.parentElement.nextElementSibling)\"\n",
              "            ></i></td>\n",
              "            <td class=\"param\">vocabulary&nbsp;</td>\n",
              "            <td class=\"value\">None</td>\n",
              "        </tr>\n",
              "    \n",
              "\n",
              "        <tr class=\"default\">\n",
              "            <td><i class=\"copy-paste-icon\"\n",
              "                 onclick=\"copyToClipboard('binary',\n",
              "                          this.parentElement.nextElementSibling)\"\n",
              "            ></i></td>\n",
              "            <td class=\"param\">binary&nbsp;</td>\n",
              "            <td class=\"value\">False</td>\n",
              "        </tr>\n",
              "    \n",
              "\n",
              "        <tr class=\"default\">\n",
              "            <td><i class=\"copy-paste-icon\"\n",
              "                 onclick=\"copyToClipboard('dtype',\n",
              "                          this.parentElement.nextElementSibling)\"\n",
              "            ></i></td>\n",
              "            <td class=\"param\">dtype&nbsp;</td>\n",
              "            <td class=\"value\">&lt;class &#x27;numpy.float64&#x27;&gt;</td>\n",
              "        </tr>\n",
              "    \n",
              "\n",
              "        <tr class=\"default\">\n",
              "            <td><i class=\"copy-paste-icon\"\n",
              "                 onclick=\"copyToClipboard('norm',\n",
              "                          this.parentElement.nextElementSibling)\"\n",
              "            ></i></td>\n",
              "            <td class=\"param\">norm&nbsp;</td>\n",
              "            <td class=\"value\">&#x27;l2&#x27;</td>\n",
              "        </tr>\n",
              "    \n",
              "\n",
              "        <tr class=\"default\">\n",
              "            <td><i class=\"copy-paste-icon\"\n",
              "                 onclick=\"copyToClipboard('use_idf',\n",
              "                          this.parentElement.nextElementSibling)\"\n",
              "            ></i></td>\n",
              "            <td class=\"param\">use_idf&nbsp;</td>\n",
              "            <td class=\"value\">True</td>\n",
              "        </tr>\n",
              "    \n",
              "\n",
              "        <tr class=\"default\">\n",
              "            <td><i class=\"copy-paste-icon\"\n",
              "                 onclick=\"copyToClipboard('smooth_idf',\n",
              "                          this.parentElement.nextElementSibling)\"\n",
              "            ></i></td>\n",
              "            <td class=\"param\">smooth_idf&nbsp;</td>\n",
              "            <td class=\"value\">True</td>\n",
              "        </tr>\n",
              "    \n",
              "\n",
              "        <tr class=\"default\">\n",
              "            <td><i class=\"copy-paste-icon\"\n",
              "                 onclick=\"copyToClipboard('sublinear_tf',\n",
              "                          this.parentElement.nextElementSibling)\"\n",
              "            ></i></td>\n",
              "            <td class=\"param\">sublinear_tf&nbsp;</td>\n",
              "            <td class=\"value\">False</td>\n",
              "        </tr>\n",
              "    \n",
              "                  </tbody>\n",
              "                </table>\n",
              "            </details>\n",
              "        </div>\n",
              "    </div></div></div></div></div><script>function copyToClipboard(text, element) {\n",
              "    // Get the parameter prefix from the closest toggleable content\n",
              "    const toggleableContent = element.closest('.sk-toggleable__content');\n",
              "    const paramPrefix = toggleableContent ? toggleableContent.dataset.paramPrefix : '';\n",
              "    const fullParamName = paramPrefix ? `${paramPrefix}${text}` : text;\n",
              "\n",
              "    const originalStyle = element.style;\n",
              "    const computedStyle = window.getComputedStyle(element);\n",
              "    const originalWidth = computedStyle.width;\n",
              "    const originalHTML = element.innerHTML.replace('Copied!', '');\n",
              "\n",
              "    navigator.clipboard.writeText(fullParamName)\n",
              "        .then(() => {\n",
              "            element.style.width = originalWidth;\n",
              "            element.style.color = 'green';\n",
              "            element.innerHTML = \"Copied!\";\n",
              "\n",
              "            setTimeout(() => {\n",
              "                element.innerHTML = originalHTML;\n",
              "                element.style = originalStyle;\n",
              "            }, 2000);\n",
              "        })\n",
              "        .catch(err => {\n",
              "            console.error('Failed to copy:', err);\n",
              "            element.style.color = 'red';\n",
              "            element.innerHTML = \"Failed!\";\n",
              "            setTimeout(() => {\n",
              "                element.innerHTML = originalHTML;\n",
              "                element.style = originalStyle;\n",
              "            }, 2000);\n",
              "        });\n",
              "    return false;\n",
              "}\n",
              "\n",
              "document.querySelectorAll('.fa-regular.fa-copy').forEach(function(element) {\n",
              "    const toggleableContent = element.closest('.sk-toggleable__content');\n",
              "    const paramPrefix = toggleableContent ? toggleableContent.dataset.paramPrefix : '';\n",
              "    const paramName = element.parentElement.nextElementSibling.textContent.trim();\n",
              "    const fullParamName = paramPrefix ? `${paramPrefix}${paramName}` : paramName;\n",
              "\n",
              "    element.setAttribute('title', fullParamName);\n",
              "});\n",
              "</script></body>"
            ],
            "text/plain": [
              "TfidfVectorizer(max_features=10000,\n",
              "                stop_words=['máximo', 'suas', 'ora', 'onde', 'demais',\n",
              "                            'caminho', 'números', 'com', 'mil', 'sob', 'vossos',\n",
              "                            'te', 'custa', 'lado', 'menos', 'seu', 'se',\n",
              "                            'quarto', 'perto', 'ele', 'todos', 'sete', 'dois',\n",
              "                            'puderam', 'porém', 'local', 'estiveste', 'toda',\n",
              "                            'na', 'estivestes', ...])"
            ]
          },
          "execution_count": 38,
          "metadata": {},
          "output_type": "execute_result"
        }
      ],
      "source": [
        "from sklearn.feature_extraction.text import TfidfVectorizer\n",
        "\n",
        "\n",
        "tfidf_vectorizer = TfidfVectorizer(stop_words=list(nlp.Defaults.stop_words), max_features=10000)\n",
        "\n",
        "tfidf_vectorizer.fit(denuncias_limpas_v2)\n"
      ]
    },
    {
      "cell_type": "code",
      "execution_count": 42,
      "metadata": {},
      "outputs": [
        {
          "name": "stdout",
          "output_type": "stream",
          "text": [
            "(15415, 10000)\n",
            "48\n"
          ]
        }
      ],
      "source": [
        "import sys\n",
        "\n",
        "\n",
        "tfidf_vectors = tfidf_vectorizer.transform(denuncias_limpas_v2)\n",
        "print(tfidf_vectors.shape)\n",
        "\n",
        "memory_size_tfidf = sys.getsizeof(tfidf_vectors)\n",
        "print(memory_size_tfidf)\n",
        "tfidf_vectors = tfidf_vectors.toarray()"
      ]
    },
    {
      "cell_type": "code",
      "execution_count": 46,
      "metadata": {},
      "outputs": [
        {
          "name": "stdout",
          "output_type": "stream",
          "text": [
            "0        central segurança 99 callcenter terceirizar ig...\n",
            "1        empresa falar saúde mental taxa gigantesca pes...\n",
            "2        liderança tóxico diretor comunicação marketing...\n",
            "3        completamente delulus absurdamente realidade a...\n",
            "4        contratar funcionário terceirizar menosprezar ...\n",
            "                               ...                        \n",
            "15412    gerente coordenador pessoa podre algum sentido...\n",
            "15413    empresa extremamente tóxico ceo achar especial...\n",
            "15414    demitir obrigar mandar pix pra empresa alegar ...\n",
            "15415    jovens aprendiz sujeitar submeter trabalho ext...\n",
            "15416    empresa assinar carteiro pagar funcionário sal...\n",
            "Name: input_text, Length: 15415, dtype: object\n"
          ]
        }
      ],
      "source": [
        "type(list(denuncias_limpas_v2))\n",
        "print(denuncias_limpas_v2)"
      ]
    },
    {
      "cell_type": "code",
      "execution_count": 64,
      "metadata": {},
      "outputs": [],
      "source": [
        "import numpy as np\n",
        "from sklearn.feature_extraction.text import CountVectorizer\n",
        "\n",
        "\n",
        "count_vectorizer = CountVectorizer(stop_words=list(nlp.Defaults.stop_words), max_features=10000)\n",
        "A = count_vectorizer.fit_transform(list(denuncias_limpas_v2))\n",
        "count_vectors = count_vectorizer.transform(list(denuncias_limpas_v2))\n",
        "\n",
        "U, s, Vh = np.linalg.svd(A.toarray(), full_matrices=False)"
      ]
    },
    {
      "cell_type": "code",
      "execution_count": 66,
      "metadata": {},
      "outputs": [
        {
          "data": {
            "text/plain": [
              "array([184.27661111,  85.51164791,  80.57311767,  73.47679065,\n",
              "        63.56279178])"
            ]
          },
          "execution_count": 66,
          "metadata": {},
          "output_type": "execute_result"
        }
      ],
      "source": [
        "\n",
        "s[:5]"
      ]
    },
    {
      "cell_type": "code",
      "execution_count": 67,
      "metadata": {},
      "outputs": [],
      "source": [
        "from typing import List\n",
        "import numpy as np\n",
        "\n",
        "\n",
        "def display_topics(\n",
        "    topic_matrix: np.ndarray, num_top_words: int, vocabulary: List[str]\n",
        ") -> List[str]:\n",
        "    \"\"\"\n",
        "    This function takes a topic matrix, a number of top words, and a vocabulary list,\n",
        "    and returns a list of topics with their top words.\n",
        "\n",
        "    Args:\n",
        "        topic_matrix (np.ndarray): The matrix representing the topics.\n",
        "        num_top_words (int): The number of top words to be displayed for each topic.\n",
        "        vocabulary (List[str]): The list of words in the vocabulary.\n",
        "\n",
        "    Returns:\n",
        "        List[str]: A list of topics with their top words.\n",
        "    \"\"\"\n",
        "\n",
        "    # Function to get top words for a topic\n",
        "    def get_top_words(topic: np.ndarray) -> List[str]:\n",
        "        # np.argsort returns the indices that would sort the topic array.\n",
        "        # We reverse the array with [::-1] to get the indices of the top words first,\n",
        "        # and we slice the array with [:-num_top_words-1:-1] to get only the top words.\n",
        "        return [vocabulary[i] for i in np.argsort(topic)[: -num_top_words - 1 : -1]]\n",
        "\n",
        "    # Get top words for each topic in the topic matrix\n",
        "    # This creates a list of lists, where each inner list contains the top words for a topic\n",
        "    topics_top_words = [get_top_words(topic) for topic in topic_matrix]\n",
        "\n",
        "    # Join the words of each topic into a single string\n",
        "    # This creates a list of strings, where each string represents a topic with its top words\n",
        "    return [\" \".join(topic) for topic in topics_top_words]"
      ]
    },
    {
      "cell_type": "code",
      "execution_count": null,
      "metadata": {},
      "outputs": [
        {
          "data": {
            "text/plain": [
              "['toxic curiosidade vendida merde estrago',\n",
              " 'pra trabalhar pessoa hora ficar',\n",
              " 'empresa pra pessoa nao falar',\n",
              " 'pra empresa pagar funcionário hora',\n",
              " 'pessoa funcionário pra empresa cliente',\n",
              " 'trabalhar pessoa hora pagar funcionário',\n",
              " 'assédio moral trabalhar rh gerente',\n",
              " 'ficar falar nao outro cliente',\n",
              " 'salário pagar hora assédio cargo',\n",
              " 'liderança trabalhar tóxico salário ambiente']"
            ]
          },
          "execution_count": 68,
          "metadata": {},
          "output_type": "execute_result"
        }
      ],
      "source": [
        "# Define the number of top words to display for each topic\n",
        "num_top_words = 5\n",
        "\n",
        "# Extract the vocabulary from the CountVectorizer\n",
        "# get_feature_names_out returns an array of feature names (tokens) in the order they appear in the matrix\n",
        "vocab = np.array(count_vectorizer.get_feature_names_out())\n",
        "\n",
        "# Display the top words for the first 10 topics in the Vh matrix\n",
        "# Vh contains the right singular vectors from the SVD of the count_vectors matrix\n",
        "# Each row in Vh represents a topic, and each column represents a token\n",
        "# The function display_topics will return a list of topics with their top words\n",
        "display_topics(Vh[:10], num_top_words, vocab)"
      ]
    },
    {
      "cell_type": "code",
      "execution_count": 74,
      "metadata": {},
      "outputs": [],
      "source": [
        "# Import the NMF (Non-Negative Matrix Factorization) class from the sklearn.decomposition module\n",
        "from sklearn.decomposition import NMF\n",
        "\n",
        "# Define the number of topics to extract\n",
        "# d is the number of topics we want to identify in the documents\n",
        "d = 7  # number of topics\n",
        "\n",
        "# Initialize the NMF model with the specified number of components (topics)\n",
        "# - n_components: Number of topics to extract\n",
        "# - init: Initialization method for the algorithm ('random' initializes the factors randomly)\n",
        "# - random_state: Seed for the random number generator to ensure reproducibility\n",
        "nmf_model = NMF(n_components=d, init=\"random\", random_state=271828)\n",
        "\n",
        "# Fit the NMF model to the count_vectors matrix and transform it\n",
        "# This decomposes the document-term matrix into two lower-dimensional matrices:\n",
        "# - W: Document-topic matrix, where each row represents a document and each column represents a topic\n",
        "# - H: Topic-term matrix, where each row represents a topic and each column represents a term (token)\n",
        "W = nmf_model.fit_transform(count_vectors)\n",
        "\n",
        "# Extract the topic-term matrix from the NMF model\n",
        "# H contains the weights of each term (token) for each topic\n",
        "H = nmf_model.components_"
      ]
    },
    {
      "cell_type": "code",
      "execution_count": 75,
      "metadata": {},
      "outputs": [
        {
          "data": {
            "text/plain": [
              "['ficar falar outro querer gerente',\n",
              " 'pessoa cargo gestão liderança demitir',\n",
              " 'trabalho assédio liderança moral ambiente',\n",
              " 'funcionário pagar salário cliente gestão',\n",
              " 'empresa dono ano colaborador cultura',\n",
              " 'pra gente vc pro mundo',\n",
              " 'trabalhar hora pagar dia extra']"
            ]
          },
          "execution_count": 75,
          "metadata": {},
          "output_type": "execute_result"
        }
      ],
      "source": [
        "display_topics(H, num_top_words, vocab)"
      ]
    },
    {
      "cell_type": "markdown",
      "metadata": {},
      "source": [
        "### Usando o BERTopic"
      ]
    },
    {
      "cell_type": "code",
      "execution_count": null,
      "metadata": {},
      "outputs": [],
      "source": [
        "!pip install bertopic\n"
      ]
    },
    {
      "cell_type": "code",
      "execution_count": null,
      "metadata": {},
      "outputs": [],
      "source": [
        "from bertopic import BERTopic\n",
        "from bertopic.vectorizers import ClassTfidfTransformer\n",
        "from bertopic.representation import MaximalMarginalRelevance\n",
        "from sklearn.feature_extraction.text import CountVectorizer\n",
        "\n",
        "from sklearn.pipeline import make_pipeline\n",
        "from sklearn.decomposition import TruncatedSVD\n",
        "from sklearn.feature_extraction.text import TfidfVectorizer\n",
        "import re"
      ]
    }
  ],
  "metadata": {
    "colab": {
      "provenance": []
    },
    "kernelspec": {
      "display_name": "Python 3",
      "name": "python3"
    },
    "language_info": {
      "codemirror_mode": {
        "name": "ipython",
        "version": 3
      },
      "file_extension": ".py",
      "mimetype": "text/x-python",
      "name": "python",
      "nbconvert_exporter": "python",
      "pygments_lexer": "ipython3",
      "version": "3.12.8"
    }
  },
  "nbformat": 4,
  "nbformat_minor": 0
}
